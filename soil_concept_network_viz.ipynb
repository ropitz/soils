{
  "cells": [
    {
      "cell_type": "markdown",
      "metadata": {
        "id": "view-in-github",
        "colab_type": "text"
      },
      "source": [
        "<a href=\"https://colab.research.google.com/github/ropitz/soils/blob/main/soil_concept_network_viz.ipynb\" target=\"_parent\"><img src=\"https://colab.research.google.com/assets/colab-badge.svg\" alt=\"Open In Colab\"/></a>"
      ]
    },
    {
      "cell_type": "markdown",
      "metadata": {
        "tags": [
          "hide_input"
        ],
        "id": "p80_FwLQUsQ7"
      },
      "source": [
        "# Make an Interactive Network Visualization with Bokeh"
      ]
    },
    {
      "cell_type": "markdown",
      "metadata": {
        "id": "mMIGpbGQUsQ9"
      },
      "source": [
        "## Dataset"
      ]
    },
    {
      "cell_type": "markdown",
      "metadata": {
        "id": "hnNogs8WUsRD"
      },
      "source": [
        "## Import Libraries"
      ]
    },
    {
      "cell_type": "code",
      "execution_count": 34,
      "metadata": {
        "id": "is8MRV-zUsRD"
      },
      "outputs": [],
      "source": [
        "import pandas as pd\n",
        "import networkx\n",
        "import matplotlib.pyplot as plt\n",
        "import numpy as np"
      ]
    },
    {
      "cell_type": "markdown",
      "metadata": {
        "id": "UFTctB3TUsRE"
      },
      "source": [
        "## Install and Import Bokeh"
      ]
    },
    {
      "cell_type": "code",
      "execution_count": 35,
      "metadata": {
        "id": "Fda5ym45UsRE"
      },
      "outputs": [],
      "source": [
        "#!pip install bokeh"
      ]
    },
    {
      "cell_type": "code",
      "execution_count": 36,
      "metadata": {
        "id": "0V6FsPrXUsRF"
      },
      "outputs": [],
      "source": [
        "from bokeh.io import output_notebook, show, save"
      ]
    },
    {
      "cell_type": "markdown",
      "metadata": {
        "id": "moUA6hhbUsRF"
      },
      "source": [
        "To view interactive Bokeh visualizations in a Jupyter notebook, you need to run this cell:"
      ]
    },
    {
      "cell_type": "code",
      "execution_count": 37,
      "metadata": {
        "id": "ZSk6DQEZUsRF"
      },
      "outputs": [],
      "source": [
        "output_notebook()"
      ]
    },
    {
      "cell_type": "markdown",
      "metadata": {
        "id": "nS1fMJdcUsRG"
      },
      "source": [
        "## Create Network From Pandas DataFrame"
      ]
    },
    {
      "cell_type": "code",
      "execution_count": 38,
      "metadata": {
        "id": "gz-Z54TAUsRG"
      },
      "outputs": [],
      "source": [
        "got_df = pd.read_csv('https://raw.githubusercontent.com/ropitz/soils/main/summary_concept_maps.csv')"
      ]
    },
    {
      "cell_type": "code",
      "execution_count": 39,
      "metadata": {
        "colab": {
          "base_uri": "https://localhost:8080/",
          "height": 423
        },
        "id": "-MfcphulUsRH",
        "outputId": "2b933529-a050-4724-ee3d-2e4deec9afee"
      },
      "outputs": [
        {
          "output_type": "execute_result",
          "data": {
            "text/plain": [
              "         technica                                  concept\n",
              "0    Acidity (pH)        Capturing Critical Zone processes\n",
              "1    Acidity (pH)                                  Erosion\n",
              "2    Acidity (pH)           Evidencing ecosystem processes\n",
              "3    Acidity (pH)           Evidencing ecosystem processes\n",
              "4    Acidity (pH)  Evidencing human-ecosystem interactions\n",
              "..            ...                                      ...\n",
              "189       Texture            Supporting a living ecosystem\n",
              "190       Texture                 Sustaining animal health\n",
              "191       Texture                  Sustaining human health\n",
              "192       Texture                  Sustaining plant health\n",
              "193       Texture                  Sustaining plant health\n",
              "\n",
              "[194 rows x 2 columns]"
            ],
            "text/html": [
              "\n",
              "  <div id=\"df-2b130774-ecd8-47e0-80bf-cff3c994f8dc\">\n",
              "    <div class=\"colab-df-container\">\n",
              "      <div>\n",
              "<style scoped>\n",
              "    .dataframe tbody tr th:only-of-type {\n",
              "        vertical-align: middle;\n",
              "    }\n",
              "\n",
              "    .dataframe tbody tr th {\n",
              "        vertical-align: top;\n",
              "    }\n",
              "\n",
              "    .dataframe thead th {\n",
              "        text-align: right;\n",
              "    }\n",
              "</style>\n",
              "<table border=\"1\" class=\"dataframe\">\n",
              "  <thead>\n",
              "    <tr style=\"text-align: right;\">\n",
              "      <th></th>\n",
              "      <th>technica</th>\n",
              "      <th>concept</th>\n",
              "    </tr>\n",
              "  </thead>\n",
              "  <tbody>\n",
              "    <tr>\n",
              "      <th>0</th>\n",
              "      <td>Acidity (pH)</td>\n",
              "      <td>Capturing Critical Zone processes</td>\n",
              "    </tr>\n",
              "    <tr>\n",
              "      <th>1</th>\n",
              "      <td>Acidity (pH)</td>\n",
              "      <td>Erosion</td>\n",
              "    </tr>\n",
              "    <tr>\n",
              "      <th>2</th>\n",
              "      <td>Acidity (pH)</td>\n",
              "      <td>Evidencing ecosystem processes</td>\n",
              "    </tr>\n",
              "    <tr>\n",
              "      <th>3</th>\n",
              "      <td>Acidity (pH)</td>\n",
              "      <td>Evidencing ecosystem processes</td>\n",
              "    </tr>\n",
              "    <tr>\n",
              "      <th>4</th>\n",
              "      <td>Acidity (pH)</td>\n",
              "      <td>Evidencing human-ecosystem interactions</td>\n",
              "    </tr>\n",
              "    <tr>\n",
              "      <th>...</th>\n",
              "      <td>...</td>\n",
              "      <td>...</td>\n",
              "    </tr>\n",
              "    <tr>\n",
              "      <th>189</th>\n",
              "      <td>Texture</td>\n",
              "      <td>Supporting a living ecosystem</td>\n",
              "    </tr>\n",
              "    <tr>\n",
              "      <th>190</th>\n",
              "      <td>Texture</td>\n",
              "      <td>Sustaining animal health</td>\n",
              "    </tr>\n",
              "    <tr>\n",
              "      <th>191</th>\n",
              "      <td>Texture</td>\n",
              "      <td>Sustaining human health</td>\n",
              "    </tr>\n",
              "    <tr>\n",
              "      <th>192</th>\n",
              "      <td>Texture</td>\n",
              "      <td>Sustaining plant health</td>\n",
              "    </tr>\n",
              "    <tr>\n",
              "      <th>193</th>\n",
              "      <td>Texture</td>\n",
              "      <td>Sustaining plant health</td>\n",
              "    </tr>\n",
              "  </tbody>\n",
              "</table>\n",
              "<p>194 rows × 2 columns</p>\n",
              "</div>\n",
              "      <button class=\"colab-df-convert\" onclick=\"convertToInteractive('df-2b130774-ecd8-47e0-80bf-cff3c994f8dc')\"\n",
              "              title=\"Convert this dataframe to an interactive table.\"\n",
              "              style=\"display:none;\">\n",
              "        \n",
              "  <svg xmlns=\"http://www.w3.org/2000/svg\" height=\"24px\"viewBox=\"0 0 24 24\"\n",
              "       width=\"24px\">\n",
              "    <path d=\"M0 0h24v24H0V0z\" fill=\"none\"/>\n",
              "    <path d=\"M18.56 5.44l.94 2.06.94-2.06 2.06-.94-2.06-.94-.94-2.06-.94 2.06-2.06.94zm-11 1L8.5 8.5l.94-2.06 2.06-.94-2.06-.94L8.5 2.5l-.94 2.06-2.06.94zm10 10l.94 2.06.94-2.06 2.06-.94-2.06-.94-.94-2.06-.94 2.06-2.06.94z\"/><path d=\"M17.41 7.96l-1.37-1.37c-.4-.4-.92-.59-1.43-.59-.52 0-1.04.2-1.43.59L10.3 9.45l-7.72 7.72c-.78.78-.78 2.05 0 2.83L4 21.41c.39.39.9.59 1.41.59.51 0 1.02-.2 1.41-.59l7.78-7.78 2.81-2.81c.8-.78.8-2.07 0-2.86zM5.41 20L4 18.59l7.72-7.72 1.47 1.35L5.41 20z\"/>\n",
              "  </svg>\n",
              "      </button>\n",
              "      \n",
              "  <style>\n",
              "    .colab-df-container {\n",
              "      display:flex;\n",
              "      flex-wrap:wrap;\n",
              "      gap: 12px;\n",
              "    }\n",
              "\n",
              "    .colab-df-convert {\n",
              "      background-color: #E8F0FE;\n",
              "      border: none;\n",
              "      border-radius: 50%;\n",
              "      cursor: pointer;\n",
              "      display: none;\n",
              "      fill: #1967D2;\n",
              "      height: 32px;\n",
              "      padding: 0 0 0 0;\n",
              "      width: 32px;\n",
              "    }\n",
              "\n",
              "    .colab-df-convert:hover {\n",
              "      background-color: #E2EBFA;\n",
              "      box-shadow: 0px 1px 2px rgba(60, 64, 67, 0.3), 0px 1px 3px 1px rgba(60, 64, 67, 0.15);\n",
              "      fill: #174EA6;\n",
              "    }\n",
              "\n",
              "    [theme=dark] .colab-df-convert {\n",
              "      background-color: #3B4455;\n",
              "      fill: #D2E3FC;\n",
              "    }\n",
              "\n",
              "    [theme=dark] .colab-df-convert:hover {\n",
              "      background-color: #434B5C;\n",
              "      box-shadow: 0px 1px 3px 1px rgba(0, 0, 0, 0.15);\n",
              "      filter: drop-shadow(0px 1px 2px rgba(0, 0, 0, 0.3));\n",
              "      fill: #FFFFFF;\n",
              "    }\n",
              "  </style>\n",
              "\n",
              "      <script>\n",
              "        const buttonEl =\n",
              "          document.querySelector('#df-2b130774-ecd8-47e0-80bf-cff3c994f8dc button.colab-df-convert');\n",
              "        buttonEl.style.display =\n",
              "          google.colab.kernel.accessAllowed ? 'block' : 'none';\n",
              "\n",
              "        async function convertToInteractive(key) {\n",
              "          const element = document.querySelector('#df-2b130774-ecd8-47e0-80bf-cff3c994f8dc');\n",
              "          const dataTable =\n",
              "            await google.colab.kernel.invokeFunction('convertToInteractive',\n",
              "                                                     [key], {});\n",
              "          if (!dataTable) return;\n",
              "\n",
              "          const docLinkHtml = 'Like what you see? Visit the ' +\n",
              "            '<a target=\"_blank\" href=https://colab.research.google.com/notebooks/data_table.ipynb>data table notebook</a>'\n",
              "            + ' to learn more about interactive tables.';\n",
              "          element.innerHTML = '';\n",
              "          dataTable['output_type'] = 'display_data';\n",
              "          await google.colab.output.renderOutput(dataTable, element);\n",
              "          const docLink = document.createElement('div');\n",
              "          docLink.innerHTML = docLinkHtml;\n",
              "          element.appendChild(docLink);\n",
              "        }\n",
              "      </script>\n",
              "    </div>\n",
              "  </div>\n",
              "  "
            ]
          },
          "metadata": {},
          "execution_count": 39
        }
      ],
      "source": [
        "got_df"
      ]
    },
    {
      "cell_type": "markdown",
      "metadata": {
        "id": "hxmC2P7tUsRH"
      },
      "source": [
        "Then we make a network with `networkx.from_pandas_edgelist()`:"
      ]
    },
    {
      "cell_type": "code",
      "execution_count": 40,
      "metadata": {
        "id": "xgwne9viUsRH"
      },
      "outputs": [],
      "source": [
        "G = networkx.from_pandas_edgelist(got_df, 'technica', 'concept')"
      ]
    },
    {
      "cell_type": "markdown",
      "metadata": {
        "id": "6R5biQWGUsRH"
      },
      "source": [
        "## Basic Network "
      ]
    },
    {
      "cell_type": "markdown",
      "metadata": {
        "id": "rXiCBH94UsRH"
      },
      "source": [
        "The code below shows how to make a basic network viz that includes Hover Tooltips (a text box that will display when a user hovers over nodes) as well as Zoom and Pan/Drag functionality.\n",
        "\n",
        "For more details about visualizing network graphs with Bokeh, see [the documentation](https://docs.bokeh.org/en/latest/docs/user_guide/graph.html?highlight=networks)."
      ]
    },
    {
      "cell_type": "code",
      "execution_count": 41,
      "metadata": {
        "id": "VwXy5892UsRI"
      },
      "outputs": [],
      "source": [
        "from bokeh.io import output_notebook, show, save\n",
        "from bokeh.models import Range1d, Circle, ColumnDataSource, MultiLine\n",
        "from bokeh.plotting import figure\n",
        "from bokeh.plotting import from_networkx"
      ]
    },
    {
      "cell_type": "code",
      "execution_count": 42,
      "metadata": {
        "colab": {
          "base_uri": "https://localhost:8080/",
          "height": 617
        },
        "id": "NjOPEhiWUsRI",
        "outputId": "9fe0c7f6-dd33-4bd9-dbcc-fa53f0fa4394"
      },
      "outputs": [
        {
          "output_type": "display_data",
          "data": {
            "application/javascript": [
              "\n",
              "(function(root) {\n",
              "  function now() {\n",
              "    return new Date();\n",
              "  }\n",
              "\n",
              "  var force = true;\n",
              "\n",
              "  if (typeof root._bokeh_onload_callbacks === \"undefined\" || force === true) {\n",
              "    root._bokeh_onload_callbacks = [];\n",
              "    root._bokeh_is_loading = undefined;\n",
              "  }\n",
              "\n",
              "  var JS_MIME_TYPE = 'application/javascript';\n",
              "  var HTML_MIME_TYPE = 'text/html';\n",
              "  var EXEC_MIME_TYPE = 'application/vnd.bokehjs_exec.v0+json';\n",
              "  var CLASS_NAME = 'output_bokeh rendered_html';\n",
              "\n",
              "  /**\n",
              "   * Render data to the DOM node\n",
              "   */\n",
              "  function render(props, node) {\n",
              "    var script = document.createElement(\"script\");\n",
              "    node.appendChild(script);\n",
              "  }\n",
              "\n",
              "  /**\n",
              "   * Handle when an output is cleared or removed\n",
              "   */\n",
              "  function handleClearOutput(event, handle) {\n",
              "    var cell = handle.cell;\n",
              "\n",
              "    var id = cell.output_area._bokeh_element_id;\n",
              "    var server_id = cell.output_area._bokeh_server_id;\n",
              "    // Clean up Bokeh references\n",
              "    if (id != null && id in Bokeh.index) {\n",
              "      Bokeh.index[id].model.document.clear();\n",
              "      delete Bokeh.index[id];\n",
              "    }\n",
              "\n",
              "    if (server_id !== undefined) {\n",
              "      // Clean up Bokeh references\n",
              "      var cmd = \"from bokeh.io.state import curstate; print(curstate().uuid_to_server['\" + server_id + \"'].get_sessions()[0].document.roots[0]._id)\";\n",
              "      cell.notebook.kernel.execute(cmd, {\n",
              "        iopub: {\n",
              "          output: function(msg) {\n",
              "            var id = msg.content.text.trim();\n",
              "            if (id in Bokeh.index) {\n",
              "              Bokeh.index[id].model.document.clear();\n",
              "              delete Bokeh.index[id];\n",
              "            }\n",
              "          }\n",
              "        }\n",
              "      });\n",
              "      // Destroy server and session\n",
              "      var cmd = \"import bokeh.io.notebook as ion; ion.destroy_server('\" + server_id + \"')\";\n",
              "      cell.notebook.kernel.execute(cmd);\n",
              "    }\n",
              "  }\n",
              "\n",
              "  /**\n",
              "   * Handle when a new output is added\n",
              "   */\n",
              "  function handleAddOutput(event, handle) {\n",
              "    var output_area = handle.output_area;\n",
              "    var output = handle.output;\n",
              "\n",
              "    // limit handleAddOutput to display_data with EXEC_MIME_TYPE content only\n",
              "    if ((output.output_type != \"display_data\") || (!Object.prototype.hasOwnProperty.call(output.data, EXEC_MIME_TYPE))) {\n",
              "      return\n",
              "    }\n",
              "\n",
              "    var toinsert = output_area.element.find(\".\" + CLASS_NAME.split(' ')[0]);\n",
              "\n",
              "    if (output.metadata[EXEC_MIME_TYPE][\"id\"] !== undefined) {\n",
              "      toinsert[toinsert.length - 1].firstChild.textContent = output.data[JS_MIME_TYPE];\n",
              "      // store reference to embed id on output_area\n",
              "      output_area._bokeh_element_id = output.metadata[EXEC_MIME_TYPE][\"id\"];\n",
              "    }\n",
              "    if (output.metadata[EXEC_MIME_TYPE][\"server_id\"] !== undefined) {\n",
              "      var bk_div = document.createElement(\"div\");\n",
              "      bk_div.innerHTML = output.data[HTML_MIME_TYPE];\n",
              "      var script_attrs = bk_div.children[0].attributes;\n",
              "      for (var i = 0; i < script_attrs.length; i++) {\n",
              "        toinsert[toinsert.length - 1].firstChild.setAttribute(script_attrs[i].name, script_attrs[i].value);\n",
              "        toinsert[toinsert.length - 1].firstChild.textContent = bk_div.children[0].textContent\n",
              "      }\n",
              "      // store reference to server id on output_area\n",
              "      output_area._bokeh_server_id = output.metadata[EXEC_MIME_TYPE][\"server_id\"];\n",
              "    }\n",
              "  }\n",
              "\n",
              "  function register_renderer(events, OutputArea) {\n",
              "\n",
              "    function append_mime(data, metadata, element) {\n",
              "      // create a DOM node to render to\n",
              "      var toinsert = this.create_output_subarea(\n",
              "        metadata,\n",
              "        CLASS_NAME,\n",
              "        EXEC_MIME_TYPE\n",
              "      );\n",
              "      this.keyboard_manager.register_events(toinsert);\n",
              "      // Render to node\n",
              "      var props = {data: data, metadata: metadata[EXEC_MIME_TYPE]};\n",
              "      render(props, toinsert[toinsert.length - 1]);\n",
              "      element.append(toinsert);\n",
              "      return toinsert\n",
              "    }\n",
              "\n",
              "    /* Handle when an output is cleared or removed */\n",
              "    events.on('clear_output.CodeCell', handleClearOutput);\n",
              "    events.on('delete.Cell', handleClearOutput);\n",
              "\n",
              "    /* Handle when a new output is added */\n",
              "    events.on('output_added.OutputArea', handleAddOutput);\n",
              "\n",
              "    /**\n",
              "     * Register the mime type and append_mime function with output_area\n",
              "     */\n",
              "    OutputArea.prototype.register_mime_type(EXEC_MIME_TYPE, append_mime, {\n",
              "      /* Is output safe? */\n",
              "      safe: true,\n",
              "      /* Index of renderer in `output_area.display_order` */\n",
              "      index: 0\n",
              "    });\n",
              "  }\n",
              "\n",
              "  // register the mime type if in Jupyter Notebook environment and previously unregistered\n",
              "  if (root.Jupyter !== undefined) {\n",
              "    var events = require('base/js/events');\n",
              "    var OutputArea = require('notebook/js/outputarea').OutputArea;\n",
              "\n",
              "    if (OutputArea.prototype.mime_types().indexOf(EXEC_MIME_TYPE) == -1) {\n",
              "      register_renderer(events, OutputArea);\n",
              "    }\n",
              "  }\n",
              "\n",
              "  \n",
              "  if (typeof (root._bokeh_timeout) === \"undefined\" || force === true) {\n",
              "    root._bokeh_timeout = Date.now() + 5000;\n",
              "    root._bokeh_failed_load = false;\n",
              "  }\n",
              "\n",
              "  var NB_LOAD_WARNING = {'data': {'text/html':\n",
              "     \"<div style='background-color: #fdd'>\\n\"+\n",
              "     \"<p>\\n\"+\n",
              "     \"BokehJS does not appear to have successfully loaded. If loading BokehJS from CDN, this \\n\"+\n",
              "     \"may be due to a slow or bad network connection. Possible fixes:\\n\"+\n",
              "     \"</p>\\n\"+\n",
              "     \"<ul>\\n\"+\n",
              "     \"<li>re-rerun `output_notebook()` to attempt to load from CDN again, or</li>\\n\"+\n",
              "     \"<li>use INLINE resources instead, as so:</li>\\n\"+\n",
              "     \"</ul>\\n\"+\n",
              "     \"<code>\\n\"+\n",
              "     \"from bokeh.resources import INLINE\\n\"+\n",
              "     \"output_notebook(resources=INLINE)\\n\"+\n",
              "     \"</code>\\n\"+\n",
              "     \"</div>\"}};\n",
              "\n",
              "  function display_loaded() {\n",
              "    var el = document.getElementById(null);\n",
              "    if (el != null) {\n",
              "      el.textContent = \"BokehJS is loading...\";\n",
              "    }\n",
              "    if (root.Bokeh !== undefined) {\n",
              "      if (el != null) {\n",
              "        el.textContent = \"BokehJS \" + root.Bokeh.version + \" successfully loaded.\";\n",
              "      }\n",
              "    } else if (Date.now() < root._bokeh_timeout) {\n",
              "      setTimeout(display_loaded, 100)\n",
              "    }\n",
              "  }\n",
              "\n",
              "\n",
              "  function run_callbacks() {\n",
              "    try {\n",
              "      root._bokeh_onload_callbacks.forEach(function(callback) {\n",
              "        if (callback != null)\n",
              "          callback();\n",
              "      });\n",
              "    } finally {\n",
              "      delete root._bokeh_onload_callbacks\n",
              "    }\n",
              "    console.debug(\"Bokeh: all callbacks have finished\");\n",
              "  }\n",
              "\n",
              "  function load_libs(css_urls, js_urls, callback) {\n",
              "    if (css_urls == null) css_urls = [];\n",
              "    if (js_urls == null) js_urls = [];\n",
              "\n",
              "    root._bokeh_onload_callbacks.push(callback);\n",
              "    if (root._bokeh_is_loading > 0) {\n",
              "      console.debug(\"Bokeh: BokehJS is being loaded, scheduling callback at\", now());\n",
              "      return null;\n",
              "    }\n",
              "    if (js_urls == null || js_urls.length === 0) {\n",
              "      run_callbacks();\n",
              "      return null;\n",
              "    }\n",
              "    console.debug(\"Bokeh: BokehJS not loaded, scheduling load and callback at\", now());\n",
              "    root._bokeh_is_loading = css_urls.length + js_urls.length;\n",
              "\n",
              "    function on_load() {\n",
              "      root._bokeh_is_loading--;\n",
              "      if (root._bokeh_is_loading === 0) {\n",
              "        console.debug(\"Bokeh: all BokehJS libraries/stylesheets loaded\");\n",
              "        run_callbacks()\n",
              "      }\n",
              "    }\n",
              "\n",
              "    function on_error(url) {\n",
              "      console.error(\"failed to load \" + url);\n",
              "    }\n",
              "\n",
              "    for (let i = 0; i < css_urls.length; i++) {\n",
              "      const url = css_urls[i];\n",
              "      const element = document.createElement(\"link\");\n",
              "      element.onload = on_load;\n",
              "      element.onerror = on_error.bind(null, url);\n",
              "      element.rel = \"stylesheet\";\n",
              "      element.type = \"text/css\";\n",
              "      element.href = url;\n",
              "      console.debug(\"Bokeh: injecting link tag for BokehJS stylesheet: \", url);\n",
              "      document.body.appendChild(element);\n",
              "    }\n",
              "\n",
              "    const hashes = {\"https://cdn.bokeh.org/bokeh/release/bokeh-2.3.3.min.js\": \"dM3QQsP+wXdHg42wTqW85BjZQdLNNIXqlPw/BgKoExPmTG7ZLML4EGqLMfqHT6ON\", \"https://cdn.bokeh.org/bokeh/release/bokeh-tables-2.3.3.min.js\": \"8x57I4YuIfu8XyZfFo0XVr2WAT8EK4rh/uDe3wF7YuW2FNUSNEpJbsPaB1nJ2fz2\", \"https://cdn.bokeh.org/bokeh/release/bokeh-widgets-2.3.3.min.js\": \"3QTqdz9LyAm2i0sG5XTePsHec3UHWwVsrOL68SYRoAXsafvfAyqtQ+h440+qIBhS\"};\n",
              "\n",
              "    for (let i = 0; i < js_urls.length; i++) {\n",
              "      const url = js_urls[i];\n",
              "      const element = document.createElement('script');\n",
              "      element.onload = on_load;\n",
              "      element.onerror = on_error.bind(null, url);\n",
              "      element.async = false;\n",
              "      element.src = url;\n",
              "      if (url in hashes) {\n",
              "        element.crossOrigin = \"anonymous\";\n",
              "        element.integrity = \"sha384-\" + hashes[url];\n",
              "      }\n",
              "      console.debug(\"Bokeh: injecting script tag for BokehJS library: \", url);\n",
              "      document.head.appendChild(element);\n",
              "    }\n",
              "  };\n",
              "\n",
              "  function inject_raw_css(css) {\n",
              "    const element = document.createElement(\"style\");\n",
              "    element.appendChild(document.createTextNode(css));\n",
              "    document.body.appendChild(element);\n",
              "  }\n",
              "\n",
              "  \n",
              "  var js_urls = [\"https://cdn.bokeh.org/bokeh/release/bokeh-2.3.3.min.js\", \"https://cdn.bokeh.org/bokeh/release/bokeh-widgets-2.3.3.min.js\", \"https://cdn.bokeh.org/bokeh/release/bokeh-tables-2.3.3.min.js\"];\n",
              "  var css_urls = [];\n",
              "  \n",
              "\n",
              "  var inline_js = [\n",
              "    function(Bokeh) {\n",
              "      Bokeh.set_log_level(\"info\");\n",
              "    },\n",
              "    function(Bokeh) {\n",
              "    \n",
              "    \n",
              "    }\n",
              "  ];\n",
              "\n",
              "  function run_inline_js() {\n",
              "    \n",
              "    if (root.Bokeh !== undefined || force === true) {\n",
              "      \n",
              "    for (var i = 0; i < inline_js.length; i++) {\n",
              "      inline_js[i].call(root, root.Bokeh);\n",
              "    }\n",
              "    } else if (Date.now() < root._bokeh_timeout) {\n",
              "      setTimeout(run_inline_js, 100);\n",
              "    } else if (!root._bokeh_failed_load) {\n",
              "      console.log(\"Bokeh: BokehJS failed to load within specified timeout.\");\n",
              "      root._bokeh_failed_load = true;\n",
              "    } else if (force !== true) {\n",
              "      var cell = $(document.getElementById(null)).parents('.cell').data().cell;\n",
              "      cell.output_area.append_execute_result(NB_LOAD_WARNING)\n",
              "    }\n",
              "\n",
              "  }\n",
              "\n",
              "  if (root._bokeh_is_loading === 0) {\n",
              "    console.debug(\"Bokeh: BokehJS loaded, going straight to plotting\");\n",
              "    run_inline_js();\n",
              "  } else {\n",
              "    load_libs(css_urls, js_urls, function() {\n",
              "      console.debug(\"Bokeh: BokehJS plotting callback run at\", now());\n",
              "      run_inline_js();\n",
              "    });\n",
              "  }\n",
              "}(window));"
            ],
            "application/vnd.bokehjs_load.v0+json": "\n(function(root) {\n  function now() {\n    return new Date();\n  }\n\n  var force = true;\n\n  if (typeof root._bokeh_onload_callbacks === \"undefined\" || force === true) {\n    root._bokeh_onload_callbacks = [];\n    root._bokeh_is_loading = undefined;\n  }\n\n  \n\n  \n  if (typeof (root._bokeh_timeout) === \"undefined\" || force === true) {\n    root._bokeh_timeout = Date.now() + 5000;\n    root._bokeh_failed_load = false;\n  }\n\n  var NB_LOAD_WARNING = {'data': {'text/html':\n     \"<div style='background-color: #fdd'>\\n\"+\n     \"<p>\\n\"+\n     \"BokehJS does not appear to have successfully loaded. If loading BokehJS from CDN, this \\n\"+\n     \"may be due to a slow or bad network connection. Possible fixes:\\n\"+\n     \"</p>\\n\"+\n     \"<ul>\\n\"+\n     \"<li>re-rerun `output_notebook()` to attempt to load from CDN again, or</li>\\n\"+\n     \"<li>use INLINE resources instead, as so:</li>\\n\"+\n     \"</ul>\\n\"+\n     \"<code>\\n\"+\n     \"from bokeh.resources import INLINE\\n\"+\n     \"output_notebook(resources=INLINE)\\n\"+\n     \"</code>\\n\"+\n     \"</div>\"}};\n\n  function display_loaded() {\n    var el = document.getElementById(null);\n    if (el != null) {\n      el.textContent = \"BokehJS is loading...\";\n    }\n    if (root.Bokeh !== undefined) {\n      if (el != null) {\n        el.textContent = \"BokehJS \" + root.Bokeh.version + \" successfully loaded.\";\n      }\n    } else if (Date.now() < root._bokeh_timeout) {\n      setTimeout(display_loaded, 100)\n    }\n  }\n\n\n  function run_callbacks() {\n    try {\n      root._bokeh_onload_callbacks.forEach(function(callback) {\n        if (callback != null)\n          callback();\n      });\n    } finally {\n      delete root._bokeh_onload_callbacks\n    }\n    console.debug(\"Bokeh: all callbacks have finished\");\n  }\n\n  function load_libs(css_urls, js_urls, callback) {\n    if (css_urls == null) css_urls = [];\n    if (js_urls == null) js_urls = [];\n\n    root._bokeh_onload_callbacks.push(callback);\n    if (root._bokeh_is_loading > 0) {\n      console.debug(\"Bokeh: BokehJS is being loaded, scheduling callback at\", now());\n      return null;\n    }\n    if (js_urls == null || js_urls.length === 0) {\n      run_callbacks();\n      return null;\n    }\n    console.debug(\"Bokeh: BokehJS not loaded, scheduling load and callback at\", now());\n    root._bokeh_is_loading = css_urls.length + js_urls.length;\n\n    function on_load() {\n      root._bokeh_is_loading--;\n      if (root._bokeh_is_loading === 0) {\n        console.debug(\"Bokeh: all BokehJS libraries/stylesheets loaded\");\n        run_callbacks()\n      }\n    }\n\n    function on_error(url) {\n      console.error(\"failed to load \" + url);\n    }\n\n    for (let i = 0; i < css_urls.length; i++) {\n      const url = css_urls[i];\n      const element = document.createElement(\"link\");\n      element.onload = on_load;\n      element.onerror = on_error.bind(null, url);\n      element.rel = \"stylesheet\";\n      element.type = \"text/css\";\n      element.href = url;\n      console.debug(\"Bokeh: injecting link tag for BokehJS stylesheet: \", url);\n      document.body.appendChild(element);\n    }\n\n    const hashes = {\"https://cdn.bokeh.org/bokeh/release/bokeh-2.3.3.min.js\": \"dM3QQsP+wXdHg42wTqW85BjZQdLNNIXqlPw/BgKoExPmTG7ZLML4EGqLMfqHT6ON\", \"https://cdn.bokeh.org/bokeh/release/bokeh-tables-2.3.3.min.js\": \"8x57I4YuIfu8XyZfFo0XVr2WAT8EK4rh/uDe3wF7YuW2FNUSNEpJbsPaB1nJ2fz2\", \"https://cdn.bokeh.org/bokeh/release/bokeh-widgets-2.3.3.min.js\": \"3QTqdz9LyAm2i0sG5XTePsHec3UHWwVsrOL68SYRoAXsafvfAyqtQ+h440+qIBhS\"};\n\n    for (let i = 0; i < js_urls.length; i++) {\n      const url = js_urls[i];\n      const element = document.createElement('script');\n      element.onload = on_load;\n      element.onerror = on_error.bind(null, url);\n      element.async = false;\n      element.src = url;\n      if (url in hashes) {\n        element.crossOrigin = \"anonymous\";\n        element.integrity = \"sha384-\" + hashes[url];\n      }\n      console.debug(\"Bokeh: injecting script tag for BokehJS library: \", url);\n      document.head.appendChild(element);\n    }\n  };\n\n  function inject_raw_css(css) {\n    const element = document.createElement(\"style\");\n    element.appendChild(document.createTextNode(css));\n    document.body.appendChild(element);\n  }\n\n  \n  var js_urls = [\"https://cdn.bokeh.org/bokeh/release/bokeh-2.3.3.min.js\", \"https://cdn.bokeh.org/bokeh/release/bokeh-widgets-2.3.3.min.js\", \"https://cdn.bokeh.org/bokeh/release/bokeh-tables-2.3.3.min.js\"];\n  var css_urls = [];\n  \n\n  var inline_js = [\n    function(Bokeh) {\n      Bokeh.set_log_level(\"info\");\n    },\n    function(Bokeh) {\n    \n    \n    }\n  ];\n\n  function run_inline_js() {\n    \n    if (root.Bokeh !== undefined || force === true) {\n      \n    for (var i = 0; i < inline_js.length; i++) {\n      inline_js[i].call(root, root.Bokeh);\n    }\n    } else if (Date.now() < root._bokeh_timeout) {\n      setTimeout(run_inline_js, 100);\n    } else if (!root._bokeh_failed_load) {\n      console.log(\"Bokeh: BokehJS failed to load within specified timeout.\");\n      root._bokeh_failed_load = true;\n    } else if (force !== true) {\n      var cell = $(document.getElementById(null)).parents('.cell').data().cell;\n      cell.output_area.append_execute_result(NB_LOAD_WARNING)\n    }\n\n  }\n\n  if (root._bokeh_is_loading === 0) {\n    console.debug(\"Bokeh: BokehJS loaded, going straight to plotting\");\n    run_inline_js();\n  } else {\n    load_libs(css_urls, js_urls, function() {\n      console.debug(\"Bokeh: BokehJS plotting callback run at\", now());\n      run_inline_js();\n    });\n  }\n}(window));"
          },
          "metadata": {}
        },
        {
          "output_type": "display_data",
          "data": {
            "text/html": [
              "\n",
              "\n",
              "\n",
              "\n",
              "\n",
              "\n",
              "  <div class=\"bk-root\" id=\"d79e9011-ac7d-44ca-90f0-b37a50351727\" data-root-id=\"2218\"></div>\n"
            ]
          },
          "metadata": {}
        },
        {
          "output_type": "display_data",
          "data": {
            "application/javascript": [
              "(function(root) {\n",
              "  function embed_document(root) {\n",
              "    \n",
              "  var docs_json = {\"26595e50-0359-40cd-85cc-2c19f2aaebac\":{\"defs\":[],\"roots\":{\"references\":[{\"attributes\":{\"below\":[{\"id\":\"2227\"}],\"center\":[{\"id\":\"2230\"},{\"id\":\"2234\"}],\"left\":[{\"id\":\"2231\"}],\"renderers\":[{\"id\":\"2246\"}],\"title\":{\"id\":\"2219\"},\"toolbar\":{\"id\":\"2240\"},\"x_range\":{\"id\":\"2216\"},\"x_scale\":{\"id\":\"2223\"},\"y_range\":{\"id\":\"2217\"},\"y_scale\":{\"id\":\"2225\"}},\"id\":\"2218\",\"subtype\":\"Figure\",\"type\":\"Plot\"},{\"attributes\":{\"end\":10.1,\"start\":-10.1},\"id\":\"2216\",\"type\":\"Range1d\"},{\"attributes\":{\"axis\":{\"id\":\"2231\"},\"dimension\":1,\"ticker\":null},\"id\":\"2234\",\"type\":\"Grid\"},{\"attributes\":{\"source\":{\"id\":\"2248\"}},\"id\":\"2250\",\"type\":\"CDSView\"},{\"attributes\":{\"end\":10.1,\"start\":-10.1},\"id\":\"2217\",\"type\":\"Range1d\"},{\"attributes\":{},\"id\":\"2225\",\"type\":\"LinearScale\"},{\"attributes\":{},\"id\":\"2383\",\"type\":\"BasicTickFormatter\"},{\"attributes\":{\"data\":{\"index\":[\"Acidity (pH)\",\"Capturing Critical Zone processes\",\"Erosion\",\"Evidencing ecosystem processes\",\"Evidencing human-ecosystem interactions\",\"Regulating Climate\",\"Restoration\",\"Storing Carbon\",\"Supporting a living ecosystem\",\"Sustaining plant health\",\"Bulk Density\",\"Carbon Content\",\"Archiving evidence of past ecosystem processes\",\"Archiving evidence of past human activities\",\"Forming rural landscapes\",\"Sustaining animal health\",\"Sustaining human health\",\"Colour\",\"Compaction\",\"Inorganic inclusions\",\"Moisture\",\"Modification\",\"Nutrient Content \",\"Organic Matter Content\",\"Organisms present\",\"Porosity \",\"Resistivity \",\"Structure\",\"Temperature\",\"Texture\"]},\"selected\":{\"id\":\"2387\"},\"selection_policy\":{\"id\":\"2386\"}},\"id\":\"2248\",\"type\":\"ColumnDataSource\"},{\"attributes\":{},\"id\":\"2238\",\"type\":\"ResetTool\"},{\"attributes\":{},\"id\":\"2370\",\"type\":\"NodesOnly\"},{\"attributes\":{},\"id\":\"2235\",\"type\":\"PanTool\"},{\"attributes\":{},\"id\":\"2386\",\"type\":\"UnionRenderers\"},{\"attributes\":{\"data_source\":{\"id\":\"2248\"},\"glyph\":{\"id\":\"2256\"},\"hover_glyph\":null,\"muted_glyph\":null,\"view\":{\"id\":\"2250\"}},\"id\":\"2249\",\"type\":\"GlyphRenderer\"},{\"attributes\":{\"formatter\":{\"id\":\"2383\"},\"major_label_policy\":{\"id\":\"2385\"},\"ticker\":{\"id\":\"2228\"}},\"id\":\"2227\",\"type\":\"LinearAxis\"},{\"attributes\":{\"callback\":null,\"tooltips\":[[\"concept\",\"@index\"]]},\"id\":\"2239\",\"type\":\"HoverTool\"},{\"attributes\":{},\"id\":\"2385\",\"type\":\"AllLabels\"},{\"attributes\":{},\"id\":\"2232\",\"type\":\"BasicTicker\"},{\"attributes\":{\"edge_renderer\":{\"id\":\"2253\"},\"inspection_policy\":{\"id\":\"2375\"},\"layout_provider\":{\"id\":\"2255\"},\"node_renderer\":{\"id\":\"2249\"},\"selection_policy\":{\"id\":\"2370\"}},\"id\":\"2246\",\"type\":\"GraphRenderer\"},{\"attributes\":{},\"id\":\"2387\",\"type\":\"Selection\"},{\"attributes\":{},\"id\":\"2236\",\"type\":\"WheelZoomTool\"},{\"attributes\":{\"data\":{\"end\":[\"Capturing Critical Zone processes\",\"Erosion\",\"Evidencing ecosystem processes\",\"Evidencing human-ecosystem interactions\",\"Regulating Climate\",\"Restoration\",\"Storing Carbon\",\"Supporting a living ecosystem\",\"Sustaining plant health\",\"Bulk Density\",\"Carbon Content\",\"Moisture\",\"Organic Matter Content\",\"Porosity \",\"Structure\",\"Texture\",\"Bulk Density\",\"Carbon Content\",\"Colour\",\"Compaction\",\"Moisture\",\"Organic Matter Content\",\"Porosity \",\"Structure\",\"Texture\",\"Carbon Content\",\"Colour\",\"Moisture\",\"Nutrient Content \",\"Organic Matter Content\",\"Organisms present\",\"Temperature\",\"Carbon Content\",\"Colour\",\"Compaction\",\"Inorganic inclusions\",\"Moisture\",\"Nutrient Content \",\"Organic Matter Content\",\"Porosity \",\"Carbon Content\",\"Moisture\",\"Organic Matter Content\",\"Structure\",\"Temperature\",\"Carbon Content\",\"Moisture\",\"Organic Matter Content\",\"Porosity \",\"Bulk Density\",\"Carbon Content\",\"Colour\",\"Compaction\",\"Moisture\",\"Nutrient Content \",\"Organic Matter Content\",\"Porosity \",\"Structure\",\"Temperature\",\"Texture\",\"Bulk Density\",\"Carbon Content\",\"Compaction\",\"Moisture\",\"Nutrient Content \",\"Organic Matter Content\",\"Organisms present\",\"Porosity \",\"Structure\",\"Temperature\",\"Texture\",\"Bulk Density\",\"Carbon Content\",\"Colour\",\"Compaction\",\"Inorganic inclusions\",\"Moisture\",\"Nutrient Content \",\"Organic Matter Content\",\"Porosity \",\"Structure\",\"Temperature\",\"Texture\",\"Archiving evidence of past ecosystem processes\",\"Archiving evidence of past human activities\",\"Forming rural landscapes\",\"Sustaining animal health\",\"Sustaining human health\",\"Compaction\",\"Inorganic inclusions\",\"Moisture\",\"Nutrient Content \",\"Organic Matter Content\",\"Porosity \",\"Resistivity \",\"Texture\",\"Colour\",\"Compaction\",\"Inorganic inclusions\",\"Moisture\",\"Nutrient Content \",\"Organic Matter Content\",\"Porosity \",\"Resistivity \",\"Structure\",\"Texture\",\"Moisture\",\"Organic Matter Content\",\"Moisture\",\"Nutrient Content \",\"Organic Matter Content\",\"Porosity \",\"Structure\",\"Texture\",\"Moisture\",\"Nutrient Content \",\"Organic Matter Content\",\"Porosity \",\"Structure\",\"Texture\",\"Modification\",\"Nutrient Content \"],\"start\":[\"Acidity (pH)\",\"Acidity (pH)\",\"Acidity (pH)\",\"Acidity (pH)\",\"Acidity (pH)\",\"Acidity (pH)\",\"Acidity (pH)\",\"Acidity (pH)\",\"Acidity (pH)\",\"Capturing Critical Zone processes\",\"Capturing Critical Zone processes\",\"Capturing Critical Zone processes\",\"Capturing Critical Zone processes\",\"Capturing Critical Zone processes\",\"Capturing Critical Zone processes\",\"Capturing Critical Zone processes\",\"Erosion\",\"Erosion\",\"Erosion\",\"Erosion\",\"Erosion\",\"Erosion\",\"Erosion\",\"Erosion\",\"Erosion\",\"Evidencing ecosystem processes\",\"Evidencing ecosystem processes\",\"Evidencing ecosystem processes\",\"Evidencing ecosystem processes\",\"Evidencing ecosystem processes\",\"Evidencing ecosystem processes\",\"Evidencing ecosystem processes\",\"Evidencing human-ecosystem interactions\",\"Evidencing human-ecosystem interactions\",\"Evidencing human-ecosystem interactions\",\"Evidencing human-ecosystem interactions\",\"Evidencing human-ecosystem interactions\",\"Evidencing human-ecosystem interactions\",\"Evidencing human-ecosystem interactions\",\"Evidencing human-ecosystem interactions\",\"Regulating Climate\",\"Regulating Climate\",\"Regulating Climate\",\"Regulating Climate\",\"Regulating Climate\",\"Restoration\",\"Restoration\",\"Restoration\",\"Restoration\",\"Storing Carbon\",\"Storing Carbon\",\"Storing Carbon\",\"Storing Carbon\",\"Storing Carbon\",\"Storing Carbon\",\"Storing Carbon\",\"Storing Carbon\",\"Storing Carbon\",\"Storing Carbon\",\"Storing Carbon\",\"Supporting a living ecosystem\",\"Supporting a living ecosystem\",\"Supporting a living ecosystem\",\"Supporting a living ecosystem\",\"Supporting a living ecosystem\",\"Supporting a living ecosystem\",\"Supporting a living ecosystem\",\"Supporting a living ecosystem\",\"Supporting a living ecosystem\",\"Supporting a living ecosystem\",\"Supporting a living ecosystem\",\"Sustaining plant health\",\"Sustaining plant health\",\"Sustaining plant health\",\"Sustaining plant health\",\"Sustaining plant health\",\"Sustaining plant health\",\"Sustaining plant health\",\"Sustaining plant health\",\"Sustaining plant health\",\"Sustaining plant health\",\"Sustaining plant health\",\"Sustaining plant health\",\"Carbon Content\",\"Carbon Content\",\"Carbon Content\",\"Carbon Content\",\"Carbon Content\",\"Archiving evidence of past ecosystem processes\",\"Archiving evidence of past ecosystem processes\",\"Archiving evidence of past ecosystem processes\",\"Archiving evidence of past ecosystem processes\",\"Archiving evidence of past ecosystem processes\",\"Archiving evidence of past ecosystem processes\",\"Archiving evidence of past ecosystem processes\",\"Archiving evidence of past ecosystem processes\",\"Archiving evidence of past human activities\",\"Archiving evidence of past human activities\",\"Archiving evidence of past human activities\",\"Archiving evidence of past human activities\",\"Archiving evidence of past human activities\",\"Archiving evidence of past human activities\",\"Archiving evidence of past human activities\",\"Archiving evidence of past human activities\",\"Archiving evidence of past human activities\",\"Archiving evidence of past human activities\",\"Forming rural landscapes\",\"Forming rural landscapes\",\"Sustaining animal health\",\"Sustaining animal health\",\"Sustaining animal health\",\"Sustaining animal health\",\"Sustaining animal health\",\"Sustaining animal health\",\"Sustaining human health\",\"Sustaining human health\",\"Sustaining human health\",\"Sustaining human health\",\"Sustaining human health\",\"Sustaining human health\",\"Moisture\",\"Modification\"]},\"selected\":{\"id\":\"2389\"},\"selection_policy\":{\"id\":\"2388\"}},\"id\":\"2252\",\"type\":\"ColumnDataSource\"},{\"attributes\":{\"formatter\":{\"id\":\"2380\"},\"major_label_policy\":{\"id\":\"2382\"},\"ticker\":{\"id\":\"2232\"}},\"id\":\"2231\",\"type\":\"LinearAxis\"},{\"attributes\":{},\"id\":\"2388\",\"type\":\"UnionRenderers\"},{\"attributes\":{},\"id\":\"2382\",\"type\":\"AllLabels\"},{\"attributes\":{\"text\":\"soil health and heritage\"},\"id\":\"2219\",\"type\":\"Title\"},{\"attributes\":{},\"id\":\"2228\",\"type\":\"BasicTicker\"},{\"attributes\":{\"source\":{\"id\":\"2252\"}},\"id\":\"2254\",\"type\":\"CDSView\"},{\"attributes\":{},\"id\":\"2237\",\"type\":\"SaveTool\"},{\"attributes\":{},\"id\":\"2380\",\"type\":\"BasicTickFormatter\"},{\"attributes\":{\"active_multi\":null,\"active_scroll\":{\"id\":\"2236\"},\"tools\":[{\"id\":\"2235\"},{\"id\":\"2236\"},{\"id\":\"2237\"},{\"id\":\"2238\"},{\"id\":\"2239\"}]},\"id\":\"2240\",\"type\":\"Toolbar\"},{\"attributes\":{\"axis\":{\"id\":\"2227\"},\"ticker\":null},\"id\":\"2230\",\"type\":\"Grid\"},{\"attributes\":{},\"id\":\"2389\",\"type\":\"Selection\"},{\"attributes\":{},\"id\":\"2223\",\"type\":\"LinearScale\"},{\"attributes\":{\"graph_layout\":{\"Acidity (pH)\":[-2.150766723934178,2.9211635399103857],\"Archiving evidence of past ecosystem processes\":[4.265416538051495,-2.4877821300148684],\"Archiving evidence of past human activities\":[3.248891142920628,-3.5531356290905878],\"Bulk Density\":[3.686096789355402,6.058443082834041],\"Capturing Critical Zone processes\":[-0.35067679764057674,3.5729283860658514],\"Carbon Content\":[-1.2265404659220918,0.38603162883769215],\"Colour\":[0.20799737594592455,-2.9644366853159023],\"Compaction\":[5.755364432534338,1.1309714641991293],\"Erosion\":[2.456944144683299,0.8728968750608485],\"Evidencing ecosystem processes\":[-3.977271271317339,3.1339868268532656],\"Evidencing human-ecosystem interactions\":[2.0653328375359252,-2.27156212083081],\"Forming rural landscapes\":[-7.740004784516764,1.3669715441433918],\"Inorganic inclusions\":[6.970691192804154,-3.980226729103122],\"Modification\":[-6.195473715957115,-7.273270482390746],\"Moisture\":[-2.261012787085393,-1.3110888368366893],\"Nutrient Content \":[-1.3113945046298405,-2.7913818972782454],\"Organic Matter Content\":[-1.9214801634566383,-0.23313166560287418],\"Organisms present\":[-3.3917151717596026,9.739173177658886],\"Porosity \":[0.8995710005035161,-1.0037470834383249],\"Regulating Climate\":[-5.161559296076579,1.4719882251260608],\"Resistivity \":[10.0,-5.369332808360561],\"Restoration\":[-5.917135814808899,-0.4781783330292866],\"Storing Carbon\":[0.5875868001803238,1.9935045569040934],\"Structure\":[-0.3461071937356393,-0.7595059010071185],\"Supporting a living ecosystem\":[0.7643803598331524,3.6750886307000394],\"Sustaining animal health\":[-2.4586607002162952,-4.279722820816916],\"Sustaining human health\":[0.47291978674603957,-4.901947741651079],\"Sustaining plant health\":[1.9219709656667132,1.5956480727638513],\"Temperature\":[-2.3189379241265025,6.311895512406946],\"Texture\":[3.4255739484225782,-0.5722406586973849]}},\"id\":\"2255\",\"type\":\"StaticLayoutProvider\"},{\"attributes\":{\"line_alpha\":{\"value\":0.5}},\"id\":\"2261\",\"type\":\"MultiLine\"},{\"attributes\":{\"data_source\":{\"id\":\"2252\"},\"glyph\":{\"id\":\"2261\"},\"hover_glyph\":null,\"muted_glyph\":null,\"view\":{\"id\":\"2254\"}},\"id\":\"2253\",\"type\":\"GlyphRenderer\"},{\"attributes\":{},\"id\":\"2375\",\"type\":\"NodesOnly\"},{\"attributes\":{\"fill_color\":{\"value\":\"skyblue\"},\"size\":{\"value\":15}},\"id\":\"2256\",\"type\":\"Circle\"}],\"root_ids\":[\"2218\"]},\"title\":\"Bokeh Application\",\"version\":\"2.3.3\"}};\n",
              "  var render_items = [{\"docid\":\"26595e50-0359-40cd-85cc-2c19f2aaebac\",\"root_ids\":[\"2218\"],\"roots\":{\"2218\":\"d79e9011-ac7d-44ca-90f0-b37a50351727\"}}];\n",
              "  root.Bokeh.embed.embed_items_notebook(docs_json, render_items);\n",
              "\n",
              "  }\n",
              "  if (root.Bokeh !== undefined) {\n",
              "    embed_document(root);\n",
              "  } else {\n",
              "    var attempts = 0;\n",
              "    var timer = setInterval(function(root) {\n",
              "      if (root.Bokeh !== undefined) {\n",
              "        clearInterval(timer);\n",
              "        embed_document(root);\n",
              "      } else {\n",
              "        attempts++;\n",
              "        if (attempts > 100) {\n",
              "          clearInterval(timer);\n",
              "          console.log(\"Bokeh: ERROR: Unable to run BokehJS code because BokehJS library is missing\");\n",
              "        }\n",
              "      }\n",
              "    }, 10, root)\n",
              "  }\n",
              "})(window);"
            ],
            "application/vnd.bokehjs_exec.v0+json": ""
          },
          "metadata": {
            "application/vnd.bokehjs_exec.v0+json": {
              "id": "2218"
            }
          }
        }
      ],
      "source": [
        "#Choose a title!\n",
        "title = 'soil health and heritage'\n",
        "\n",
        "#Establish which categories will appear when hovering over each node\n",
        "HOVER_TOOLTIPS = [(\"concept\", \"@index\")]\n",
        "\n",
        "#Create a plot — set dimensions, toolbar, and title\n",
        "plot = figure(tooltips = HOVER_TOOLTIPS,\n",
        "              tools=\"pan,wheel_zoom,save,reset\", active_scroll='wheel_zoom',\n",
        "            x_range=Range1d(-10.1, 10.1), y_range=Range1d(-10.1, 10.1), title=title)\n",
        "\n",
        "#Create a network graph object with spring layout\n",
        "# https://networkx.github.io/documentation/networkx-1.9/reference/generated/networkx.drawing.layout.spring_layout.html\n",
        "network_graph = from_networkx(G, networkx.spring_layout, scale=10, center=(0, 0))\n",
        "\n",
        "#Set node size and color\n",
        "network_graph.node_renderer.glyph = Circle(size=15, fill_color='skyblue')\n",
        "\n",
        "#Set edge opacity and width\n",
        "network_graph.edge_renderer.glyph = MultiLine(line_alpha=0.5, line_width=1)\n",
        "\n",
        "#Add network graph to the plot\n",
        "plot.renderers.append(network_graph)\n",
        "\n",
        "show(plot)\n",
        "#save(plot, filename=f\"{title}.html\")"
      ]
    },
    {
      "cell_type": "markdown",
      "metadata": {
        "id": "64JXZTsSUsRJ"
      },
      "source": [
        "## Network with Nodes Sized and Colored By Attribute (Degree)"
      ]
    },
    {
      "cell_type": "markdown",
      "metadata": {
        "id": "3k8Qtor6UsRJ"
      },
      "source": [
        "The code below shows how to size and color nodes by degree."
      ]
    },
    {
      "cell_type": "markdown",
      "metadata": {
        "id": "v5O0cNM_UsRJ"
      },
      "source": [
        "**Include Bokeh color palettes**"
      ]
    },
    {
      "cell_type": "code",
      "execution_count": 43,
      "metadata": {
        "id": "_fgUKathUsRK"
      },
      "outputs": [],
      "source": [
        "from bokeh.io import output_notebook, show, save\n",
        "from bokeh.models import Range1d, Circle, ColumnDataSource, MultiLine\n",
        "from bokeh.plotting import figure\n",
        "from bokeh.plotting import from_networkx\n",
        "from bokeh.palettes import Blues8, Reds8, Purples8, Oranges8, Viridis8, Spectral8\n",
        "from bokeh.transform import linear_cmap"
      ]
    },
    {
      "cell_type": "markdown",
      "metadata": {
        "id": "W9Uj-HvkUsRK"
      },
      "source": [
        "**Calculate degree for each node and add as node attribute**"
      ]
    },
    {
      "cell_type": "code",
      "execution_count": 44,
      "metadata": {
        "id": "o4976-8EUsRK"
      },
      "outputs": [],
      "source": [
        "degrees = dict(networkx.degree(G))\n",
        "networkx.set_node_attributes(G, name='degree', values=degrees)"
      ]
    },
    {
      "cell_type": "markdown",
      "metadata": {
        "id": "-g5OX8EOUsRK"
      },
      "source": [
        "**Slightly adjust degree so that the nodes with very small degrees are still visible**"
      ]
    },
    {
      "cell_type": "code",
      "execution_count": 45,
      "metadata": {
        "id": "UrOcXx5QUsRK"
      },
      "outputs": [],
      "source": [
        "number_to_adjust_by = 5\n",
        "adjusted_node_size = dict([(node, degree+number_to_adjust_by) for node, degree in networkx.degree(G)])\n",
        "networkx.set_node_attributes(G, name='adjusted_node_size', values=adjusted_node_size)"
      ]
    },
    {
      "cell_type": "code",
      "execution_count": 46,
      "metadata": {
        "colab": {
          "base_uri": "https://localhost:8080/",
          "height": 617
        },
        "id": "dXuqs-EtUsRL",
        "outputId": "f47373ee-78e1-40e9-cf68-8275894a13a5"
      },
      "outputs": [
        {
          "output_type": "display_data",
          "data": {
            "application/javascript": [
              "\n",
              "(function(root) {\n",
              "  function now() {\n",
              "    return new Date();\n",
              "  }\n",
              "\n",
              "  var force = true;\n",
              "\n",
              "  if (typeof root._bokeh_onload_callbacks === \"undefined\" || force === true) {\n",
              "    root._bokeh_onload_callbacks = [];\n",
              "    root._bokeh_is_loading = undefined;\n",
              "  }\n",
              "\n",
              "  var JS_MIME_TYPE = 'application/javascript';\n",
              "  var HTML_MIME_TYPE = 'text/html';\n",
              "  var EXEC_MIME_TYPE = 'application/vnd.bokehjs_exec.v0+json';\n",
              "  var CLASS_NAME = 'output_bokeh rendered_html';\n",
              "\n",
              "  /**\n",
              "   * Render data to the DOM node\n",
              "   */\n",
              "  function render(props, node) {\n",
              "    var script = document.createElement(\"script\");\n",
              "    node.appendChild(script);\n",
              "  }\n",
              "\n",
              "  /**\n",
              "   * Handle when an output is cleared or removed\n",
              "   */\n",
              "  function handleClearOutput(event, handle) {\n",
              "    var cell = handle.cell;\n",
              "\n",
              "    var id = cell.output_area._bokeh_element_id;\n",
              "    var server_id = cell.output_area._bokeh_server_id;\n",
              "    // Clean up Bokeh references\n",
              "    if (id != null && id in Bokeh.index) {\n",
              "      Bokeh.index[id].model.document.clear();\n",
              "      delete Bokeh.index[id];\n",
              "    }\n",
              "\n",
              "    if (server_id !== undefined) {\n",
              "      // Clean up Bokeh references\n",
              "      var cmd = \"from bokeh.io.state import curstate; print(curstate().uuid_to_server['\" + server_id + \"'].get_sessions()[0].document.roots[0]._id)\";\n",
              "      cell.notebook.kernel.execute(cmd, {\n",
              "        iopub: {\n",
              "          output: function(msg) {\n",
              "            var id = msg.content.text.trim();\n",
              "            if (id in Bokeh.index) {\n",
              "              Bokeh.index[id].model.document.clear();\n",
              "              delete Bokeh.index[id];\n",
              "            }\n",
              "          }\n",
              "        }\n",
              "      });\n",
              "      // Destroy server and session\n",
              "      var cmd = \"import bokeh.io.notebook as ion; ion.destroy_server('\" + server_id + \"')\";\n",
              "      cell.notebook.kernel.execute(cmd);\n",
              "    }\n",
              "  }\n",
              "\n",
              "  /**\n",
              "   * Handle when a new output is added\n",
              "   */\n",
              "  function handleAddOutput(event, handle) {\n",
              "    var output_area = handle.output_area;\n",
              "    var output = handle.output;\n",
              "\n",
              "    // limit handleAddOutput to display_data with EXEC_MIME_TYPE content only\n",
              "    if ((output.output_type != \"display_data\") || (!Object.prototype.hasOwnProperty.call(output.data, EXEC_MIME_TYPE))) {\n",
              "      return\n",
              "    }\n",
              "\n",
              "    var toinsert = output_area.element.find(\".\" + CLASS_NAME.split(' ')[0]);\n",
              "\n",
              "    if (output.metadata[EXEC_MIME_TYPE][\"id\"] !== undefined) {\n",
              "      toinsert[toinsert.length - 1].firstChild.textContent = output.data[JS_MIME_TYPE];\n",
              "      // store reference to embed id on output_area\n",
              "      output_area._bokeh_element_id = output.metadata[EXEC_MIME_TYPE][\"id\"];\n",
              "    }\n",
              "    if (output.metadata[EXEC_MIME_TYPE][\"server_id\"] !== undefined) {\n",
              "      var bk_div = document.createElement(\"div\");\n",
              "      bk_div.innerHTML = output.data[HTML_MIME_TYPE];\n",
              "      var script_attrs = bk_div.children[0].attributes;\n",
              "      for (var i = 0; i < script_attrs.length; i++) {\n",
              "        toinsert[toinsert.length - 1].firstChild.setAttribute(script_attrs[i].name, script_attrs[i].value);\n",
              "        toinsert[toinsert.length - 1].firstChild.textContent = bk_div.children[0].textContent\n",
              "      }\n",
              "      // store reference to server id on output_area\n",
              "      output_area._bokeh_server_id = output.metadata[EXEC_MIME_TYPE][\"server_id\"];\n",
              "    }\n",
              "  }\n",
              "\n",
              "  function register_renderer(events, OutputArea) {\n",
              "\n",
              "    function append_mime(data, metadata, element) {\n",
              "      // create a DOM node to render to\n",
              "      var toinsert = this.create_output_subarea(\n",
              "        metadata,\n",
              "        CLASS_NAME,\n",
              "        EXEC_MIME_TYPE\n",
              "      );\n",
              "      this.keyboard_manager.register_events(toinsert);\n",
              "      // Render to node\n",
              "      var props = {data: data, metadata: metadata[EXEC_MIME_TYPE]};\n",
              "      render(props, toinsert[toinsert.length - 1]);\n",
              "      element.append(toinsert);\n",
              "      return toinsert\n",
              "    }\n",
              "\n",
              "    /* Handle when an output is cleared or removed */\n",
              "    events.on('clear_output.CodeCell', handleClearOutput);\n",
              "    events.on('delete.Cell', handleClearOutput);\n",
              "\n",
              "    /* Handle when a new output is added */\n",
              "    events.on('output_added.OutputArea', handleAddOutput);\n",
              "\n",
              "    /**\n",
              "     * Register the mime type and append_mime function with output_area\n",
              "     */\n",
              "    OutputArea.prototype.register_mime_type(EXEC_MIME_TYPE, append_mime, {\n",
              "      /* Is output safe? */\n",
              "      safe: true,\n",
              "      /* Index of renderer in `output_area.display_order` */\n",
              "      index: 0\n",
              "    });\n",
              "  }\n",
              "\n",
              "  // register the mime type if in Jupyter Notebook environment and previously unregistered\n",
              "  if (root.Jupyter !== undefined) {\n",
              "    var events = require('base/js/events');\n",
              "    var OutputArea = require('notebook/js/outputarea').OutputArea;\n",
              "\n",
              "    if (OutputArea.prototype.mime_types().indexOf(EXEC_MIME_TYPE) == -1) {\n",
              "      register_renderer(events, OutputArea);\n",
              "    }\n",
              "  }\n",
              "\n",
              "  \n",
              "  if (typeof (root._bokeh_timeout) === \"undefined\" || force === true) {\n",
              "    root._bokeh_timeout = Date.now() + 5000;\n",
              "    root._bokeh_failed_load = false;\n",
              "  }\n",
              "\n",
              "  var NB_LOAD_WARNING = {'data': {'text/html':\n",
              "     \"<div style='background-color: #fdd'>\\n\"+\n",
              "     \"<p>\\n\"+\n",
              "     \"BokehJS does not appear to have successfully loaded. If loading BokehJS from CDN, this \\n\"+\n",
              "     \"may be due to a slow or bad network connection. Possible fixes:\\n\"+\n",
              "     \"</p>\\n\"+\n",
              "     \"<ul>\\n\"+\n",
              "     \"<li>re-rerun `output_notebook()` to attempt to load from CDN again, or</li>\\n\"+\n",
              "     \"<li>use INLINE resources instead, as so:</li>\\n\"+\n",
              "     \"</ul>\\n\"+\n",
              "     \"<code>\\n\"+\n",
              "     \"from bokeh.resources import INLINE\\n\"+\n",
              "     \"output_notebook(resources=INLINE)\\n\"+\n",
              "     \"</code>\\n\"+\n",
              "     \"</div>\"}};\n",
              "\n",
              "  function display_loaded() {\n",
              "    var el = document.getElementById(null);\n",
              "    if (el != null) {\n",
              "      el.textContent = \"BokehJS is loading...\";\n",
              "    }\n",
              "    if (root.Bokeh !== undefined) {\n",
              "      if (el != null) {\n",
              "        el.textContent = \"BokehJS \" + root.Bokeh.version + \" successfully loaded.\";\n",
              "      }\n",
              "    } else if (Date.now() < root._bokeh_timeout) {\n",
              "      setTimeout(display_loaded, 100)\n",
              "    }\n",
              "  }\n",
              "\n",
              "\n",
              "  function run_callbacks() {\n",
              "    try {\n",
              "      root._bokeh_onload_callbacks.forEach(function(callback) {\n",
              "        if (callback != null)\n",
              "          callback();\n",
              "      });\n",
              "    } finally {\n",
              "      delete root._bokeh_onload_callbacks\n",
              "    }\n",
              "    console.debug(\"Bokeh: all callbacks have finished\");\n",
              "  }\n",
              "\n",
              "  function load_libs(css_urls, js_urls, callback) {\n",
              "    if (css_urls == null) css_urls = [];\n",
              "    if (js_urls == null) js_urls = [];\n",
              "\n",
              "    root._bokeh_onload_callbacks.push(callback);\n",
              "    if (root._bokeh_is_loading > 0) {\n",
              "      console.debug(\"Bokeh: BokehJS is being loaded, scheduling callback at\", now());\n",
              "      return null;\n",
              "    }\n",
              "    if (js_urls == null || js_urls.length === 0) {\n",
              "      run_callbacks();\n",
              "      return null;\n",
              "    }\n",
              "    console.debug(\"Bokeh: BokehJS not loaded, scheduling load and callback at\", now());\n",
              "    root._bokeh_is_loading = css_urls.length + js_urls.length;\n",
              "\n",
              "    function on_load() {\n",
              "      root._bokeh_is_loading--;\n",
              "      if (root._bokeh_is_loading === 0) {\n",
              "        console.debug(\"Bokeh: all BokehJS libraries/stylesheets loaded\");\n",
              "        run_callbacks()\n",
              "      }\n",
              "    }\n",
              "\n",
              "    function on_error(url) {\n",
              "      console.error(\"failed to load \" + url);\n",
              "    }\n",
              "\n",
              "    for (let i = 0; i < css_urls.length; i++) {\n",
              "      const url = css_urls[i];\n",
              "      const element = document.createElement(\"link\");\n",
              "      element.onload = on_load;\n",
              "      element.onerror = on_error.bind(null, url);\n",
              "      element.rel = \"stylesheet\";\n",
              "      element.type = \"text/css\";\n",
              "      element.href = url;\n",
              "      console.debug(\"Bokeh: injecting link tag for BokehJS stylesheet: \", url);\n",
              "      document.body.appendChild(element);\n",
              "    }\n",
              "\n",
              "    const hashes = {\"https://cdn.bokeh.org/bokeh/release/bokeh-2.3.3.min.js\": \"dM3QQsP+wXdHg42wTqW85BjZQdLNNIXqlPw/BgKoExPmTG7ZLML4EGqLMfqHT6ON\", \"https://cdn.bokeh.org/bokeh/release/bokeh-tables-2.3.3.min.js\": \"8x57I4YuIfu8XyZfFo0XVr2WAT8EK4rh/uDe3wF7YuW2FNUSNEpJbsPaB1nJ2fz2\", \"https://cdn.bokeh.org/bokeh/release/bokeh-widgets-2.3.3.min.js\": \"3QTqdz9LyAm2i0sG5XTePsHec3UHWwVsrOL68SYRoAXsafvfAyqtQ+h440+qIBhS\"};\n",
              "\n",
              "    for (let i = 0; i < js_urls.length; i++) {\n",
              "      const url = js_urls[i];\n",
              "      const element = document.createElement('script');\n",
              "      element.onload = on_load;\n",
              "      element.onerror = on_error.bind(null, url);\n",
              "      element.async = false;\n",
              "      element.src = url;\n",
              "      if (url in hashes) {\n",
              "        element.crossOrigin = \"anonymous\";\n",
              "        element.integrity = \"sha384-\" + hashes[url];\n",
              "      }\n",
              "      console.debug(\"Bokeh: injecting script tag for BokehJS library: \", url);\n",
              "      document.head.appendChild(element);\n",
              "    }\n",
              "  };\n",
              "\n",
              "  function inject_raw_css(css) {\n",
              "    const element = document.createElement(\"style\");\n",
              "    element.appendChild(document.createTextNode(css));\n",
              "    document.body.appendChild(element);\n",
              "  }\n",
              "\n",
              "  \n",
              "  var js_urls = [\"https://cdn.bokeh.org/bokeh/release/bokeh-2.3.3.min.js\", \"https://cdn.bokeh.org/bokeh/release/bokeh-widgets-2.3.3.min.js\", \"https://cdn.bokeh.org/bokeh/release/bokeh-tables-2.3.3.min.js\"];\n",
              "  var css_urls = [];\n",
              "  \n",
              "\n",
              "  var inline_js = [\n",
              "    function(Bokeh) {\n",
              "      Bokeh.set_log_level(\"info\");\n",
              "    },\n",
              "    function(Bokeh) {\n",
              "    \n",
              "    \n",
              "    }\n",
              "  ];\n",
              "\n",
              "  function run_inline_js() {\n",
              "    \n",
              "    if (root.Bokeh !== undefined || force === true) {\n",
              "      \n",
              "    for (var i = 0; i < inline_js.length; i++) {\n",
              "      inline_js[i].call(root, root.Bokeh);\n",
              "    }\n",
              "    } else if (Date.now() < root._bokeh_timeout) {\n",
              "      setTimeout(run_inline_js, 100);\n",
              "    } else if (!root._bokeh_failed_load) {\n",
              "      console.log(\"Bokeh: BokehJS failed to load within specified timeout.\");\n",
              "      root._bokeh_failed_load = true;\n",
              "    } else if (force !== true) {\n",
              "      var cell = $(document.getElementById(null)).parents('.cell').data().cell;\n",
              "      cell.output_area.append_execute_result(NB_LOAD_WARNING)\n",
              "    }\n",
              "\n",
              "  }\n",
              "\n",
              "  if (root._bokeh_is_loading === 0) {\n",
              "    console.debug(\"Bokeh: BokehJS loaded, going straight to plotting\");\n",
              "    run_inline_js();\n",
              "  } else {\n",
              "    load_libs(css_urls, js_urls, function() {\n",
              "      console.debug(\"Bokeh: BokehJS plotting callback run at\", now());\n",
              "      run_inline_js();\n",
              "    });\n",
              "  }\n",
              "}(window));"
            ],
            "application/vnd.bokehjs_load.v0+json": "\n(function(root) {\n  function now() {\n    return new Date();\n  }\n\n  var force = true;\n\n  if (typeof root._bokeh_onload_callbacks === \"undefined\" || force === true) {\n    root._bokeh_onload_callbacks = [];\n    root._bokeh_is_loading = undefined;\n  }\n\n  \n\n  \n  if (typeof (root._bokeh_timeout) === \"undefined\" || force === true) {\n    root._bokeh_timeout = Date.now() + 5000;\n    root._bokeh_failed_load = false;\n  }\n\n  var NB_LOAD_WARNING = {'data': {'text/html':\n     \"<div style='background-color: #fdd'>\\n\"+\n     \"<p>\\n\"+\n     \"BokehJS does not appear to have successfully loaded. If loading BokehJS from CDN, this \\n\"+\n     \"may be due to a slow or bad network connection. Possible fixes:\\n\"+\n     \"</p>\\n\"+\n     \"<ul>\\n\"+\n     \"<li>re-rerun `output_notebook()` to attempt to load from CDN again, or</li>\\n\"+\n     \"<li>use INLINE resources instead, as so:</li>\\n\"+\n     \"</ul>\\n\"+\n     \"<code>\\n\"+\n     \"from bokeh.resources import INLINE\\n\"+\n     \"output_notebook(resources=INLINE)\\n\"+\n     \"</code>\\n\"+\n     \"</div>\"}};\n\n  function display_loaded() {\n    var el = document.getElementById(null);\n    if (el != null) {\n      el.textContent = \"BokehJS is loading...\";\n    }\n    if (root.Bokeh !== undefined) {\n      if (el != null) {\n        el.textContent = \"BokehJS \" + root.Bokeh.version + \" successfully loaded.\";\n      }\n    } else if (Date.now() < root._bokeh_timeout) {\n      setTimeout(display_loaded, 100)\n    }\n  }\n\n\n  function run_callbacks() {\n    try {\n      root._bokeh_onload_callbacks.forEach(function(callback) {\n        if (callback != null)\n          callback();\n      });\n    } finally {\n      delete root._bokeh_onload_callbacks\n    }\n    console.debug(\"Bokeh: all callbacks have finished\");\n  }\n\n  function load_libs(css_urls, js_urls, callback) {\n    if (css_urls == null) css_urls = [];\n    if (js_urls == null) js_urls = [];\n\n    root._bokeh_onload_callbacks.push(callback);\n    if (root._bokeh_is_loading > 0) {\n      console.debug(\"Bokeh: BokehJS is being loaded, scheduling callback at\", now());\n      return null;\n    }\n    if (js_urls == null || js_urls.length === 0) {\n      run_callbacks();\n      return null;\n    }\n    console.debug(\"Bokeh: BokehJS not loaded, scheduling load and callback at\", now());\n    root._bokeh_is_loading = css_urls.length + js_urls.length;\n\n    function on_load() {\n      root._bokeh_is_loading--;\n      if (root._bokeh_is_loading === 0) {\n        console.debug(\"Bokeh: all BokehJS libraries/stylesheets loaded\");\n        run_callbacks()\n      }\n    }\n\n    function on_error(url) {\n      console.error(\"failed to load \" + url);\n    }\n\n    for (let i = 0; i < css_urls.length; i++) {\n      const url = css_urls[i];\n      const element = document.createElement(\"link\");\n      element.onload = on_load;\n      element.onerror = on_error.bind(null, url);\n      element.rel = \"stylesheet\";\n      element.type = \"text/css\";\n      element.href = url;\n      console.debug(\"Bokeh: injecting link tag for BokehJS stylesheet: \", url);\n      document.body.appendChild(element);\n    }\n\n    const hashes = {\"https://cdn.bokeh.org/bokeh/release/bokeh-2.3.3.min.js\": \"dM3QQsP+wXdHg42wTqW85BjZQdLNNIXqlPw/BgKoExPmTG7ZLML4EGqLMfqHT6ON\", \"https://cdn.bokeh.org/bokeh/release/bokeh-tables-2.3.3.min.js\": \"8x57I4YuIfu8XyZfFo0XVr2WAT8EK4rh/uDe3wF7YuW2FNUSNEpJbsPaB1nJ2fz2\", \"https://cdn.bokeh.org/bokeh/release/bokeh-widgets-2.3.3.min.js\": \"3QTqdz9LyAm2i0sG5XTePsHec3UHWwVsrOL68SYRoAXsafvfAyqtQ+h440+qIBhS\"};\n\n    for (let i = 0; i < js_urls.length; i++) {\n      const url = js_urls[i];\n      const element = document.createElement('script');\n      element.onload = on_load;\n      element.onerror = on_error.bind(null, url);\n      element.async = false;\n      element.src = url;\n      if (url in hashes) {\n        element.crossOrigin = \"anonymous\";\n        element.integrity = \"sha384-\" + hashes[url];\n      }\n      console.debug(\"Bokeh: injecting script tag for BokehJS library: \", url);\n      document.head.appendChild(element);\n    }\n  };\n\n  function inject_raw_css(css) {\n    const element = document.createElement(\"style\");\n    element.appendChild(document.createTextNode(css));\n    document.body.appendChild(element);\n  }\n\n  \n  var js_urls = [\"https://cdn.bokeh.org/bokeh/release/bokeh-2.3.3.min.js\", \"https://cdn.bokeh.org/bokeh/release/bokeh-widgets-2.3.3.min.js\", \"https://cdn.bokeh.org/bokeh/release/bokeh-tables-2.3.3.min.js\"];\n  var css_urls = [];\n  \n\n  var inline_js = [\n    function(Bokeh) {\n      Bokeh.set_log_level(\"info\");\n    },\n    function(Bokeh) {\n    \n    \n    }\n  ];\n\n  function run_inline_js() {\n    \n    if (root.Bokeh !== undefined || force === true) {\n      \n    for (var i = 0; i < inline_js.length; i++) {\n      inline_js[i].call(root, root.Bokeh);\n    }\n    } else if (Date.now() < root._bokeh_timeout) {\n      setTimeout(run_inline_js, 100);\n    } else if (!root._bokeh_failed_load) {\n      console.log(\"Bokeh: BokehJS failed to load within specified timeout.\");\n      root._bokeh_failed_load = true;\n    } else if (force !== true) {\n      var cell = $(document.getElementById(null)).parents('.cell').data().cell;\n      cell.output_area.append_execute_result(NB_LOAD_WARNING)\n    }\n\n  }\n\n  if (root._bokeh_is_loading === 0) {\n    console.debug(\"Bokeh: BokehJS loaded, going straight to plotting\");\n    run_inline_js();\n  } else {\n    load_libs(css_urls, js_urls, function() {\n      console.debug(\"Bokeh: BokehJS plotting callback run at\", now());\n      run_inline_js();\n    });\n  }\n}(window));"
          },
          "metadata": {}
        },
        {
          "output_type": "display_data",
          "data": {
            "text/html": [
              "\n",
              "\n",
              "\n",
              "\n",
              "\n",
              "\n",
              "  <div class=\"bk-root\" id=\"d1964494-28f0-417b-b898-a996a06232f1\" data-root-id=\"2509\"></div>\n"
            ]
          },
          "metadata": {}
        },
        {
          "output_type": "display_data",
          "data": {
            "application/javascript": [
              "(function(root) {\n",
              "  function embed_document(root) {\n",
              "    \n",
              "  var docs_json = {\"a4a2341e-d447-472e-b6cb-617f8493a6d5\":{\"defs\":[],\"roots\":{\"references\":[{\"attributes\":{\"below\":[{\"id\":\"2518\"}],\"center\":[{\"id\":\"2521\"},{\"id\":\"2525\"}],\"left\":[{\"id\":\"2522\"}],\"renderers\":[{\"id\":\"2537\"}],\"title\":{\"id\":\"2510\"},\"toolbar\":{\"id\":\"2531\"},\"x_range\":{\"id\":\"2507\"},\"x_scale\":{\"id\":\"2514\"},\"y_range\":{\"id\":\"2508\"},\"y_scale\":{\"id\":\"2516\"}},\"id\":\"2509\",\"subtype\":\"Figure\",\"type\":\"Plot\"},{\"attributes\":{\"axis\":{\"id\":\"2522\"},\"dimension\":1,\"ticker\":null},\"id\":\"2525\",\"type\":\"Grid\"},{\"attributes\":{},\"id\":\"2707\",\"type\":\"UnionRenderers\"},{\"attributes\":{\"formatter\":{\"id\":\"2701\"},\"major_label_policy\":{\"id\":\"2703\"},\"ticker\":{\"id\":\"2523\"}},\"id\":\"2522\",\"type\":\"LinearAxis\"},{\"attributes\":{\"line_alpha\":{\"value\":0.5}},\"id\":\"2561\",\"type\":\"MultiLine\"},{\"attributes\":{},\"id\":\"2708\",\"type\":\"Selection\"},{\"attributes\":{\"edge_renderer\":{\"id\":\"2544\"},\"inspection_policy\":{\"id\":\"2696\"},\"layout_provider\":{\"id\":\"2546\"},\"node_renderer\":{\"id\":\"2540\"},\"selection_policy\":{\"id\":\"2691\"}},\"id\":\"2537\",\"type\":\"GraphRenderer\"},{\"attributes\":{},\"id\":\"2696\",\"type\":\"NodesOnly\"},{\"attributes\":{\"source\":{\"id\":\"2539\"}},\"id\":\"2541\",\"type\":\"CDSView\"},{\"attributes\":{},\"id\":\"2709\",\"type\":\"UnionRenderers\"},{\"attributes\":{\"high\":20,\"low\":7,\"palette\":[\"#084594\",\"#2171b5\",\"#4292c6\",\"#6baed6\",\"#9ecae1\",\"#c6dbef\",\"#deebf7\",\"#f7fbff\"]},\"id\":\"2555\",\"type\":\"LinearColorMapper\"},{\"attributes\":{},\"id\":\"2703\",\"type\":\"AllLabels\"},{\"attributes\":{},\"id\":\"2526\",\"type\":\"PanTool\"},{\"attributes\":{\"end\":10.1,\"start\":-10.1},\"id\":\"2507\",\"type\":\"Range1d\"},{\"attributes\":{},\"id\":\"2527\",\"type\":\"WheelZoomTool\"},{\"attributes\":{\"data\":{\"end\":[\"Capturing Critical Zone processes\",\"Erosion\",\"Evidencing ecosystem processes\",\"Evidencing human-ecosystem interactions\",\"Regulating Climate\",\"Restoration\",\"Storing Carbon\",\"Supporting a living ecosystem\",\"Sustaining plant health\",\"Bulk Density\",\"Carbon Content\",\"Moisture\",\"Organic Matter Content\",\"Porosity \",\"Structure\",\"Texture\",\"Bulk Density\",\"Carbon Content\",\"Colour\",\"Compaction\",\"Moisture\",\"Organic Matter Content\",\"Porosity \",\"Structure\",\"Texture\",\"Carbon Content\",\"Colour\",\"Moisture\",\"Nutrient Content \",\"Organic Matter Content\",\"Organisms present\",\"Temperature\",\"Carbon Content\",\"Colour\",\"Compaction\",\"Inorganic inclusions\",\"Moisture\",\"Nutrient Content \",\"Organic Matter Content\",\"Porosity \",\"Carbon Content\",\"Moisture\",\"Organic Matter Content\",\"Structure\",\"Temperature\",\"Carbon Content\",\"Moisture\",\"Organic Matter Content\",\"Porosity \",\"Bulk Density\",\"Carbon Content\",\"Colour\",\"Compaction\",\"Moisture\",\"Nutrient Content \",\"Organic Matter Content\",\"Porosity \",\"Structure\",\"Temperature\",\"Texture\",\"Bulk Density\",\"Carbon Content\",\"Compaction\",\"Moisture\",\"Nutrient Content \",\"Organic Matter Content\",\"Organisms present\",\"Porosity \",\"Structure\",\"Temperature\",\"Texture\",\"Bulk Density\",\"Carbon Content\",\"Colour\",\"Compaction\",\"Inorganic inclusions\",\"Moisture\",\"Nutrient Content \",\"Organic Matter Content\",\"Porosity \",\"Structure\",\"Temperature\",\"Texture\",\"Archiving evidence of past ecosystem processes\",\"Archiving evidence of past human activities\",\"Forming rural landscapes\",\"Sustaining animal health\",\"Sustaining human health\",\"Compaction\",\"Inorganic inclusions\",\"Moisture\",\"Nutrient Content \",\"Organic Matter Content\",\"Porosity \",\"Resistivity \",\"Texture\",\"Colour\",\"Compaction\",\"Inorganic inclusions\",\"Moisture\",\"Nutrient Content \",\"Organic Matter Content\",\"Porosity \",\"Resistivity \",\"Structure\",\"Texture\",\"Moisture\",\"Organic Matter Content\",\"Moisture\",\"Nutrient Content \",\"Organic Matter Content\",\"Porosity \",\"Structure\",\"Texture\",\"Moisture\",\"Nutrient Content \",\"Organic Matter Content\",\"Porosity \",\"Structure\",\"Texture\",\"Modification\",\"Nutrient Content \"],\"start\":[\"Acidity (pH)\",\"Acidity (pH)\",\"Acidity (pH)\",\"Acidity (pH)\",\"Acidity (pH)\",\"Acidity (pH)\",\"Acidity (pH)\",\"Acidity (pH)\",\"Acidity (pH)\",\"Capturing Critical Zone processes\",\"Capturing Critical Zone processes\",\"Capturing Critical Zone processes\",\"Capturing Critical Zone processes\",\"Capturing Critical Zone processes\",\"Capturing Critical Zone processes\",\"Capturing Critical Zone processes\",\"Erosion\",\"Erosion\",\"Erosion\",\"Erosion\",\"Erosion\",\"Erosion\",\"Erosion\",\"Erosion\",\"Erosion\",\"Evidencing ecosystem processes\",\"Evidencing ecosystem processes\",\"Evidencing ecosystem processes\",\"Evidencing ecosystem processes\",\"Evidencing ecosystem processes\",\"Evidencing ecosystem processes\",\"Evidencing ecosystem processes\",\"Evidencing human-ecosystem interactions\",\"Evidencing human-ecosystem interactions\",\"Evidencing human-ecosystem interactions\",\"Evidencing human-ecosystem interactions\",\"Evidencing human-ecosystem interactions\",\"Evidencing human-ecosystem interactions\",\"Evidencing human-ecosystem interactions\",\"Evidencing human-ecosystem interactions\",\"Regulating Climate\",\"Regulating Climate\",\"Regulating Climate\",\"Regulating Climate\",\"Regulating Climate\",\"Restoration\",\"Restoration\",\"Restoration\",\"Restoration\",\"Storing Carbon\",\"Storing Carbon\",\"Storing Carbon\",\"Storing Carbon\",\"Storing Carbon\",\"Storing Carbon\",\"Storing Carbon\",\"Storing Carbon\",\"Storing Carbon\",\"Storing Carbon\",\"Storing Carbon\",\"Supporting a living ecosystem\",\"Supporting a living ecosystem\",\"Supporting a living ecosystem\",\"Supporting a living ecosystem\",\"Supporting a living ecosystem\",\"Supporting a living ecosystem\",\"Supporting a living ecosystem\",\"Supporting a living ecosystem\",\"Supporting a living ecosystem\",\"Supporting a living ecosystem\",\"Supporting a living ecosystem\",\"Sustaining plant health\",\"Sustaining plant health\",\"Sustaining plant health\",\"Sustaining plant health\",\"Sustaining plant health\",\"Sustaining plant health\",\"Sustaining plant health\",\"Sustaining plant health\",\"Sustaining plant health\",\"Sustaining plant health\",\"Sustaining plant health\",\"Sustaining plant health\",\"Carbon Content\",\"Carbon Content\",\"Carbon Content\",\"Carbon Content\",\"Carbon Content\",\"Archiving evidence of past ecosystem processes\",\"Archiving evidence of past ecosystem processes\",\"Archiving evidence of past ecosystem processes\",\"Archiving evidence of past ecosystem processes\",\"Archiving evidence of past ecosystem processes\",\"Archiving evidence of past ecosystem processes\",\"Archiving evidence of past ecosystem processes\",\"Archiving evidence of past ecosystem processes\",\"Archiving evidence of past human activities\",\"Archiving evidence of past human activities\",\"Archiving evidence of past human activities\",\"Archiving evidence of past human activities\",\"Archiving evidence of past human activities\",\"Archiving evidence of past human activities\",\"Archiving evidence of past human activities\",\"Archiving evidence of past human activities\",\"Archiving evidence of past human activities\",\"Archiving evidence of past human activities\",\"Forming rural landscapes\",\"Forming rural landscapes\",\"Sustaining animal health\",\"Sustaining animal health\",\"Sustaining animal health\",\"Sustaining animal health\",\"Sustaining animal health\",\"Sustaining animal health\",\"Sustaining human health\",\"Sustaining human health\",\"Sustaining human health\",\"Sustaining human health\",\"Sustaining human health\",\"Sustaining human health\",\"Moisture\",\"Modification\"]},\"selected\":{\"id\":\"2710\"},\"selection_policy\":{\"id\":\"2709\"}},\"id\":\"2543\",\"type\":\"ColumnDataSource\"},{\"attributes\":{\"callback\":null,\"tooltips\":[[\"concept\",\"@index\"],[\"Degree\",\"@degree\"]]},\"id\":\"2530\",\"type\":\"HoverTool\"},{\"attributes\":{},\"id\":\"2704\",\"type\":\"BasicTickFormatter\"},{\"attributes\":{\"end\":10.1,\"start\":-10.1},\"id\":\"2508\",\"type\":\"Range1d\"},{\"attributes\":{},\"id\":\"2528\",\"type\":\"SaveTool\"},{\"attributes\":{\"text\":\"soil health and heritage\"},\"id\":\"2510\",\"type\":\"Title\"},{\"attributes\":{},\"id\":\"2710\",\"type\":\"Selection\"},{\"attributes\":{},\"id\":\"2529\",\"type\":\"ResetTool\"},{\"attributes\":{},\"id\":\"2514\",\"type\":\"LinearScale\"},{\"attributes\":{\"graph_layout\":{\"Acidity (pH)\":[-1.9123317421112456,3.262649258417151],\"Archiving evidence of past ecosystem processes\":[-1.26324354314199,-4.736644696316079],\"Archiving evidence of past human activities\":[0.26356532392047466,-3.9748534164609937],\"Bulk Density\":[3.0862571740378044,5.527708793055234],\"Capturing Critical Zone processes\":[-0.7918893831247884,3.8589271625864217],\"Carbon Content\":[-2.351797540932534,0.6539513194898853],\"Colour\":[4.988498664678595,-0.42820300872275197],\"Compaction\":[-0.2903880034018113,-2.487265899242125],\"Erosion\":[1.8973815973441337,1.6229342016308947],\"Evidencing ecosystem processes\":[2.5472979839467165,3.3392884989615266],\"Evidencing human-ecosystem interactions\":[1.0157004667225225,-2.3662998390724055],\"Forming rural landscapes\":[-7.244194263814125,1.0683133014506048],\"Inorganic inclusions\":[3.29157264369682,-5.856201741371766],\"Modification\":[0.9943846751170111,-7.6646502251782795],\"Moisture\":[-1.669580972613942,-0.6200474399714063],\"Nutrient Content \":[2.490616557384691,-2.6552987189741235],\"Organic Matter Content\":[-1.5177976451109543,0.48847271274597115],\"Organisms present\":[5.779297093775994,7.711400905197359],\"Porosity \":[-0.8417813434872341,-1.0848518384618349],\"Regulating Climate\":[-4.074480501636247,4.4528511203658105],\"Resistivity \":[-1.9670260582003751,-10.0],\"Restoration\":[-5.592144562631358,0.17864899075611904],\"Storing Carbon\":[0.6463929246864745,1.7300868814916617],\"Structure\":[-1.2615197323995344,1.7933503095759002],\"Supporting a living ecosystem\":[1.1250388261403619,2.9322405482624796],\"Sustaining animal health\":[2.728819015387689,-0.1972712528337288],\"Sustaining human health\":[-3.121257441075337,-2.4953758322178747],\"Sustaining plant health\":[1.3773021428701373,0.5501534069106914],\"Temperature\":[0.13610189669246264,6.468587338557552],\"Texture\":[1.5312057472795655,-1.072600840631897]}},\"id\":\"2546\",\"type\":\"StaticLayoutProvider\"},{\"attributes\":{\"data\":{\"adjusted_node_size\":[14,13,15,13,14,11,10,17,17,18,10,19,14,16,8,12,12,11,12,9,20,7,15,19,7,16,7,14,10,14],\"degree\":[9,8,10,8,9,6,5,12,12,13,5,14,9,11,3,7,7,6,7,4,15,2,10,14,2,11,2,9,5,9],\"index\":[\"Acidity (pH)\",\"Capturing Critical Zone processes\",\"Erosion\",\"Evidencing ecosystem processes\",\"Evidencing human-ecosystem interactions\",\"Regulating Climate\",\"Restoration\",\"Storing Carbon\",\"Supporting a living ecosystem\",\"Sustaining plant health\",\"Bulk Density\",\"Carbon Content\",\"Archiving evidence of past ecosystem processes\",\"Archiving evidence of past human activities\",\"Forming rural landscapes\",\"Sustaining animal health\",\"Sustaining human health\",\"Colour\",\"Compaction\",\"Inorganic inclusions\",\"Moisture\",\"Modification\",\"Nutrient Content \",\"Organic Matter Content\",\"Organisms present\",\"Porosity \",\"Resistivity \",\"Structure\",\"Temperature\",\"Texture\"]},\"selected\":{\"id\":\"2708\"},\"selection_policy\":{\"id\":\"2707\"}},\"id\":\"2539\",\"type\":\"ColumnDataSource\"},{\"attributes\":{\"fill_color\":{\"field\":\"adjusted_node_size\",\"transform\":{\"id\":\"2555\"}},\"size\":{\"field\":\"adjusted_node_size\"}},\"id\":\"2556\",\"type\":\"Circle\"},{\"attributes\":{\"data_source\":{\"id\":\"2543\"},\"glyph\":{\"id\":\"2561\"},\"hover_glyph\":null,\"muted_glyph\":null,\"view\":{\"id\":\"2545\"}},\"id\":\"2544\",\"type\":\"GlyphRenderer\"},{\"attributes\":{},\"id\":\"2706\",\"type\":\"AllLabels\"},{\"attributes\":{},\"id\":\"2701\",\"type\":\"BasicTickFormatter\"},{\"attributes\":{\"source\":{\"id\":\"2543\"}},\"id\":\"2545\",\"type\":\"CDSView\"},{\"attributes\":{\"axis\":{\"id\":\"2518\"},\"ticker\":null},\"id\":\"2521\",\"type\":\"Grid\"},{\"attributes\":{},\"id\":\"2516\",\"type\":\"LinearScale\"},{\"attributes\":{\"active_multi\":null,\"active_scroll\":{\"id\":\"2527\"},\"tools\":[{\"id\":\"2526\"},{\"id\":\"2527\"},{\"id\":\"2528\"},{\"id\":\"2529\"},{\"id\":\"2530\"}]},\"id\":\"2531\",\"type\":\"Toolbar\"},{\"attributes\":{\"formatter\":{\"id\":\"2704\"},\"major_label_policy\":{\"id\":\"2706\"},\"ticker\":{\"id\":\"2519\"}},\"id\":\"2518\",\"type\":\"LinearAxis\"},{\"attributes\":{},\"id\":\"2523\",\"type\":\"BasicTicker\"},{\"attributes\":{\"data_source\":{\"id\":\"2539\"},\"glyph\":{\"id\":\"2556\"},\"hover_glyph\":null,\"muted_glyph\":null,\"view\":{\"id\":\"2541\"}},\"id\":\"2540\",\"type\":\"GlyphRenderer\"},{\"attributes\":{},\"id\":\"2519\",\"type\":\"BasicTicker\"},{\"attributes\":{},\"id\":\"2691\",\"type\":\"NodesOnly\"}],\"root_ids\":[\"2509\"]},\"title\":\"Bokeh Application\",\"version\":\"2.3.3\"}};\n",
              "  var render_items = [{\"docid\":\"a4a2341e-d447-472e-b6cb-617f8493a6d5\",\"root_ids\":[\"2509\"],\"roots\":{\"2509\":\"d1964494-28f0-417b-b898-a996a06232f1\"}}];\n",
              "  root.Bokeh.embed.embed_items_notebook(docs_json, render_items);\n",
              "\n",
              "  }\n",
              "  if (root.Bokeh !== undefined) {\n",
              "    embed_document(root);\n",
              "  } else {\n",
              "    var attempts = 0;\n",
              "    var timer = setInterval(function(root) {\n",
              "      if (root.Bokeh !== undefined) {\n",
              "        clearInterval(timer);\n",
              "        embed_document(root);\n",
              "      } else {\n",
              "        attempts++;\n",
              "        if (attempts > 100) {\n",
              "          clearInterval(timer);\n",
              "          console.log(\"Bokeh: ERROR: Unable to run BokehJS code because BokehJS library is missing\");\n",
              "        }\n",
              "      }\n",
              "    }, 10, root)\n",
              "  }\n",
              "})(window);"
            ],
            "application/vnd.bokehjs_exec.v0+json": ""
          },
          "metadata": {
            "application/vnd.bokehjs_exec.v0+json": {
              "id": "2509"
            }
          }
        }
      ],
      "source": [
        "#Choose attributes from G network to size and color by — setting manual size (e.g. 10) or color (e.g. 'skyblue') also allowed\n",
        "size_by_this_attribute = 'adjusted_node_size'\n",
        "color_by_this_attribute = 'adjusted_node_size'\n",
        "\n",
        "#Pick a color palette — Blues8, Reds8, Purples8, Oranges8, Viridis8\n",
        "color_palette = Blues8\n",
        "\n",
        "#Choose a title!\n",
        "title = 'soil health and heritage'\n",
        "\n",
        "#Establish which categories will appear when hovering over each node\n",
        "HOVER_TOOLTIPS = [\n",
        "       (\"concept\", \"@index\"),\n",
        "        (\"Degree\", \"@degree\")\n",
        "]\n",
        "\n",
        "#Create a plot — set dimensions, toolbar, and title\n",
        "plot = figure(tooltips = HOVER_TOOLTIPS,\n",
        "              tools=\"pan,wheel_zoom,save,reset\", active_scroll='wheel_zoom',\n",
        "            x_range=Range1d(-10.1, 10.1), y_range=Range1d(-10.1, 10.1), title=title)\n",
        "\n",
        "#Create a network graph object\n",
        "# https://networkx.github.io/documentation/networkx-1.9/reference/generated/networkx.drawing.layout.spring_layout.html\\\n",
        "network_graph = from_networkx(G, networkx.spring_layout, scale=10, center=(0, 0))\n",
        "\n",
        "#Set node sizes and colors according to node degree (color as spectrum of color palette)\n",
        "minimum_value_color = min(network_graph.node_renderer.data_source.data[color_by_this_attribute])\n",
        "maximum_value_color = max(network_graph.node_renderer.data_source.data[color_by_this_attribute])\n",
        "network_graph.node_renderer.glyph = Circle(size=size_by_this_attribute, fill_color=linear_cmap(color_by_this_attribute, color_palette, minimum_value_color, maximum_value_color))\n",
        "\n",
        "#Set edge opacity and width\n",
        "network_graph.edge_renderer.glyph = MultiLine(line_alpha=0.5, line_width=1)\n",
        "\n",
        "plot.renderers.append(network_graph)\n",
        "\n",
        "show(plot)\n",
        "#save(plot, filename=f\"{title}.html\")"
      ]
    },
    {
      "cell_type": "markdown",
      "metadata": {
        "id": "YxRyQkfjUsRL"
      },
      "source": [
        "## Network with Nodes Colored By Attribute (Community)"
      ]
    },
    {
      "cell_type": "markdown",
      "metadata": {
        "id": "zbXq15uGUsRL"
      },
      "source": [
        "The code below shows how to size and color nodes by modularity class."
      ]
    },
    {
      "cell_type": "markdown",
      "metadata": {
        "id": "ndVsTZRZUsRL"
      },
      "source": [
        "**Include community module**"
      ]
    },
    {
      "cell_type": "code",
      "execution_count": 47,
      "metadata": {
        "id": "bZAte44cUsRL"
      },
      "outputs": [],
      "source": [
        "from bokeh.io import output_notebook, show, save\n",
        "from bokeh.models import Range1d, Circle, ColumnDataSource, MultiLine\n",
        "from bokeh.plotting import figure\n",
        "from bokeh.plotting import from_networkx\n",
        "from bokeh.palettes import Blues8, Reds8, Purples8, Oranges8, Viridis8, Spectral8\n",
        "from bokeh.transform import linear_cmap\n",
        "from networkx.algorithms import community"
      ]
    },
    {
      "cell_type": "markdown",
      "metadata": {
        "id": "X7syVy5tUsRM"
      },
      "source": [
        "**Calculate degree for each node and add as node attribute**"
      ]
    },
    {
      "cell_type": "code",
      "execution_count": 48,
      "metadata": {
        "tags": [
          "hide-input"
        ],
        "id": "-7Rj8AD6UsRM"
      },
      "outputs": [],
      "source": [
        "degrees = dict(networkx.degree(G))\n",
        "networkx.set_node_attributes(G, name='degree', values=degrees)"
      ]
    },
    {
      "cell_type": "markdown",
      "metadata": {
        "id": "wCwSvucrUsRM"
      },
      "source": [
        "**Slightly adjust degree so that the nodes with very small degrees are still visible**"
      ]
    },
    {
      "cell_type": "code",
      "execution_count": 49,
      "metadata": {
        "tags": [
          "hide-input"
        ],
        "id": "RKoq91HZUsRM"
      },
      "outputs": [],
      "source": [
        "number_to_adjust_by = 5\n",
        "adjusted_node_size = dict([(node, degree+number_to_adjust_by) for node, degree in networkx.degree(G)])\n",
        "networkx.set_node_attributes(G, name='adjusted_node_size', values=adjusted_node_size)"
      ]
    },
    {
      "cell_type": "markdown",
      "metadata": {
        "id": "VelrtOu8UsRM"
      },
      "source": [
        "**Calculate communities**"
      ]
    },
    {
      "cell_type": "code",
      "execution_count": 50,
      "metadata": {
        "id": "0vTFl0EgUsRM"
      },
      "outputs": [],
      "source": [
        "communities = community.greedy_modularity_communities(G)"
      ]
    },
    {
      "cell_type": "markdown",
      "metadata": {
        "id": "we9_7ts5UsRM"
      },
      "source": [
        "**Add modularity class and color as attributes to network graph**"
      ]
    },
    {
      "cell_type": "code",
      "execution_count": 51,
      "metadata": {
        "id": "7I47Zxj1UsRN"
      },
      "outputs": [],
      "source": [
        "# Create empty dictionaries\n",
        "modularity_class = {}\n",
        "modularity_color = {}\n",
        "#Loop through each community in the network\n",
        "for community_number, community in enumerate(communities):\n",
        "    #For each member of the community, add their community number and a distinct color\n",
        "    for name in community: \n",
        "        modularity_class[name] = community_number\n",
        "        modularity_color[name] = Spectral8[community_number]"
      ]
    },
    {
      "cell_type": "code",
      "execution_count": 52,
      "metadata": {
        "id": "C-oqphphUsRN"
      },
      "outputs": [],
      "source": [
        "# Add modularity class and color as attributes from the network above\n",
        "networkx.set_node_attributes(G, modularity_class, 'modularity_class')\n",
        "networkx.set_node_attributes(G, modularity_color, 'modularity_color')"
      ]
    },
    {
      "cell_type": "code",
      "execution_count": 53,
      "metadata": {
        "colab": {
          "base_uri": "https://localhost:8080/",
          "height": 617
        },
        "id": "AXKfHsB5UsRN",
        "outputId": "9881a3c7-2c02-4766-ac1d-82e59ec64010"
      },
      "outputs": [
        {
          "output_type": "display_data",
          "data": {
            "application/javascript": [
              "\n",
              "(function(root) {\n",
              "  function now() {\n",
              "    return new Date();\n",
              "  }\n",
              "\n",
              "  var force = true;\n",
              "\n",
              "  if (typeof root._bokeh_onload_callbacks === \"undefined\" || force === true) {\n",
              "    root._bokeh_onload_callbacks = [];\n",
              "    root._bokeh_is_loading = undefined;\n",
              "  }\n",
              "\n",
              "  var JS_MIME_TYPE = 'application/javascript';\n",
              "  var HTML_MIME_TYPE = 'text/html';\n",
              "  var EXEC_MIME_TYPE = 'application/vnd.bokehjs_exec.v0+json';\n",
              "  var CLASS_NAME = 'output_bokeh rendered_html';\n",
              "\n",
              "  /**\n",
              "   * Render data to the DOM node\n",
              "   */\n",
              "  function render(props, node) {\n",
              "    var script = document.createElement(\"script\");\n",
              "    node.appendChild(script);\n",
              "  }\n",
              "\n",
              "  /**\n",
              "   * Handle when an output is cleared or removed\n",
              "   */\n",
              "  function handleClearOutput(event, handle) {\n",
              "    var cell = handle.cell;\n",
              "\n",
              "    var id = cell.output_area._bokeh_element_id;\n",
              "    var server_id = cell.output_area._bokeh_server_id;\n",
              "    // Clean up Bokeh references\n",
              "    if (id != null && id in Bokeh.index) {\n",
              "      Bokeh.index[id].model.document.clear();\n",
              "      delete Bokeh.index[id];\n",
              "    }\n",
              "\n",
              "    if (server_id !== undefined) {\n",
              "      // Clean up Bokeh references\n",
              "      var cmd = \"from bokeh.io.state import curstate; print(curstate().uuid_to_server['\" + server_id + \"'].get_sessions()[0].document.roots[0]._id)\";\n",
              "      cell.notebook.kernel.execute(cmd, {\n",
              "        iopub: {\n",
              "          output: function(msg) {\n",
              "            var id = msg.content.text.trim();\n",
              "            if (id in Bokeh.index) {\n",
              "              Bokeh.index[id].model.document.clear();\n",
              "              delete Bokeh.index[id];\n",
              "            }\n",
              "          }\n",
              "        }\n",
              "      });\n",
              "      // Destroy server and session\n",
              "      var cmd = \"import bokeh.io.notebook as ion; ion.destroy_server('\" + server_id + \"')\";\n",
              "      cell.notebook.kernel.execute(cmd);\n",
              "    }\n",
              "  }\n",
              "\n",
              "  /**\n",
              "   * Handle when a new output is added\n",
              "   */\n",
              "  function handleAddOutput(event, handle) {\n",
              "    var output_area = handle.output_area;\n",
              "    var output = handle.output;\n",
              "\n",
              "    // limit handleAddOutput to display_data with EXEC_MIME_TYPE content only\n",
              "    if ((output.output_type != \"display_data\") || (!Object.prototype.hasOwnProperty.call(output.data, EXEC_MIME_TYPE))) {\n",
              "      return\n",
              "    }\n",
              "\n",
              "    var toinsert = output_area.element.find(\".\" + CLASS_NAME.split(' ')[0]);\n",
              "\n",
              "    if (output.metadata[EXEC_MIME_TYPE][\"id\"] !== undefined) {\n",
              "      toinsert[toinsert.length - 1].firstChild.textContent = output.data[JS_MIME_TYPE];\n",
              "      // store reference to embed id on output_area\n",
              "      output_area._bokeh_element_id = output.metadata[EXEC_MIME_TYPE][\"id\"];\n",
              "    }\n",
              "    if (output.metadata[EXEC_MIME_TYPE][\"server_id\"] !== undefined) {\n",
              "      var bk_div = document.createElement(\"div\");\n",
              "      bk_div.innerHTML = output.data[HTML_MIME_TYPE];\n",
              "      var script_attrs = bk_div.children[0].attributes;\n",
              "      for (var i = 0; i < script_attrs.length; i++) {\n",
              "        toinsert[toinsert.length - 1].firstChild.setAttribute(script_attrs[i].name, script_attrs[i].value);\n",
              "        toinsert[toinsert.length - 1].firstChild.textContent = bk_div.children[0].textContent\n",
              "      }\n",
              "      // store reference to server id on output_area\n",
              "      output_area._bokeh_server_id = output.metadata[EXEC_MIME_TYPE][\"server_id\"];\n",
              "    }\n",
              "  }\n",
              "\n",
              "  function register_renderer(events, OutputArea) {\n",
              "\n",
              "    function append_mime(data, metadata, element) {\n",
              "      // create a DOM node to render to\n",
              "      var toinsert = this.create_output_subarea(\n",
              "        metadata,\n",
              "        CLASS_NAME,\n",
              "        EXEC_MIME_TYPE\n",
              "      );\n",
              "      this.keyboard_manager.register_events(toinsert);\n",
              "      // Render to node\n",
              "      var props = {data: data, metadata: metadata[EXEC_MIME_TYPE]};\n",
              "      render(props, toinsert[toinsert.length - 1]);\n",
              "      element.append(toinsert);\n",
              "      return toinsert\n",
              "    }\n",
              "\n",
              "    /* Handle when an output is cleared or removed */\n",
              "    events.on('clear_output.CodeCell', handleClearOutput);\n",
              "    events.on('delete.Cell', handleClearOutput);\n",
              "\n",
              "    /* Handle when a new output is added */\n",
              "    events.on('output_added.OutputArea', handleAddOutput);\n",
              "\n",
              "    /**\n",
              "     * Register the mime type and append_mime function with output_area\n",
              "     */\n",
              "    OutputArea.prototype.register_mime_type(EXEC_MIME_TYPE, append_mime, {\n",
              "      /* Is output safe? */\n",
              "      safe: true,\n",
              "      /* Index of renderer in `output_area.display_order` */\n",
              "      index: 0\n",
              "    });\n",
              "  }\n",
              "\n",
              "  // register the mime type if in Jupyter Notebook environment and previously unregistered\n",
              "  if (root.Jupyter !== undefined) {\n",
              "    var events = require('base/js/events');\n",
              "    var OutputArea = require('notebook/js/outputarea').OutputArea;\n",
              "\n",
              "    if (OutputArea.prototype.mime_types().indexOf(EXEC_MIME_TYPE) == -1) {\n",
              "      register_renderer(events, OutputArea);\n",
              "    }\n",
              "  }\n",
              "\n",
              "  \n",
              "  if (typeof (root._bokeh_timeout) === \"undefined\" || force === true) {\n",
              "    root._bokeh_timeout = Date.now() + 5000;\n",
              "    root._bokeh_failed_load = false;\n",
              "  }\n",
              "\n",
              "  var NB_LOAD_WARNING = {'data': {'text/html':\n",
              "     \"<div style='background-color: #fdd'>\\n\"+\n",
              "     \"<p>\\n\"+\n",
              "     \"BokehJS does not appear to have successfully loaded. If loading BokehJS from CDN, this \\n\"+\n",
              "     \"may be due to a slow or bad network connection. Possible fixes:\\n\"+\n",
              "     \"</p>\\n\"+\n",
              "     \"<ul>\\n\"+\n",
              "     \"<li>re-rerun `output_notebook()` to attempt to load from CDN again, or</li>\\n\"+\n",
              "     \"<li>use INLINE resources instead, as so:</li>\\n\"+\n",
              "     \"</ul>\\n\"+\n",
              "     \"<code>\\n\"+\n",
              "     \"from bokeh.resources import INLINE\\n\"+\n",
              "     \"output_notebook(resources=INLINE)\\n\"+\n",
              "     \"</code>\\n\"+\n",
              "     \"</div>\"}};\n",
              "\n",
              "  function display_loaded() {\n",
              "    var el = document.getElementById(null);\n",
              "    if (el != null) {\n",
              "      el.textContent = \"BokehJS is loading...\";\n",
              "    }\n",
              "    if (root.Bokeh !== undefined) {\n",
              "      if (el != null) {\n",
              "        el.textContent = \"BokehJS \" + root.Bokeh.version + \" successfully loaded.\";\n",
              "      }\n",
              "    } else if (Date.now() < root._bokeh_timeout) {\n",
              "      setTimeout(display_loaded, 100)\n",
              "    }\n",
              "  }\n",
              "\n",
              "\n",
              "  function run_callbacks() {\n",
              "    try {\n",
              "      root._bokeh_onload_callbacks.forEach(function(callback) {\n",
              "        if (callback != null)\n",
              "          callback();\n",
              "      });\n",
              "    } finally {\n",
              "      delete root._bokeh_onload_callbacks\n",
              "    }\n",
              "    console.debug(\"Bokeh: all callbacks have finished\");\n",
              "  }\n",
              "\n",
              "  function load_libs(css_urls, js_urls, callback) {\n",
              "    if (css_urls == null) css_urls = [];\n",
              "    if (js_urls == null) js_urls = [];\n",
              "\n",
              "    root._bokeh_onload_callbacks.push(callback);\n",
              "    if (root._bokeh_is_loading > 0) {\n",
              "      console.debug(\"Bokeh: BokehJS is being loaded, scheduling callback at\", now());\n",
              "      return null;\n",
              "    }\n",
              "    if (js_urls == null || js_urls.length === 0) {\n",
              "      run_callbacks();\n",
              "      return null;\n",
              "    }\n",
              "    console.debug(\"Bokeh: BokehJS not loaded, scheduling load and callback at\", now());\n",
              "    root._bokeh_is_loading = css_urls.length + js_urls.length;\n",
              "\n",
              "    function on_load() {\n",
              "      root._bokeh_is_loading--;\n",
              "      if (root._bokeh_is_loading === 0) {\n",
              "        console.debug(\"Bokeh: all BokehJS libraries/stylesheets loaded\");\n",
              "        run_callbacks()\n",
              "      }\n",
              "    }\n",
              "\n",
              "    function on_error(url) {\n",
              "      console.error(\"failed to load \" + url);\n",
              "    }\n",
              "\n",
              "    for (let i = 0; i < css_urls.length; i++) {\n",
              "      const url = css_urls[i];\n",
              "      const element = document.createElement(\"link\");\n",
              "      element.onload = on_load;\n",
              "      element.onerror = on_error.bind(null, url);\n",
              "      element.rel = \"stylesheet\";\n",
              "      element.type = \"text/css\";\n",
              "      element.href = url;\n",
              "      console.debug(\"Bokeh: injecting link tag for BokehJS stylesheet: \", url);\n",
              "      document.body.appendChild(element);\n",
              "    }\n",
              "\n",
              "    const hashes = {\"https://cdn.bokeh.org/bokeh/release/bokeh-2.3.3.min.js\": \"dM3QQsP+wXdHg42wTqW85BjZQdLNNIXqlPw/BgKoExPmTG7ZLML4EGqLMfqHT6ON\", \"https://cdn.bokeh.org/bokeh/release/bokeh-tables-2.3.3.min.js\": \"8x57I4YuIfu8XyZfFo0XVr2WAT8EK4rh/uDe3wF7YuW2FNUSNEpJbsPaB1nJ2fz2\", \"https://cdn.bokeh.org/bokeh/release/bokeh-widgets-2.3.3.min.js\": \"3QTqdz9LyAm2i0sG5XTePsHec3UHWwVsrOL68SYRoAXsafvfAyqtQ+h440+qIBhS\"};\n",
              "\n",
              "    for (let i = 0; i < js_urls.length; i++) {\n",
              "      const url = js_urls[i];\n",
              "      const element = document.createElement('script');\n",
              "      element.onload = on_load;\n",
              "      element.onerror = on_error.bind(null, url);\n",
              "      element.async = false;\n",
              "      element.src = url;\n",
              "      if (url in hashes) {\n",
              "        element.crossOrigin = \"anonymous\";\n",
              "        element.integrity = \"sha384-\" + hashes[url];\n",
              "      }\n",
              "      console.debug(\"Bokeh: injecting script tag for BokehJS library: \", url);\n",
              "      document.head.appendChild(element);\n",
              "    }\n",
              "  };\n",
              "\n",
              "  function inject_raw_css(css) {\n",
              "    const element = document.createElement(\"style\");\n",
              "    element.appendChild(document.createTextNode(css));\n",
              "    document.body.appendChild(element);\n",
              "  }\n",
              "\n",
              "  \n",
              "  var js_urls = [\"https://cdn.bokeh.org/bokeh/release/bokeh-2.3.3.min.js\", \"https://cdn.bokeh.org/bokeh/release/bokeh-widgets-2.3.3.min.js\", \"https://cdn.bokeh.org/bokeh/release/bokeh-tables-2.3.3.min.js\"];\n",
              "  var css_urls = [];\n",
              "  \n",
              "\n",
              "  var inline_js = [\n",
              "    function(Bokeh) {\n",
              "      Bokeh.set_log_level(\"info\");\n",
              "    },\n",
              "    function(Bokeh) {\n",
              "    \n",
              "    \n",
              "    }\n",
              "  ];\n",
              "\n",
              "  function run_inline_js() {\n",
              "    \n",
              "    if (root.Bokeh !== undefined || force === true) {\n",
              "      \n",
              "    for (var i = 0; i < inline_js.length; i++) {\n",
              "      inline_js[i].call(root, root.Bokeh);\n",
              "    }\n",
              "    } else if (Date.now() < root._bokeh_timeout) {\n",
              "      setTimeout(run_inline_js, 100);\n",
              "    } else if (!root._bokeh_failed_load) {\n",
              "      console.log(\"Bokeh: BokehJS failed to load within specified timeout.\");\n",
              "      root._bokeh_failed_load = true;\n",
              "    } else if (force !== true) {\n",
              "      var cell = $(document.getElementById(null)).parents('.cell').data().cell;\n",
              "      cell.output_area.append_execute_result(NB_LOAD_WARNING)\n",
              "    }\n",
              "\n",
              "  }\n",
              "\n",
              "  if (root._bokeh_is_loading === 0) {\n",
              "    console.debug(\"Bokeh: BokehJS loaded, going straight to plotting\");\n",
              "    run_inline_js();\n",
              "  } else {\n",
              "    load_libs(css_urls, js_urls, function() {\n",
              "      console.debug(\"Bokeh: BokehJS plotting callback run at\", now());\n",
              "      run_inline_js();\n",
              "    });\n",
              "  }\n",
              "}(window));"
            ],
            "application/vnd.bokehjs_load.v0+json": "\n(function(root) {\n  function now() {\n    return new Date();\n  }\n\n  var force = true;\n\n  if (typeof root._bokeh_onload_callbacks === \"undefined\" || force === true) {\n    root._bokeh_onload_callbacks = [];\n    root._bokeh_is_loading = undefined;\n  }\n\n  \n\n  \n  if (typeof (root._bokeh_timeout) === \"undefined\" || force === true) {\n    root._bokeh_timeout = Date.now() + 5000;\n    root._bokeh_failed_load = false;\n  }\n\n  var NB_LOAD_WARNING = {'data': {'text/html':\n     \"<div style='background-color: #fdd'>\\n\"+\n     \"<p>\\n\"+\n     \"BokehJS does not appear to have successfully loaded. If loading BokehJS from CDN, this \\n\"+\n     \"may be due to a slow or bad network connection. Possible fixes:\\n\"+\n     \"</p>\\n\"+\n     \"<ul>\\n\"+\n     \"<li>re-rerun `output_notebook()` to attempt to load from CDN again, or</li>\\n\"+\n     \"<li>use INLINE resources instead, as so:</li>\\n\"+\n     \"</ul>\\n\"+\n     \"<code>\\n\"+\n     \"from bokeh.resources import INLINE\\n\"+\n     \"output_notebook(resources=INLINE)\\n\"+\n     \"</code>\\n\"+\n     \"</div>\"}};\n\n  function display_loaded() {\n    var el = document.getElementById(null);\n    if (el != null) {\n      el.textContent = \"BokehJS is loading...\";\n    }\n    if (root.Bokeh !== undefined) {\n      if (el != null) {\n        el.textContent = \"BokehJS \" + root.Bokeh.version + \" successfully loaded.\";\n      }\n    } else if (Date.now() < root._bokeh_timeout) {\n      setTimeout(display_loaded, 100)\n    }\n  }\n\n\n  function run_callbacks() {\n    try {\n      root._bokeh_onload_callbacks.forEach(function(callback) {\n        if (callback != null)\n          callback();\n      });\n    } finally {\n      delete root._bokeh_onload_callbacks\n    }\n    console.debug(\"Bokeh: all callbacks have finished\");\n  }\n\n  function load_libs(css_urls, js_urls, callback) {\n    if (css_urls == null) css_urls = [];\n    if (js_urls == null) js_urls = [];\n\n    root._bokeh_onload_callbacks.push(callback);\n    if (root._bokeh_is_loading > 0) {\n      console.debug(\"Bokeh: BokehJS is being loaded, scheduling callback at\", now());\n      return null;\n    }\n    if (js_urls == null || js_urls.length === 0) {\n      run_callbacks();\n      return null;\n    }\n    console.debug(\"Bokeh: BokehJS not loaded, scheduling load and callback at\", now());\n    root._bokeh_is_loading = css_urls.length + js_urls.length;\n\n    function on_load() {\n      root._bokeh_is_loading--;\n      if (root._bokeh_is_loading === 0) {\n        console.debug(\"Bokeh: all BokehJS libraries/stylesheets loaded\");\n        run_callbacks()\n      }\n    }\n\n    function on_error(url) {\n      console.error(\"failed to load \" + url);\n    }\n\n    for (let i = 0; i < css_urls.length; i++) {\n      const url = css_urls[i];\n      const element = document.createElement(\"link\");\n      element.onload = on_load;\n      element.onerror = on_error.bind(null, url);\n      element.rel = \"stylesheet\";\n      element.type = \"text/css\";\n      element.href = url;\n      console.debug(\"Bokeh: injecting link tag for BokehJS stylesheet: \", url);\n      document.body.appendChild(element);\n    }\n\n    const hashes = {\"https://cdn.bokeh.org/bokeh/release/bokeh-2.3.3.min.js\": \"dM3QQsP+wXdHg42wTqW85BjZQdLNNIXqlPw/BgKoExPmTG7ZLML4EGqLMfqHT6ON\", \"https://cdn.bokeh.org/bokeh/release/bokeh-tables-2.3.3.min.js\": \"8x57I4YuIfu8XyZfFo0XVr2WAT8EK4rh/uDe3wF7YuW2FNUSNEpJbsPaB1nJ2fz2\", \"https://cdn.bokeh.org/bokeh/release/bokeh-widgets-2.3.3.min.js\": \"3QTqdz9LyAm2i0sG5XTePsHec3UHWwVsrOL68SYRoAXsafvfAyqtQ+h440+qIBhS\"};\n\n    for (let i = 0; i < js_urls.length; i++) {\n      const url = js_urls[i];\n      const element = document.createElement('script');\n      element.onload = on_load;\n      element.onerror = on_error.bind(null, url);\n      element.async = false;\n      element.src = url;\n      if (url in hashes) {\n        element.crossOrigin = \"anonymous\";\n        element.integrity = \"sha384-\" + hashes[url];\n      }\n      console.debug(\"Bokeh: injecting script tag for BokehJS library: \", url);\n      document.head.appendChild(element);\n    }\n  };\n\n  function inject_raw_css(css) {\n    const element = document.createElement(\"style\");\n    element.appendChild(document.createTextNode(css));\n    document.body.appendChild(element);\n  }\n\n  \n  var js_urls = [\"https://cdn.bokeh.org/bokeh/release/bokeh-2.3.3.min.js\", \"https://cdn.bokeh.org/bokeh/release/bokeh-widgets-2.3.3.min.js\", \"https://cdn.bokeh.org/bokeh/release/bokeh-tables-2.3.3.min.js\"];\n  var css_urls = [];\n  \n\n  var inline_js = [\n    function(Bokeh) {\n      Bokeh.set_log_level(\"info\");\n    },\n    function(Bokeh) {\n    \n    \n    }\n  ];\n\n  function run_inline_js() {\n    \n    if (root.Bokeh !== undefined || force === true) {\n      \n    for (var i = 0; i < inline_js.length; i++) {\n      inline_js[i].call(root, root.Bokeh);\n    }\n    } else if (Date.now() < root._bokeh_timeout) {\n      setTimeout(run_inline_js, 100);\n    } else if (!root._bokeh_failed_load) {\n      console.log(\"Bokeh: BokehJS failed to load within specified timeout.\");\n      root._bokeh_failed_load = true;\n    } else if (force !== true) {\n      var cell = $(document.getElementById(null)).parents('.cell').data().cell;\n      cell.output_area.append_execute_result(NB_LOAD_WARNING)\n    }\n\n  }\n\n  if (root._bokeh_is_loading === 0) {\n    console.debug(\"Bokeh: BokehJS loaded, going straight to plotting\");\n    run_inline_js();\n  } else {\n    load_libs(css_urls, js_urls, function() {\n      console.debug(\"Bokeh: BokehJS plotting callback run at\", now());\n      run_inline_js();\n    });\n  }\n}(window));"
          },
          "metadata": {}
        },
        {
          "output_type": "display_data",
          "data": {
            "text/html": [
              "\n",
              "\n",
              "\n",
              "\n",
              "\n",
              "\n",
              "  <div class=\"bk-root\" id=\"76e5227e-e5c3-4827-9f6e-3044a77b8099\" data-root-id=\"2830\"></div>\n"
            ]
          },
          "metadata": {}
        },
        {
          "output_type": "display_data",
          "data": {
            "application/javascript": [
              "(function(root) {\n",
              "  function embed_document(root) {\n",
              "    \n",
              "  var docs_json = {\"27341247-8229-43dd-9f78-ca2250d49a10\":{\"defs\":[],\"roots\":{\"references\":[{\"attributes\":{\"below\":[{\"id\":\"2839\"}],\"center\":[{\"id\":\"2842\"},{\"id\":\"2846\"}],\"left\":[{\"id\":\"2843\"}],\"renderers\":[{\"id\":\"2860\"}],\"title\":{\"id\":\"2831\"},\"toolbar\":{\"id\":\"2853\"},\"x_range\":{\"id\":\"2828\"},\"x_scale\":{\"id\":\"2835\"},\"y_range\":{\"id\":\"2829\"},\"y_scale\":{\"id\":\"2837\"}},\"id\":\"2830\",\"subtype\":\"Figure\",\"type\":\"Plot\"},{\"attributes\":{},\"id\":\"2847\",\"type\":\"PanTool\"},{\"attributes\":{\"end\":10.1,\"start\":-10.1},\"id\":\"2829\",\"type\":\"Range1d\"},{\"attributes\":{},\"id\":\"2848\",\"type\":\"WheelZoomTool\"},{\"attributes\":{\"fill_color\":{\"field\":\"modularity_color\"},\"size\":{\"field\":\"adjusted_node_size\"}},\"id\":\"2870\",\"type\":\"Circle\"},{\"attributes\":{\"text\":\"soil health and heritage\"},\"id\":\"2831\",\"type\":\"Title\"},{\"attributes\":{},\"id\":\"3041\",\"type\":\"AllLabels\"},{\"attributes\":{},\"id\":\"2849\",\"type\":\"SaveTool\"},{\"attributes\":{\"line_alpha\":{\"value\":0.5}},\"id\":\"2875\",\"type\":\"MultiLine\"},{\"attributes\":{\"edge_renderer\":{\"id\":\"2867\"},\"inspection_policy\":{\"id\":\"3031\"},\"layout_provider\":{\"id\":\"2869\"},\"node_renderer\":{\"id\":\"2863\"},\"selection_policy\":{\"id\":\"3026\"}},\"id\":\"2860\",\"type\":\"GraphRenderer\"},{\"attributes\":{},\"id\":\"3031\",\"type\":\"NodesOnly\"},{\"attributes\":{},\"id\":\"2850\",\"type\":\"ResetTool\"},{\"attributes\":{},\"id\":\"3042\",\"type\":\"UnionRenderers\"},{\"attributes\":{},\"id\":\"3045\",\"type\":\"Selection\"},{\"attributes\":{\"callback\":null},\"id\":\"2851\",\"type\":\"TapTool\"},{\"attributes\":{},\"id\":\"2835\",\"type\":\"LinearScale\"},{\"attributes\":{\"callback\":null,\"tooltips\":[[\"concept\",\"@index\"],[\"Degree\",\"@degree\"],[\"Modularity Class\",\"@modularity_class\"],[\"Modularity Color\",\"$color[swatch]:modularity_color\"]]},\"id\":\"2852\",\"type\":\"HoverTool\"},{\"attributes\":{\"data\":{\"adjusted_node_size\":[14,13,15,13,14,11,10,17,17,18,10,19,14,16,8,12,12,11,12,9,20,7,15,19,7,16,7,14,10,14],\"degree\":[9,8,10,8,9,6,5,12,12,13,5,14,9,11,3,7,7,6,7,4,15,2,10,14,2,11,2,9,5,9],\"index\":[\"Acidity (pH)\",\"Capturing Critical Zone processes\",\"Erosion\",\"Evidencing ecosystem processes\",\"Evidencing human-ecosystem interactions\",\"Regulating Climate\",\"Restoration\",\"Storing Carbon\",\"Supporting a living ecosystem\",\"Sustaining plant health\",\"Bulk Density\",\"Carbon Content\",\"Archiving evidence of past ecosystem processes\",\"Archiving evidence of past human activities\",\"Forming rural landscapes\",\"Sustaining animal health\",\"Sustaining human health\",\"Colour\",\"Compaction\",\"Inorganic inclusions\",\"Moisture\",\"Modification\",\"Nutrient Content \",\"Organic Matter Content\",\"Organisms present\",\"Porosity \",\"Resistivity \",\"Structure\",\"Temperature\",\"Texture\"],\"modularity_class\":[1,2,0,1,0,1,1,2,1,0,2,1,0,0,1,2,2,0,0,0,2,2,2,1,1,0,0,2,1,2],\"modularity_color\":[\"#66c2a5\",\"#abdda4\",\"#3288bd\",\"#66c2a5\",\"#3288bd\",\"#66c2a5\",\"#66c2a5\",\"#abdda4\",\"#66c2a5\",\"#3288bd\",\"#abdda4\",\"#66c2a5\",\"#3288bd\",\"#3288bd\",\"#66c2a5\",\"#abdda4\",\"#abdda4\",\"#3288bd\",\"#3288bd\",\"#3288bd\",\"#abdda4\",\"#abdda4\",\"#abdda4\",\"#66c2a5\",\"#66c2a5\",\"#3288bd\",\"#3288bd\",\"#abdda4\",\"#66c2a5\",\"#abdda4\"]},\"selected\":{\"id\":\"3043\"},\"selection_policy\":{\"id\":\"3042\"}},\"id\":\"2862\",\"type\":\"ColumnDataSource\"},{\"attributes\":{\"source\":{\"id\":\"2866\"}},\"id\":\"2868\",\"type\":\"CDSView\"},{\"attributes\":{},\"id\":\"3044\",\"type\":\"UnionRenderers\"},{\"attributes\":{},\"id\":\"2837\",\"type\":\"LinearScale\"},{\"attributes\":{},\"id\":\"3036\",\"type\":\"BasicTickFormatter\"},{\"attributes\":{\"formatter\":{\"id\":\"3039\"},\"major_label_policy\":{\"id\":\"3041\"},\"ticker\":{\"id\":\"2840\"}},\"id\":\"2839\",\"type\":\"LinearAxis\"},{\"attributes\":{},\"id\":\"3039\",\"type\":\"BasicTickFormatter\"},{\"attributes\":{\"data_source\":{\"id\":\"2866\"},\"glyph\":{\"id\":\"2875\"},\"hover_glyph\":null,\"muted_glyph\":null,\"view\":{\"id\":\"2868\"}},\"id\":\"2867\",\"type\":\"GlyphRenderer\"},{\"attributes\":{},\"id\":\"2844\",\"type\":\"BasicTicker\"},{\"attributes\":{},\"id\":\"2840\",\"type\":\"BasicTicker\"},{\"attributes\":{\"graph_layout\":{\"Acidity (pH)\":[-3.7236884347365256,3.1053512506057706],\"Archiving evidence of past ecosystem processes\":[5.440614985243822,-2.213582382009801],\"Archiving evidence of past human activities\":[3.8092530053818394,-1.8565403015981718],\"Bulk Density\":[-5.863781692714103,5.573309164527233],\"Capturing Critical Zone processes\":[-1.6386000816086437,6.328514664782178],\"Carbon Content\":[-1.298744759070593,0.009587318418908237],\"Colour\":[-4.573720509559319,0.9891935236817628],\"Compaction\":[1.227922497890507,-2.900767525423209],\"Erosion\":[-2.240748971324993,4.2810441276102145],\"Evidencing ecosystem processes\":[-3.758352490217972,-4.306611083408552],\"Evidencing human-ecosystem interactions\":[2.344696442376102,3.337532611159502],\"Forming rural landscapes\":[-7.445900158359448,-2.355791675157483],\"Inorganic inclusions\":[8.292525050612666,2.3702924506101306],\"Modification\":[9.636522758800222,-2.5530061933009236],\"Moisture\":[0.5510342967041814,-0.5388698428693213],\"Nutrient Content \":[2.678881951829566,-1.395983739462755],\"Organic Matter Content\":[-1.420528075066719,1.521889167761696],\"Organisms present\":[-6.981220917362854,-9.774136845759022],\"Porosity \":[-0.12154717348744877,0.65204327193717],\"Regulating Climate\":[3.752670309363684,1.1563156835979376],\"Resistivity \":[10.0,-7.376571449258369],\"Restoration\":[-6.842908492398702,1.9214523060872013],\"Storing Carbon\":[-2.947568845781225,0.27324753328302726],\"Structure\":[0.4005146107553451,4.475138077313587],\"Supporting a living ecosystem\":[-2.332920653565973,-2.396901932701569],\"Sustaining animal health\":[3.7860946263730466,4.530062043770136],\"Sustaining human health\":[-3.2971418374244643,-1.399110041228554],\"Sustaining plant health\":[0.4754453747583077,2.2728891404712646],\"Temperature\":[-0.004142238866423894,-5.464512435345044],\"Texture\":[2.095339421456116,1.7345231119049755]}},\"id\":\"2869\",\"type\":\"StaticLayoutProvider\"},{\"attributes\":{\"axis\":{\"id\":\"2839\"},\"ticker\":null},\"id\":\"2842\",\"type\":\"Grid\"},{\"attributes\":{},\"id\":\"3038\",\"type\":\"AllLabels\"},{\"attributes\":{\"data\":{\"end\":[\"Capturing Critical Zone processes\",\"Erosion\",\"Evidencing ecosystem processes\",\"Evidencing human-ecosystem interactions\",\"Regulating Climate\",\"Restoration\",\"Storing Carbon\",\"Supporting a living ecosystem\",\"Sustaining plant health\",\"Bulk Density\",\"Carbon Content\",\"Moisture\",\"Organic Matter Content\",\"Porosity \",\"Structure\",\"Texture\",\"Bulk Density\",\"Carbon Content\",\"Colour\",\"Compaction\",\"Moisture\",\"Organic Matter Content\",\"Porosity \",\"Structure\",\"Texture\",\"Carbon Content\",\"Colour\",\"Moisture\",\"Nutrient Content \",\"Organic Matter Content\",\"Organisms present\",\"Temperature\",\"Carbon Content\",\"Colour\",\"Compaction\",\"Inorganic inclusions\",\"Moisture\",\"Nutrient Content \",\"Organic Matter Content\",\"Porosity \",\"Carbon Content\",\"Moisture\",\"Organic Matter Content\",\"Structure\",\"Temperature\",\"Carbon Content\",\"Moisture\",\"Organic Matter Content\",\"Porosity \",\"Bulk Density\",\"Carbon Content\",\"Colour\",\"Compaction\",\"Moisture\",\"Nutrient Content \",\"Organic Matter Content\",\"Porosity \",\"Structure\",\"Temperature\",\"Texture\",\"Bulk Density\",\"Carbon Content\",\"Compaction\",\"Moisture\",\"Nutrient Content \",\"Organic Matter Content\",\"Organisms present\",\"Porosity \",\"Structure\",\"Temperature\",\"Texture\",\"Bulk Density\",\"Carbon Content\",\"Colour\",\"Compaction\",\"Inorganic inclusions\",\"Moisture\",\"Nutrient Content \",\"Organic Matter Content\",\"Porosity \",\"Structure\",\"Temperature\",\"Texture\",\"Archiving evidence of past ecosystem processes\",\"Archiving evidence of past human activities\",\"Forming rural landscapes\",\"Sustaining animal health\",\"Sustaining human health\",\"Compaction\",\"Inorganic inclusions\",\"Moisture\",\"Nutrient Content \",\"Organic Matter Content\",\"Porosity \",\"Resistivity \",\"Texture\",\"Colour\",\"Compaction\",\"Inorganic inclusions\",\"Moisture\",\"Nutrient Content \",\"Organic Matter Content\",\"Porosity \",\"Resistivity \",\"Structure\",\"Texture\",\"Moisture\",\"Organic Matter Content\",\"Moisture\",\"Nutrient Content \",\"Organic Matter Content\",\"Porosity \",\"Structure\",\"Texture\",\"Moisture\",\"Nutrient Content \",\"Organic Matter Content\",\"Porosity \",\"Structure\",\"Texture\",\"Modification\",\"Nutrient Content \"],\"start\":[\"Acidity (pH)\",\"Acidity (pH)\",\"Acidity (pH)\",\"Acidity (pH)\",\"Acidity (pH)\",\"Acidity (pH)\",\"Acidity (pH)\",\"Acidity (pH)\",\"Acidity (pH)\",\"Capturing Critical Zone processes\",\"Capturing Critical Zone processes\",\"Capturing Critical Zone processes\",\"Capturing Critical Zone processes\",\"Capturing Critical Zone processes\",\"Capturing Critical Zone processes\",\"Capturing Critical Zone processes\",\"Erosion\",\"Erosion\",\"Erosion\",\"Erosion\",\"Erosion\",\"Erosion\",\"Erosion\",\"Erosion\",\"Erosion\",\"Evidencing ecosystem processes\",\"Evidencing ecosystem processes\",\"Evidencing ecosystem processes\",\"Evidencing ecosystem processes\",\"Evidencing ecosystem processes\",\"Evidencing ecosystem processes\",\"Evidencing ecosystem processes\",\"Evidencing human-ecosystem interactions\",\"Evidencing human-ecosystem interactions\",\"Evidencing human-ecosystem interactions\",\"Evidencing human-ecosystem interactions\",\"Evidencing human-ecosystem interactions\",\"Evidencing human-ecosystem interactions\",\"Evidencing human-ecosystem interactions\",\"Evidencing human-ecosystem interactions\",\"Regulating Climate\",\"Regulating Climate\",\"Regulating Climate\",\"Regulating Climate\",\"Regulating Climate\",\"Restoration\",\"Restoration\",\"Restoration\",\"Restoration\",\"Storing Carbon\",\"Storing Carbon\",\"Storing Carbon\",\"Storing Carbon\",\"Storing Carbon\",\"Storing Carbon\",\"Storing Carbon\",\"Storing Carbon\",\"Storing Carbon\",\"Storing Carbon\",\"Storing Carbon\",\"Supporting a living ecosystem\",\"Supporting a living ecosystem\",\"Supporting a living ecosystem\",\"Supporting a living ecosystem\",\"Supporting a living ecosystem\",\"Supporting a living ecosystem\",\"Supporting a living ecosystem\",\"Supporting a living ecosystem\",\"Supporting a living ecosystem\",\"Supporting a living ecosystem\",\"Supporting a living ecosystem\",\"Sustaining plant health\",\"Sustaining plant health\",\"Sustaining plant health\",\"Sustaining plant health\",\"Sustaining plant health\",\"Sustaining plant health\",\"Sustaining plant health\",\"Sustaining plant health\",\"Sustaining plant health\",\"Sustaining plant health\",\"Sustaining plant health\",\"Sustaining plant health\",\"Carbon Content\",\"Carbon Content\",\"Carbon Content\",\"Carbon Content\",\"Carbon Content\",\"Archiving evidence of past ecosystem processes\",\"Archiving evidence of past ecosystem processes\",\"Archiving evidence of past ecosystem processes\",\"Archiving evidence of past ecosystem processes\",\"Archiving evidence of past ecosystem processes\",\"Archiving evidence of past ecosystem processes\",\"Archiving evidence of past ecosystem processes\",\"Archiving evidence of past ecosystem processes\",\"Archiving evidence of past human activities\",\"Archiving evidence of past human activities\",\"Archiving evidence of past human activities\",\"Archiving evidence of past human activities\",\"Archiving evidence of past human activities\",\"Archiving evidence of past human activities\",\"Archiving evidence of past human activities\",\"Archiving evidence of past human activities\",\"Archiving evidence of past human activities\",\"Archiving evidence of past human activities\",\"Forming rural landscapes\",\"Forming rural landscapes\",\"Sustaining animal health\",\"Sustaining animal health\",\"Sustaining animal health\",\"Sustaining animal health\",\"Sustaining animal health\",\"Sustaining animal health\",\"Sustaining human health\",\"Sustaining human health\",\"Sustaining human health\",\"Sustaining human health\",\"Sustaining human health\",\"Sustaining human health\",\"Moisture\",\"Modification\"]},\"selected\":{\"id\":\"3045\"},\"selection_policy\":{\"id\":\"3044\"}},\"id\":\"2866\",\"type\":\"ColumnDataSource\"},{\"attributes\":{\"axis\":{\"id\":\"2843\"},\"dimension\":1,\"ticker\":null},\"id\":\"2846\",\"type\":\"Grid\"},{\"attributes\":{\"formatter\":{\"id\":\"3036\"},\"major_label_policy\":{\"id\":\"3038\"},\"ticker\":{\"id\":\"2844\"}},\"id\":\"2843\",\"type\":\"LinearAxis\"},{\"attributes\":{\"source\":{\"id\":\"2862\"}},\"id\":\"2864\",\"type\":\"CDSView\"},{\"attributes\":{},\"id\":\"3026\",\"type\":\"NodesOnly\"},{\"attributes\":{},\"id\":\"3043\",\"type\":\"Selection\"},{\"attributes\":{\"data_source\":{\"id\":\"2862\"},\"glyph\":{\"id\":\"2870\"},\"hover_glyph\":null,\"muted_glyph\":null,\"view\":{\"id\":\"2864\"}},\"id\":\"2863\",\"type\":\"GlyphRenderer\"},{\"attributes\":{\"end\":10.1,\"start\":-10.1},\"id\":\"2828\",\"type\":\"Range1d\"},{\"attributes\":{\"active_multi\":null,\"active_scroll\":{\"id\":\"2848\"},\"tools\":[{\"id\":\"2847\"},{\"id\":\"2848\"},{\"id\":\"2849\"},{\"id\":\"2850\"},{\"id\":\"2851\"},{\"id\":\"2852\"}]},\"id\":\"2853\",\"type\":\"Toolbar\"}],\"root_ids\":[\"2830\"]},\"title\":\"Bokeh Application\",\"version\":\"2.3.3\"}};\n",
              "  var render_items = [{\"docid\":\"27341247-8229-43dd-9f78-ca2250d49a10\",\"root_ids\":[\"2830\"],\"roots\":{\"2830\":\"76e5227e-e5c3-4827-9f6e-3044a77b8099\"}}];\n",
              "  root.Bokeh.embed.embed_items_notebook(docs_json, render_items);\n",
              "\n",
              "  }\n",
              "  if (root.Bokeh !== undefined) {\n",
              "    embed_document(root);\n",
              "  } else {\n",
              "    var attempts = 0;\n",
              "    var timer = setInterval(function(root) {\n",
              "      if (root.Bokeh !== undefined) {\n",
              "        clearInterval(timer);\n",
              "        embed_document(root);\n",
              "      } else {\n",
              "        attempts++;\n",
              "        if (attempts > 100) {\n",
              "          clearInterval(timer);\n",
              "          console.log(\"Bokeh: ERROR: Unable to run BokehJS code because BokehJS library is missing\");\n",
              "        }\n",
              "      }\n",
              "    }, 10, root)\n",
              "  }\n",
              "})(window);"
            ],
            "application/vnd.bokehjs_exec.v0+json": ""
          },
          "metadata": {
            "application/vnd.bokehjs_exec.v0+json": {
              "id": "2830"
            }
          }
        }
      ],
      "source": [
        "#Choose attributes from G network to size and color by — setting manual size (e.g. 10) or color (e.g. 'skyblue') also allowed\n",
        "size_by_this_attribute = 'adjusted_node_size'\n",
        "color_by_this_attribute = 'modularity_color'\n",
        "#Pick a color palette — Blues8, Reds8, Purples8, Oranges8, Viridis8\n",
        "color_palette = Blues8\n",
        "#Choose a title!\n",
        "title = 'soil health and heritage'\n",
        "\n",
        "#Establish which categories will appear when hovering over each node\n",
        "HOVER_TOOLTIPS = [\n",
        "       (\"concept\", \"@index\"),\n",
        "        (\"Degree\", \"@degree\"),\n",
        "         (\"Modularity Class\", \"@modularity_class\"),\n",
        "        (\"Modularity Color\", \"$color[swatch]:modularity_color\"),\n",
        "]\n",
        "\n",
        "#Create a plot — set dimensions, toolbar, and title\n",
        "plot = figure(tooltips = HOVER_TOOLTIPS,\n",
        "              tools=\"pan,wheel_zoom,save,reset, tap\", active_scroll='wheel_zoom',\n",
        "            x_range=Range1d(-10.1, 10.1), y_range=Range1d(-10.1, 10.1), title=title)\n",
        "\n",
        "#Create a network graph object\n",
        "# https://networkx.github.io/documentation/networkx-1.9/reference/generated/networkx.drawing.layout.spring_layout.html\n",
        "network_graph = from_networkx(G, networkx.spring_layout, scale=10, center=(0, 0))\n",
        "\n",
        "#Set node sizes and colors according to node degree (color as category from attribute)\n",
        "network_graph.node_renderer.glyph = Circle(size=size_by_this_attribute, fill_color=color_by_this_attribute)\n",
        "\n",
        "#Set edge opacity and width\n",
        "network_graph.edge_renderer.glyph = MultiLine(line_alpha=0.5, line_width=1)\n",
        "\n",
        "plot.renderers.append(network_graph)\n",
        "\n",
        "show(plot)\n",
        "#save(plot, filename=f\"{title}.html\")"
      ]
    },
    {
      "cell_type": "markdown",
      "metadata": {
        "id": "G6dc5q-TUsRN"
      },
      "source": [
        "## Network with Responsive Highlighting"
      ]
    },
    {
      "cell_type": "markdown",
      "metadata": {
        "id": "TdSBD16mUsRN"
      },
      "source": [
        "The code below shows how to create responsive highlighting when a user hovers over nodes or edges, which you can read more about in [Bokeh's NetworkX Integration documentation](https://docs.bokeh.org/en/latest/docs/user_guide/graph.html?highlight=networks#interaction-policies). "
      ]
    },
    {
      "cell_type": "markdown",
      "metadata": {
        "id": "IRH7X7laUsRN"
      },
      "source": [
        "**Include  EdgesAndLinkedNodes, NodesAndLinkedEdges**"
      ]
    },
    {
      "cell_type": "code",
      "execution_count": 54,
      "metadata": {
        "id": "CT4FrVM8UsRO"
      },
      "outputs": [],
      "source": [
        "from bokeh.io import output_notebook, show, save\n",
        "from bokeh.models import Range1d, Circle, ColumnDataSource, MultiLine, EdgesAndLinkedNodes, NodesAndLinkedEdges\n",
        "from bokeh.plotting import figure\n",
        "from bokeh.plotting import from_networkx\n",
        "from bokeh.palettes import Blues8, Reds8, Purples8, Oranges8, Viridis8, Spectral8\n",
        "from bokeh.transform import linear_cmap\n",
        "from networkx.algorithms import community"
      ]
    },
    {
      "cell_type": "markdown",
      "metadata": {
        "id": "kWPnR6HiUsRO"
      },
      "source": [
        "**Calculate degree for each node and add as node attribute**"
      ]
    },
    {
      "cell_type": "code",
      "execution_count": 55,
      "metadata": {
        "id": "u7y6HgLKUsRO"
      },
      "outputs": [],
      "source": [
        "degrees = dict(networkx.degree(G))\n",
        "networkx.set_node_attributes(G, name='degree', values=degrees)"
      ]
    },
    {
      "cell_type": "markdown",
      "metadata": {
        "id": "ZP9cUkukUsRO"
      },
      "source": [
        "**Slightly adjust degree so that the nodes with very small degrees are still visible**"
      ]
    },
    {
      "cell_type": "code",
      "execution_count": 56,
      "metadata": {
        "tags": [
          "hide-input"
        ],
        "id": "O_2StX9yUsRO"
      },
      "outputs": [],
      "source": [
        "number_to_adjust_by = 5\n",
        "adjusted_node_size = dict([(node, degree+number_to_adjust_by) for node, degree in networkx.degree(G)])\n",
        "networkx.set_node_attributes(G, name='adjusted_node_size', values=adjusted_node_size)"
      ]
    },
    {
      "cell_type": "markdown",
      "metadata": {
        "id": "aR8n6BlUUsRO"
      },
      "source": [
        "**Calculate communities**"
      ]
    },
    {
      "cell_type": "code",
      "execution_count": 57,
      "metadata": {
        "tags": [
          "hide-input"
        ],
        "id": "W4LWGuZqUsRO"
      },
      "outputs": [],
      "source": [
        "communities = community.greedy_modularity_communities(G)"
      ]
    },
    {
      "cell_type": "markdown",
      "metadata": {
        "id": "xQoVab7QUsRP"
      },
      "source": [
        "**Add modularity class and color as attributes to network graph**"
      ]
    },
    {
      "cell_type": "code",
      "execution_count": 58,
      "metadata": {
        "tags": [
          "hide-input"
        ],
        "id": "g-Fwo2auUsRP"
      },
      "outputs": [],
      "source": [
        "# Create empty dictionaries\n",
        "modularity_class = {}\n",
        "modularity_color = {}\n",
        "#Loop through each community in the network\n",
        "for community_number, community in enumerate(communities):\n",
        "    #For each member of the community, add their community number and a distinct color\n",
        "    for name in community: \n",
        "        modularity_class[name] = community_number\n",
        "        modularity_color[name] = Spectral8[community_number]"
      ]
    },
    {
      "cell_type": "code",
      "execution_count": 59,
      "metadata": {
        "tags": [
          "hide-input"
        ],
        "id": "peLrmOBPUsRP"
      },
      "outputs": [],
      "source": [
        "# Add modularity class and color as attributes from the network above\n",
        "networkx.set_node_attributes(G, modularity_class, 'modularity_class')\n",
        "networkx.set_node_attributes(G, modularity_color, 'modularity_color')"
      ]
    },
    {
      "cell_type": "code",
      "execution_count": 60,
      "metadata": {
        "colab": {
          "base_uri": "https://localhost:8080/",
          "height": 617
        },
        "id": "SOW2McpqUsRP",
        "outputId": "82dd68c6-bb88-45cb-c43e-8457be2d7a9b"
      },
      "outputs": [
        {
          "output_type": "display_data",
          "data": {
            "application/javascript": [
              "\n",
              "(function(root) {\n",
              "  function now() {\n",
              "    return new Date();\n",
              "  }\n",
              "\n",
              "  var force = true;\n",
              "\n",
              "  if (typeof root._bokeh_onload_callbacks === \"undefined\" || force === true) {\n",
              "    root._bokeh_onload_callbacks = [];\n",
              "    root._bokeh_is_loading = undefined;\n",
              "  }\n",
              "\n",
              "  var JS_MIME_TYPE = 'application/javascript';\n",
              "  var HTML_MIME_TYPE = 'text/html';\n",
              "  var EXEC_MIME_TYPE = 'application/vnd.bokehjs_exec.v0+json';\n",
              "  var CLASS_NAME = 'output_bokeh rendered_html';\n",
              "\n",
              "  /**\n",
              "   * Render data to the DOM node\n",
              "   */\n",
              "  function render(props, node) {\n",
              "    var script = document.createElement(\"script\");\n",
              "    node.appendChild(script);\n",
              "  }\n",
              "\n",
              "  /**\n",
              "   * Handle when an output is cleared or removed\n",
              "   */\n",
              "  function handleClearOutput(event, handle) {\n",
              "    var cell = handle.cell;\n",
              "\n",
              "    var id = cell.output_area._bokeh_element_id;\n",
              "    var server_id = cell.output_area._bokeh_server_id;\n",
              "    // Clean up Bokeh references\n",
              "    if (id != null && id in Bokeh.index) {\n",
              "      Bokeh.index[id].model.document.clear();\n",
              "      delete Bokeh.index[id];\n",
              "    }\n",
              "\n",
              "    if (server_id !== undefined) {\n",
              "      // Clean up Bokeh references\n",
              "      var cmd = \"from bokeh.io.state import curstate; print(curstate().uuid_to_server['\" + server_id + \"'].get_sessions()[0].document.roots[0]._id)\";\n",
              "      cell.notebook.kernel.execute(cmd, {\n",
              "        iopub: {\n",
              "          output: function(msg) {\n",
              "            var id = msg.content.text.trim();\n",
              "            if (id in Bokeh.index) {\n",
              "              Bokeh.index[id].model.document.clear();\n",
              "              delete Bokeh.index[id];\n",
              "            }\n",
              "          }\n",
              "        }\n",
              "      });\n",
              "      // Destroy server and session\n",
              "      var cmd = \"import bokeh.io.notebook as ion; ion.destroy_server('\" + server_id + \"')\";\n",
              "      cell.notebook.kernel.execute(cmd);\n",
              "    }\n",
              "  }\n",
              "\n",
              "  /**\n",
              "   * Handle when a new output is added\n",
              "   */\n",
              "  function handleAddOutput(event, handle) {\n",
              "    var output_area = handle.output_area;\n",
              "    var output = handle.output;\n",
              "\n",
              "    // limit handleAddOutput to display_data with EXEC_MIME_TYPE content only\n",
              "    if ((output.output_type != \"display_data\") || (!Object.prototype.hasOwnProperty.call(output.data, EXEC_MIME_TYPE))) {\n",
              "      return\n",
              "    }\n",
              "\n",
              "    var toinsert = output_area.element.find(\".\" + CLASS_NAME.split(' ')[0]);\n",
              "\n",
              "    if (output.metadata[EXEC_MIME_TYPE][\"id\"] !== undefined) {\n",
              "      toinsert[toinsert.length - 1].firstChild.textContent = output.data[JS_MIME_TYPE];\n",
              "      // store reference to embed id on output_area\n",
              "      output_area._bokeh_element_id = output.metadata[EXEC_MIME_TYPE][\"id\"];\n",
              "    }\n",
              "    if (output.metadata[EXEC_MIME_TYPE][\"server_id\"] !== undefined) {\n",
              "      var bk_div = document.createElement(\"div\");\n",
              "      bk_div.innerHTML = output.data[HTML_MIME_TYPE];\n",
              "      var script_attrs = bk_div.children[0].attributes;\n",
              "      for (var i = 0; i < script_attrs.length; i++) {\n",
              "        toinsert[toinsert.length - 1].firstChild.setAttribute(script_attrs[i].name, script_attrs[i].value);\n",
              "        toinsert[toinsert.length - 1].firstChild.textContent = bk_div.children[0].textContent\n",
              "      }\n",
              "      // store reference to server id on output_area\n",
              "      output_area._bokeh_server_id = output.metadata[EXEC_MIME_TYPE][\"server_id\"];\n",
              "    }\n",
              "  }\n",
              "\n",
              "  function register_renderer(events, OutputArea) {\n",
              "\n",
              "    function append_mime(data, metadata, element) {\n",
              "      // create a DOM node to render to\n",
              "      var toinsert = this.create_output_subarea(\n",
              "        metadata,\n",
              "        CLASS_NAME,\n",
              "        EXEC_MIME_TYPE\n",
              "      );\n",
              "      this.keyboard_manager.register_events(toinsert);\n",
              "      // Render to node\n",
              "      var props = {data: data, metadata: metadata[EXEC_MIME_TYPE]};\n",
              "      render(props, toinsert[toinsert.length - 1]);\n",
              "      element.append(toinsert);\n",
              "      return toinsert\n",
              "    }\n",
              "\n",
              "    /* Handle when an output is cleared or removed */\n",
              "    events.on('clear_output.CodeCell', handleClearOutput);\n",
              "    events.on('delete.Cell', handleClearOutput);\n",
              "\n",
              "    /* Handle when a new output is added */\n",
              "    events.on('output_added.OutputArea', handleAddOutput);\n",
              "\n",
              "    /**\n",
              "     * Register the mime type and append_mime function with output_area\n",
              "     */\n",
              "    OutputArea.prototype.register_mime_type(EXEC_MIME_TYPE, append_mime, {\n",
              "      /* Is output safe? */\n",
              "      safe: true,\n",
              "      /* Index of renderer in `output_area.display_order` */\n",
              "      index: 0\n",
              "    });\n",
              "  }\n",
              "\n",
              "  // register the mime type if in Jupyter Notebook environment and previously unregistered\n",
              "  if (root.Jupyter !== undefined) {\n",
              "    var events = require('base/js/events');\n",
              "    var OutputArea = require('notebook/js/outputarea').OutputArea;\n",
              "\n",
              "    if (OutputArea.prototype.mime_types().indexOf(EXEC_MIME_TYPE) == -1) {\n",
              "      register_renderer(events, OutputArea);\n",
              "    }\n",
              "  }\n",
              "\n",
              "  \n",
              "  if (typeof (root._bokeh_timeout) === \"undefined\" || force === true) {\n",
              "    root._bokeh_timeout = Date.now() + 5000;\n",
              "    root._bokeh_failed_load = false;\n",
              "  }\n",
              "\n",
              "  var NB_LOAD_WARNING = {'data': {'text/html':\n",
              "     \"<div style='background-color: #fdd'>\\n\"+\n",
              "     \"<p>\\n\"+\n",
              "     \"BokehJS does not appear to have successfully loaded. If loading BokehJS from CDN, this \\n\"+\n",
              "     \"may be due to a slow or bad network connection. Possible fixes:\\n\"+\n",
              "     \"</p>\\n\"+\n",
              "     \"<ul>\\n\"+\n",
              "     \"<li>re-rerun `output_notebook()` to attempt to load from CDN again, or</li>\\n\"+\n",
              "     \"<li>use INLINE resources instead, as so:</li>\\n\"+\n",
              "     \"</ul>\\n\"+\n",
              "     \"<code>\\n\"+\n",
              "     \"from bokeh.resources import INLINE\\n\"+\n",
              "     \"output_notebook(resources=INLINE)\\n\"+\n",
              "     \"</code>\\n\"+\n",
              "     \"</div>\"}};\n",
              "\n",
              "  function display_loaded() {\n",
              "    var el = document.getElementById(null);\n",
              "    if (el != null) {\n",
              "      el.textContent = \"BokehJS is loading...\";\n",
              "    }\n",
              "    if (root.Bokeh !== undefined) {\n",
              "      if (el != null) {\n",
              "        el.textContent = \"BokehJS \" + root.Bokeh.version + \" successfully loaded.\";\n",
              "      }\n",
              "    } else if (Date.now() < root._bokeh_timeout) {\n",
              "      setTimeout(display_loaded, 100)\n",
              "    }\n",
              "  }\n",
              "\n",
              "\n",
              "  function run_callbacks() {\n",
              "    try {\n",
              "      root._bokeh_onload_callbacks.forEach(function(callback) {\n",
              "        if (callback != null)\n",
              "          callback();\n",
              "      });\n",
              "    } finally {\n",
              "      delete root._bokeh_onload_callbacks\n",
              "    }\n",
              "    console.debug(\"Bokeh: all callbacks have finished\");\n",
              "  }\n",
              "\n",
              "  function load_libs(css_urls, js_urls, callback) {\n",
              "    if (css_urls == null) css_urls = [];\n",
              "    if (js_urls == null) js_urls = [];\n",
              "\n",
              "    root._bokeh_onload_callbacks.push(callback);\n",
              "    if (root._bokeh_is_loading > 0) {\n",
              "      console.debug(\"Bokeh: BokehJS is being loaded, scheduling callback at\", now());\n",
              "      return null;\n",
              "    }\n",
              "    if (js_urls == null || js_urls.length === 0) {\n",
              "      run_callbacks();\n",
              "      return null;\n",
              "    }\n",
              "    console.debug(\"Bokeh: BokehJS not loaded, scheduling load and callback at\", now());\n",
              "    root._bokeh_is_loading = css_urls.length + js_urls.length;\n",
              "\n",
              "    function on_load() {\n",
              "      root._bokeh_is_loading--;\n",
              "      if (root._bokeh_is_loading === 0) {\n",
              "        console.debug(\"Bokeh: all BokehJS libraries/stylesheets loaded\");\n",
              "        run_callbacks()\n",
              "      }\n",
              "    }\n",
              "\n",
              "    function on_error(url) {\n",
              "      console.error(\"failed to load \" + url);\n",
              "    }\n",
              "\n",
              "    for (let i = 0; i < css_urls.length; i++) {\n",
              "      const url = css_urls[i];\n",
              "      const element = document.createElement(\"link\");\n",
              "      element.onload = on_load;\n",
              "      element.onerror = on_error.bind(null, url);\n",
              "      element.rel = \"stylesheet\";\n",
              "      element.type = \"text/css\";\n",
              "      element.href = url;\n",
              "      console.debug(\"Bokeh: injecting link tag for BokehJS stylesheet: \", url);\n",
              "      document.body.appendChild(element);\n",
              "    }\n",
              "\n",
              "    const hashes = {\"https://cdn.bokeh.org/bokeh/release/bokeh-2.3.3.min.js\": \"dM3QQsP+wXdHg42wTqW85BjZQdLNNIXqlPw/BgKoExPmTG7ZLML4EGqLMfqHT6ON\", \"https://cdn.bokeh.org/bokeh/release/bokeh-tables-2.3.3.min.js\": \"8x57I4YuIfu8XyZfFo0XVr2WAT8EK4rh/uDe3wF7YuW2FNUSNEpJbsPaB1nJ2fz2\", \"https://cdn.bokeh.org/bokeh/release/bokeh-widgets-2.3.3.min.js\": \"3QTqdz9LyAm2i0sG5XTePsHec3UHWwVsrOL68SYRoAXsafvfAyqtQ+h440+qIBhS\"};\n",
              "\n",
              "    for (let i = 0; i < js_urls.length; i++) {\n",
              "      const url = js_urls[i];\n",
              "      const element = document.createElement('script');\n",
              "      element.onload = on_load;\n",
              "      element.onerror = on_error.bind(null, url);\n",
              "      element.async = false;\n",
              "      element.src = url;\n",
              "      if (url in hashes) {\n",
              "        element.crossOrigin = \"anonymous\";\n",
              "        element.integrity = \"sha384-\" + hashes[url];\n",
              "      }\n",
              "      console.debug(\"Bokeh: injecting script tag for BokehJS library: \", url);\n",
              "      document.head.appendChild(element);\n",
              "    }\n",
              "  };\n",
              "\n",
              "  function inject_raw_css(css) {\n",
              "    const element = document.createElement(\"style\");\n",
              "    element.appendChild(document.createTextNode(css));\n",
              "    document.body.appendChild(element);\n",
              "  }\n",
              "\n",
              "  \n",
              "  var js_urls = [\"https://cdn.bokeh.org/bokeh/release/bokeh-2.3.3.min.js\", \"https://cdn.bokeh.org/bokeh/release/bokeh-widgets-2.3.3.min.js\", \"https://cdn.bokeh.org/bokeh/release/bokeh-tables-2.3.3.min.js\"];\n",
              "  var css_urls = [];\n",
              "  \n",
              "\n",
              "  var inline_js = [\n",
              "    function(Bokeh) {\n",
              "      Bokeh.set_log_level(\"info\");\n",
              "    },\n",
              "    function(Bokeh) {\n",
              "    \n",
              "    \n",
              "    }\n",
              "  ];\n",
              "\n",
              "  function run_inline_js() {\n",
              "    \n",
              "    if (root.Bokeh !== undefined || force === true) {\n",
              "      \n",
              "    for (var i = 0; i < inline_js.length; i++) {\n",
              "      inline_js[i].call(root, root.Bokeh);\n",
              "    }\n",
              "    } else if (Date.now() < root._bokeh_timeout) {\n",
              "      setTimeout(run_inline_js, 100);\n",
              "    } else if (!root._bokeh_failed_load) {\n",
              "      console.log(\"Bokeh: BokehJS failed to load within specified timeout.\");\n",
              "      root._bokeh_failed_load = true;\n",
              "    } else if (force !== true) {\n",
              "      var cell = $(document.getElementById(null)).parents('.cell').data().cell;\n",
              "      cell.output_area.append_execute_result(NB_LOAD_WARNING)\n",
              "    }\n",
              "\n",
              "  }\n",
              "\n",
              "  if (root._bokeh_is_loading === 0) {\n",
              "    console.debug(\"Bokeh: BokehJS loaded, going straight to plotting\");\n",
              "    run_inline_js();\n",
              "  } else {\n",
              "    load_libs(css_urls, js_urls, function() {\n",
              "      console.debug(\"Bokeh: BokehJS plotting callback run at\", now());\n",
              "      run_inline_js();\n",
              "    });\n",
              "  }\n",
              "}(window));"
            ],
            "application/vnd.bokehjs_load.v0+json": "\n(function(root) {\n  function now() {\n    return new Date();\n  }\n\n  var force = true;\n\n  if (typeof root._bokeh_onload_callbacks === \"undefined\" || force === true) {\n    root._bokeh_onload_callbacks = [];\n    root._bokeh_is_loading = undefined;\n  }\n\n  \n\n  \n  if (typeof (root._bokeh_timeout) === \"undefined\" || force === true) {\n    root._bokeh_timeout = Date.now() + 5000;\n    root._bokeh_failed_load = false;\n  }\n\n  var NB_LOAD_WARNING = {'data': {'text/html':\n     \"<div style='background-color: #fdd'>\\n\"+\n     \"<p>\\n\"+\n     \"BokehJS does not appear to have successfully loaded. If loading BokehJS from CDN, this \\n\"+\n     \"may be due to a slow or bad network connection. Possible fixes:\\n\"+\n     \"</p>\\n\"+\n     \"<ul>\\n\"+\n     \"<li>re-rerun `output_notebook()` to attempt to load from CDN again, or</li>\\n\"+\n     \"<li>use INLINE resources instead, as so:</li>\\n\"+\n     \"</ul>\\n\"+\n     \"<code>\\n\"+\n     \"from bokeh.resources import INLINE\\n\"+\n     \"output_notebook(resources=INLINE)\\n\"+\n     \"</code>\\n\"+\n     \"</div>\"}};\n\n  function display_loaded() {\n    var el = document.getElementById(null);\n    if (el != null) {\n      el.textContent = \"BokehJS is loading...\";\n    }\n    if (root.Bokeh !== undefined) {\n      if (el != null) {\n        el.textContent = \"BokehJS \" + root.Bokeh.version + \" successfully loaded.\";\n      }\n    } else if (Date.now() < root._bokeh_timeout) {\n      setTimeout(display_loaded, 100)\n    }\n  }\n\n\n  function run_callbacks() {\n    try {\n      root._bokeh_onload_callbacks.forEach(function(callback) {\n        if (callback != null)\n          callback();\n      });\n    } finally {\n      delete root._bokeh_onload_callbacks\n    }\n    console.debug(\"Bokeh: all callbacks have finished\");\n  }\n\n  function load_libs(css_urls, js_urls, callback) {\n    if (css_urls == null) css_urls = [];\n    if (js_urls == null) js_urls = [];\n\n    root._bokeh_onload_callbacks.push(callback);\n    if (root._bokeh_is_loading > 0) {\n      console.debug(\"Bokeh: BokehJS is being loaded, scheduling callback at\", now());\n      return null;\n    }\n    if (js_urls == null || js_urls.length === 0) {\n      run_callbacks();\n      return null;\n    }\n    console.debug(\"Bokeh: BokehJS not loaded, scheduling load and callback at\", now());\n    root._bokeh_is_loading = css_urls.length + js_urls.length;\n\n    function on_load() {\n      root._bokeh_is_loading--;\n      if (root._bokeh_is_loading === 0) {\n        console.debug(\"Bokeh: all BokehJS libraries/stylesheets loaded\");\n        run_callbacks()\n      }\n    }\n\n    function on_error(url) {\n      console.error(\"failed to load \" + url);\n    }\n\n    for (let i = 0; i < css_urls.length; i++) {\n      const url = css_urls[i];\n      const element = document.createElement(\"link\");\n      element.onload = on_load;\n      element.onerror = on_error.bind(null, url);\n      element.rel = \"stylesheet\";\n      element.type = \"text/css\";\n      element.href = url;\n      console.debug(\"Bokeh: injecting link tag for BokehJS stylesheet: \", url);\n      document.body.appendChild(element);\n    }\n\n    const hashes = {\"https://cdn.bokeh.org/bokeh/release/bokeh-2.3.3.min.js\": \"dM3QQsP+wXdHg42wTqW85BjZQdLNNIXqlPw/BgKoExPmTG7ZLML4EGqLMfqHT6ON\", \"https://cdn.bokeh.org/bokeh/release/bokeh-tables-2.3.3.min.js\": \"8x57I4YuIfu8XyZfFo0XVr2WAT8EK4rh/uDe3wF7YuW2FNUSNEpJbsPaB1nJ2fz2\", \"https://cdn.bokeh.org/bokeh/release/bokeh-widgets-2.3.3.min.js\": \"3QTqdz9LyAm2i0sG5XTePsHec3UHWwVsrOL68SYRoAXsafvfAyqtQ+h440+qIBhS\"};\n\n    for (let i = 0; i < js_urls.length; i++) {\n      const url = js_urls[i];\n      const element = document.createElement('script');\n      element.onload = on_load;\n      element.onerror = on_error.bind(null, url);\n      element.async = false;\n      element.src = url;\n      if (url in hashes) {\n        element.crossOrigin = \"anonymous\";\n        element.integrity = \"sha384-\" + hashes[url];\n      }\n      console.debug(\"Bokeh: injecting script tag for BokehJS library: \", url);\n      document.head.appendChild(element);\n    }\n  };\n\n  function inject_raw_css(css) {\n    const element = document.createElement(\"style\");\n    element.appendChild(document.createTextNode(css));\n    document.body.appendChild(element);\n  }\n\n  \n  var js_urls = [\"https://cdn.bokeh.org/bokeh/release/bokeh-2.3.3.min.js\", \"https://cdn.bokeh.org/bokeh/release/bokeh-widgets-2.3.3.min.js\", \"https://cdn.bokeh.org/bokeh/release/bokeh-tables-2.3.3.min.js\"];\n  var css_urls = [];\n  \n\n  var inline_js = [\n    function(Bokeh) {\n      Bokeh.set_log_level(\"info\");\n    },\n    function(Bokeh) {\n    \n    \n    }\n  ];\n\n  function run_inline_js() {\n    \n    if (root.Bokeh !== undefined || force === true) {\n      \n    for (var i = 0; i < inline_js.length; i++) {\n      inline_js[i].call(root, root.Bokeh);\n    }\n    } else if (Date.now() < root._bokeh_timeout) {\n      setTimeout(run_inline_js, 100);\n    } else if (!root._bokeh_failed_load) {\n      console.log(\"Bokeh: BokehJS failed to load within specified timeout.\");\n      root._bokeh_failed_load = true;\n    } else if (force !== true) {\n      var cell = $(document.getElementById(null)).parents('.cell').data().cell;\n      cell.output_area.append_execute_result(NB_LOAD_WARNING)\n    }\n\n  }\n\n  if (root._bokeh_is_loading === 0) {\n    console.debug(\"Bokeh: BokehJS loaded, going straight to plotting\");\n    run_inline_js();\n  } else {\n    load_libs(css_urls, js_urls, function() {\n      console.debug(\"Bokeh: BokehJS plotting callback run at\", now());\n      run_inline_js();\n    });\n  }\n}(window));"
          },
          "metadata": {}
        },
        {
          "output_type": "display_data",
          "data": {
            "text/html": [
              "\n",
              "\n",
              "\n",
              "\n",
              "\n",
              "\n",
              "  <div class=\"bk-root\" id=\"ca133bae-5f61-4248-a053-7697cb973d47\" data-root-id=\"3165\"></div>\n"
            ]
          },
          "metadata": {}
        },
        {
          "output_type": "display_data",
          "data": {
            "application/javascript": [
              "(function(root) {\n",
              "  function embed_document(root) {\n",
              "    \n",
              "  var docs_json = {\"5f08d3f8-95b2-4f07-b774-8180ef758c7e\":{\"defs\":[],\"roots\":{\"references\":[{\"attributes\":{\"below\":[{\"id\":\"3174\"}],\"center\":[{\"id\":\"3177\"},{\"id\":\"3181\"}],\"left\":[{\"id\":\"3178\"}],\"renderers\":[{\"id\":\"3193\"}],\"title\":{\"id\":\"3166\"},\"toolbar\":{\"id\":\"3187\"},\"x_range\":{\"id\":\"3163\"},\"x_scale\":{\"id\":\"3170\"},\"y_range\":{\"id\":\"3164\"},\"y_scale\":{\"id\":\"3172\"}},\"id\":\"3165\",\"subtype\":\"Figure\",\"type\":\"Plot\"},{\"attributes\":{\"axis\":{\"id\":\"3174\"},\"ticker\":null},\"id\":\"3177\",\"type\":\"Grid\"},{\"attributes\":{},\"id\":\"3175\",\"type\":\"BasicTicker\"},{\"attributes\":{\"fill_color\":{\"value\":\"white\"},\"line_width\":{\"value\":2},\"size\":{\"field\":\"adjusted_node_size\"}},\"id\":\"3213\",\"type\":\"Circle\"},{\"attributes\":{},\"id\":\"3419\",\"type\":\"Selection\"},{\"attributes\":{\"callback\":null,\"tooltips\":[[\"concept\",\"@index\"],[\"Degree\",\"@degree\"],[\"Modularity Class\",\"@modularity_class\"],[\"Modularity Color\",\"$color[swatch]:modularity_color\"]]},\"id\":\"3186\",\"type\":\"HoverTool\"},{\"attributes\":{},\"id\":\"3412\",\"type\":\"BasicTickFormatter\"},{\"attributes\":{\"end\":10.1,\"start\":-10.1},\"id\":\"3164\",\"type\":\"Range1d\"},{\"attributes\":{\"active_multi\":null,\"active_scroll\":{\"id\":\"3183\"},\"tools\":[{\"id\":\"3182\"},{\"id\":\"3183\"},{\"id\":\"3184\"},{\"id\":\"3185\"},{\"id\":\"3186\"}]},\"id\":\"3187\",\"type\":\"Toolbar\"},{\"attributes\":{},\"id\":\"3183\",\"type\":\"WheelZoomTool\"},{\"attributes\":{\"formatter\":{\"id\":\"3415\"},\"major_label_policy\":{\"id\":\"3417\"},\"ticker\":{\"id\":\"3175\"}},\"id\":\"3174\",\"type\":\"LinearAxis\"},{\"attributes\":{\"formatter\":{\"id\":\"3412\"},\"major_label_policy\":{\"id\":\"3414\"},\"ticker\":{\"id\":\"3179\"}},\"id\":\"3178\",\"type\":\"LinearAxis\"},{\"attributes\":{\"edge_renderer\":{\"id\":\"3200\"},\"inspection_policy\":{\"id\":\"3235\"},\"layout_provider\":{\"id\":\"3202\"},\"node_renderer\":{\"id\":\"3196\"},\"selection_policy\":{\"id\":\"3233\"}},\"id\":\"3193\",\"type\":\"GraphRenderer\"},{\"attributes\":{\"source\":{\"id\":\"3195\"}},\"id\":\"3197\",\"type\":\"CDSView\"},{\"attributes\":{\"axis\":{\"id\":\"3178\"},\"dimension\":1,\"ticker\":null},\"id\":\"3181\",\"type\":\"Grid\"},{\"attributes\":{},\"id\":\"3185\",\"type\":\"ResetTool\"},{\"attributes\":{\"line_width\":{\"value\":2}},\"id\":\"3223\",\"type\":\"MultiLine\"},{\"attributes\":{},\"id\":\"3182\",\"type\":\"PanTool\"},{\"attributes\":{\"data\":{\"adjusted_node_size\":[14,13,15,13,14,11,10,17,17,18,10,19,14,16,8,12,12,11,12,9,20,7,15,19,7,16,7,14,10,14],\"degree\":[9,8,10,8,9,6,5,12,12,13,5,14,9,11,3,7,7,6,7,4,15,2,10,14,2,11,2,9,5,9],\"index\":[\"Acidity (pH)\",\"Capturing Critical Zone processes\",\"Erosion\",\"Evidencing ecosystem processes\",\"Evidencing human-ecosystem interactions\",\"Regulating Climate\",\"Restoration\",\"Storing Carbon\",\"Supporting a living ecosystem\",\"Sustaining plant health\",\"Bulk Density\",\"Carbon Content\",\"Archiving evidence of past ecosystem processes\",\"Archiving evidence of past human activities\",\"Forming rural landscapes\",\"Sustaining animal health\",\"Sustaining human health\",\"Colour\",\"Compaction\",\"Inorganic inclusions\",\"Moisture\",\"Modification\",\"Nutrient Content \",\"Organic Matter Content\",\"Organisms present\",\"Porosity \",\"Resistivity \",\"Structure\",\"Temperature\",\"Texture\"],\"modularity_class\":[1,2,0,1,0,1,1,2,1,0,2,1,0,0,1,2,2,0,0,0,2,2,2,1,1,0,0,2,1,2],\"modularity_color\":[\"#66c2a5\",\"#abdda4\",\"#3288bd\",\"#66c2a5\",\"#3288bd\",\"#66c2a5\",\"#66c2a5\",\"#abdda4\",\"#66c2a5\",\"#3288bd\",\"#abdda4\",\"#66c2a5\",\"#3288bd\",\"#3288bd\",\"#66c2a5\",\"#abdda4\",\"#abdda4\",\"#3288bd\",\"#3288bd\",\"#3288bd\",\"#abdda4\",\"#abdda4\",\"#abdda4\",\"#66c2a5\",\"#66c2a5\",\"#3288bd\",\"#3288bd\",\"#abdda4\",\"#66c2a5\",\"#abdda4\"]},\"selected\":{\"id\":\"3419\"},\"selection_policy\":{\"id\":\"3418\"}},\"id\":\"3195\",\"type\":\"ColumnDataSource\"},{\"attributes\":{\"fill_color\":{\"value\":\"white\"},\"line_width\":{\"value\":2},\"size\":{\"field\":\"adjusted_node_size\"}},\"id\":\"3208\",\"type\":\"Circle\"},{\"attributes\":{},\"id\":\"3172\",\"type\":\"LinearScale\"},{\"attributes\":{},\"id\":\"3421\",\"type\":\"Selection\"},{\"attributes\":{\"data_source\":{\"id\":\"3199\"},\"glyph\":{\"id\":\"3218\"},\"hover_glyph\":{\"id\":\"3228\"},\"muted_glyph\":null,\"selection_glyph\":{\"id\":\"3223\"},\"view\":{\"id\":\"3201\"}},\"id\":\"3200\",\"type\":\"GlyphRenderer\"},{\"attributes\":{},\"id\":\"3184\",\"type\":\"SaveTool\"},{\"attributes\":{},\"id\":\"3415\",\"type\":\"BasicTickFormatter\"},{\"attributes\":{\"data_source\":{\"id\":\"3195\"},\"glyph\":{\"id\":\"3203\"},\"hover_glyph\":{\"id\":\"3208\"},\"muted_glyph\":null,\"selection_glyph\":{\"id\":\"3213\"},\"view\":{\"id\":\"3197\"}},\"id\":\"3196\",\"type\":\"GlyphRenderer\"},{\"attributes\":{\"text\":\"soil health and heritage\"},\"id\":\"3166\",\"type\":\"Title\"},{\"attributes\":{\"line_alpha\":{\"value\":0.5}},\"id\":\"3218\",\"type\":\"MultiLine\"},{\"attributes\":{},\"id\":\"3418\",\"type\":\"UnionRenderers\"},{\"attributes\":{},\"id\":\"3420\",\"type\":\"UnionRenderers\"},{\"attributes\":{\"graph_layout\":{\"Acidity (pH)\":[-2.4237028833864716,-1.8711645025358732],\"Archiving evidence of past ecosystem processes\":[4.817300811634915,0.24820522985486462],\"Archiving evidence of past human activities\":[3.8335547530885425,1.6085761400194551],\"Bulk Density\":[-5.080801636428935,4.375190542969768],\"Capturing Critical Zone processes\":[-3.4318989566081965,1.528568010825191],\"Carbon Content\":[-0.431285463910019,-1.5745178789822079],\"Colour\":[-0.9372363582552945,4.412974068923187],\"Compaction\":[2.0039418109069524,3.9892626055539],\"Erosion\":[-1.7909908043453782,2.701910086479193],\"Evidencing ecosystem processes\":[-3.9936972030454925,-1.567716355553821],\"Evidencing human-ecosystem interactions\":[2.7950994540933207,-0.05910421189045653],\"Forming rural landscapes\":[-0.25101537634695886,-6.773016683255586],\"Inorganic inclusions\":[6.064696946739748,3.5920048527217907],\"Modification\":[5.044854042099091,-6.458817486740625],\"Moisture\":[0.6030780898338508,-2.0093299577675614],\"Nutrient Content \":[2.088721631467337,-1.7330252148469723],\"Organic Matter Content\":[-0.00011633309504372789,-0.9674558382765416],\"Organisms present\":[-9.27740081038998,-1.93862146128978],\"Porosity \":[0.8640932488760833,0.41115355964143047],\"Regulating Climate\":[-3.5451451233195193,-3.96776997910614],\"Resistivity \":[10.0,0.5941372164544474],\"Restoration\":[0.5472853349607701,-4.909814097587226],\"Storing Carbon\":[-1.8819360192491625,1.4055569565091435],\"Structure\":[-1.1106718198064063,0.27520808149474535],\"Supporting a living ecosystem\":[-3.0501880884268293,0.23302926577074326],\"Sustaining animal health\":[2.803005338361741,1.096202055595467],\"Sustaining human health\":[1.7687209020553074,1.7823969278667096],\"Sustaining plant health\":[-0.4107612911840245,1.9926929280029255],\"Temperature\":[-6.265332373051353,-0.26061229071208286],\"Texture\":[0.6478281767314185,3.843897429861895]}},\"id\":\"3202\",\"type\":\"StaticLayoutProvider\"},{\"attributes\":{\"data\":{\"end\":[\"Capturing Critical Zone processes\",\"Erosion\",\"Evidencing ecosystem processes\",\"Evidencing human-ecosystem interactions\",\"Regulating Climate\",\"Restoration\",\"Storing Carbon\",\"Supporting a living ecosystem\",\"Sustaining plant health\",\"Bulk Density\",\"Carbon Content\",\"Moisture\",\"Organic Matter Content\",\"Porosity \",\"Structure\",\"Texture\",\"Bulk Density\",\"Carbon Content\",\"Colour\",\"Compaction\",\"Moisture\",\"Organic Matter Content\",\"Porosity \",\"Structure\",\"Texture\",\"Carbon Content\",\"Colour\",\"Moisture\",\"Nutrient Content \",\"Organic Matter Content\",\"Organisms present\",\"Temperature\",\"Carbon Content\",\"Colour\",\"Compaction\",\"Inorganic inclusions\",\"Moisture\",\"Nutrient Content \",\"Organic Matter Content\",\"Porosity \",\"Carbon Content\",\"Moisture\",\"Organic Matter Content\",\"Structure\",\"Temperature\",\"Carbon Content\",\"Moisture\",\"Organic Matter Content\",\"Porosity \",\"Bulk Density\",\"Carbon Content\",\"Colour\",\"Compaction\",\"Moisture\",\"Nutrient Content \",\"Organic Matter Content\",\"Porosity \",\"Structure\",\"Temperature\",\"Texture\",\"Bulk Density\",\"Carbon Content\",\"Compaction\",\"Moisture\",\"Nutrient Content \",\"Organic Matter Content\",\"Organisms present\",\"Porosity \",\"Structure\",\"Temperature\",\"Texture\",\"Bulk Density\",\"Carbon Content\",\"Colour\",\"Compaction\",\"Inorganic inclusions\",\"Moisture\",\"Nutrient Content \",\"Organic Matter Content\",\"Porosity \",\"Structure\",\"Temperature\",\"Texture\",\"Archiving evidence of past ecosystem processes\",\"Archiving evidence of past human activities\",\"Forming rural landscapes\",\"Sustaining animal health\",\"Sustaining human health\",\"Compaction\",\"Inorganic inclusions\",\"Moisture\",\"Nutrient Content \",\"Organic Matter Content\",\"Porosity \",\"Resistivity \",\"Texture\",\"Colour\",\"Compaction\",\"Inorganic inclusions\",\"Moisture\",\"Nutrient Content \",\"Organic Matter Content\",\"Porosity \",\"Resistivity \",\"Structure\",\"Texture\",\"Moisture\",\"Organic Matter Content\",\"Moisture\",\"Nutrient Content \",\"Organic Matter Content\",\"Porosity \",\"Structure\",\"Texture\",\"Moisture\",\"Nutrient Content \",\"Organic Matter Content\",\"Porosity \",\"Structure\",\"Texture\",\"Modification\",\"Nutrient Content \"],\"start\":[\"Acidity (pH)\",\"Acidity (pH)\",\"Acidity (pH)\",\"Acidity (pH)\",\"Acidity (pH)\",\"Acidity (pH)\",\"Acidity (pH)\",\"Acidity (pH)\",\"Acidity (pH)\",\"Capturing Critical Zone processes\",\"Capturing Critical Zone processes\",\"Capturing Critical Zone processes\",\"Capturing Critical Zone processes\",\"Capturing Critical Zone processes\",\"Capturing Critical Zone processes\",\"Capturing Critical Zone processes\",\"Erosion\",\"Erosion\",\"Erosion\",\"Erosion\",\"Erosion\",\"Erosion\",\"Erosion\",\"Erosion\",\"Erosion\",\"Evidencing ecosystem processes\",\"Evidencing ecosystem processes\",\"Evidencing ecosystem processes\",\"Evidencing ecosystem processes\",\"Evidencing ecosystem processes\",\"Evidencing ecosystem processes\",\"Evidencing ecosystem processes\",\"Evidencing human-ecosystem interactions\",\"Evidencing human-ecosystem interactions\",\"Evidencing human-ecosystem interactions\",\"Evidencing human-ecosystem interactions\",\"Evidencing human-ecosystem interactions\",\"Evidencing human-ecosystem interactions\",\"Evidencing human-ecosystem interactions\",\"Evidencing human-ecosystem interactions\",\"Regulating Climate\",\"Regulating Climate\",\"Regulating Climate\",\"Regulating Climate\",\"Regulating Climate\",\"Restoration\",\"Restoration\",\"Restoration\",\"Restoration\",\"Storing Carbon\",\"Storing Carbon\",\"Storing Carbon\",\"Storing Carbon\",\"Storing Carbon\",\"Storing Carbon\",\"Storing Carbon\",\"Storing Carbon\",\"Storing Carbon\",\"Storing Carbon\",\"Storing Carbon\",\"Supporting a living ecosystem\",\"Supporting a living ecosystem\",\"Supporting a living ecosystem\",\"Supporting a living ecosystem\",\"Supporting a living ecosystem\",\"Supporting a living ecosystem\",\"Supporting a living ecosystem\",\"Supporting a living ecosystem\",\"Supporting a living ecosystem\",\"Supporting a living ecosystem\",\"Supporting a living ecosystem\",\"Sustaining plant health\",\"Sustaining plant health\",\"Sustaining plant health\",\"Sustaining plant health\",\"Sustaining plant health\",\"Sustaining plant health\",\"Sustaining plant health\",\"Sustaining plant health\",\"Sustaining plant health\",\"Sustaining plant health\",\"Sustaining plant health\",\"Sustaining plant health\",\"Carbon Content\",\"Carbon Content\",\"Carbon Content\",\"Carbon Content\",\"Carbon Content\",\"Archiving evidence of past ecosystem processes\",\"Archiving evidence of past ecosystem processes\",\"Archiving evidence of past ecosystem processes\",\"Archiving evidence of past ecosystem processes\",\"Archiving evidence of past ecosystem processes\",\"Archiving evidence of past ecosystem processes\",\"Archiving evidence of past ecosystem processes\",\"Archiving evidence of past ecosystem processes\",\"Archiving evidence of past human activities\",\"Archiving evidence of past human activities\",\"Archiving evidence of past human activities\",\"Archiving evidence of past human activities\",\"Archiving evidence of past human activities\",\"Archiving evidence of past human activities\",\"Archiving evidence of past human activities\",\"Archiving evidence of past human activities\",\"Archiving evidence of past human activities\",\"Archiving evidence of past human activities\",\"Forming rural landscapes\",\"Forming rural landscapes\",\"Sustaining animal health\",\"Sustaining animal health\",\"Sustaining animal health\",\"Sustaining animal health\",\"Sustaining animal health\",\"Sustaining animal health\",\"Sustaining human health\",\"Sustaining human health\",\"Sustaining human health\",\"Sustaining human health\",\"Sustaining human health\",\"Sustaining human health\",\"Moisture\",\"Modification\"]},\"selected\":{\"id\":\"3421\"},\"selection_policy\":{\"id\":\"3420\"}},\"id\":\"3199\",\"type\":\"ColumnDataSource\"},{\"attributes\":{},\"id\":\"3235\",\"type\":\"NodesAndLinkedEdges\"},{\"attributes\":{\"line_width\":{\"value\":2}},\"id\":\"3228\",\"type\":\"MultiLine\"},{\"attributes\":{},\"id\":\"3179\",\"type\":\"BasicTicker\"},{\"attributes\":{\"source\":{\"id\":\"3199\"}},\"id\":\"3201\",\"type\":\"CDSView\"},{\"attributes\":{},\"id\":\"3170\",\"type\":\"LinearScale\"},{\"attributes\":{},\"id\":\"3417\",\"type\":\"AllLabels\"},{\"attributes\":{\"fill_color\":{\"field\":\"modularity_color\"},\"size\":{\"field\":\"adjusted_node_size\"}},\"id\":\"3203\",\"type\":\"Circle\"},{\"attributes\":{},\"id\":\"3414\",\"type\":\"AllLabels\"},{\"attributes\":{},\"id\":\"3233\",\"type\":\"NodesAndLinkedEdges\"},{\"attributes\":{\"end\":10.1,\"start\":-10.1},\"id\":\"3163\",\"type\":\"Range1d\"}],\"root_ids\":[\"3165\"]},\"title\":\"Bokeh Application\",\"version\":\"2.3.3\"}};\n",
              "  var render_items = [{\"docid\":\"5f08d3f8-95b2-4f07-b774-8180ef758c7e\",\"root_ids\":[\"3165\"],\"roots\":{\"3165\":\"ca133bae-5f61-4248-a053-7697cb973d47\"}}];\n",
              "  root.Bokeh.embed.embed_items_notebook(docs_json, render_items);\n",
              "\n",
              "  }\n",
              "  if (root.Bokeh !== undefined) {\n",
              "    embed_document(root);\n",
              "  } else {\n",
              "    var attempts = 0;\n",
              "    var timer = setInterval(function(root) {\n",
              "      if (root.Bokeh !== undefined) {\n",
              "        clearInterval(timer);\n",
              "        embed_document(root);\n",
              "      } else {\n",
              "        attempts++;\n",
              "        if (attempts > 100) {\n",
              "          clearInterval(timer);\n",
              "          console.log(\"Bokeh: ERROR: Unable to run BokehJS code because BokehJS library is missing\");\n",
              "        }\n",
              "      }\n",
              "    }, 10, root)\n",
              "  }\n",
              "})(window);"
            ],
            "application/vnd.bokehjs_exec.v0+json": ""
          },
          "metadata": {
            "application/vnd.bokehjs_exec.v0+json": {
              "id": "3165"
            }
          }
        }
      ],
      "source": [
        "from bokeh.models import EdgesAndLinkedNodes, NodesAndLinkedEdges\n",
        "\n",
        "#Choose colors for node and edge highlighting\n",
        "node_highlight_color = 'white'\n",
        "edge_highlight_color = 'black'\n",
        "\n",
        "#Choose attributes from G network to size and color by — setting manual size (e.g. 10) or color (e.g. 'skyblue') also allowed\n",
        "size_by_this_attribute = 'adjusted_node_size'\n",
        "color_by_this_attribute = 'modularity_color'\n",
        "\n",
        "#Pick a color palette — Blues8, Reds8, Purples8, Oranges8, Viridis8\n",
        "color_palette = Blues8\n",
        "\n",
        "#Choose a title!\n",
        "title = 'soil health and heritage'\n",
        "\n",
        "#Establish which categories will appear when hovering over each node\n",
        "HOVER_TOOLTIPS = [\n",
        "       (\"concept\", \"@index\"),\n",
        "        (\"Degree\", \"@degree\"),\n",
        "         (\"Modularity Class\", \"@modularity_class\"),\n",
        "        (\"Modularity Color\", \"$color[swatch]:modularity_color\"),\n",
        "]\n",
        "\n",
        "#Create a plot — set dimensions, toolbar, and title\n",
        "plot = figure(tooltips = HOVER_TOOLTIPS,\n",
        "              tools=\"pan,wheel_zoom,save,reset\", active_scroll='wheel_zoom',\n",
        "            x_range=Range1d(-10.1, 10.1), y_range=Range1d(-10.1, 10.1), title=title)\n",
        "\n",
        "#Create a network graph object\n",
        "# https://networkx.github.io/documentation/networkx-1.9/reference/generated/networkx.drawing.layout.spring_layout.html\n",
        "network_graph = from_networkx(G, networkx.spring_layout, scale=10, center=(0, 0))\n",
        "\n",
        "#Set node sizes and colors according to node degree (color as category from attribute)\n",
        "network_graph.node_renderer.glyph = Circle(size=size_by_this_attribute, fill_color=color_by_this_attribute)\n",
        "#Set node highlight colors\n",
        "network_graph.node_renderer.hover_glyph = Circle(size=size_by_this_attribute, fill_color=node_highlight_color, line_width=2)\n",
        "network_graph.node_renderer.selection_glyph = Circle(size=size_by_this_attribute, fill_color=node_highlight_color, line_width=2)\n",
        "\n",
        "#Set edge opacity and width\n",
        "network_graph.edge_renderer.glyph = MultiLine(line_alpha=0.5, line_width=1)\n",
        "#Set edge highlight colors\n",
        "network_graph.edge_renderer.selection_glyph = MultiLine(line_color=edge_highlight_color, line_width=2)\n",
        "network_graph.edge_renderer.hover_glyph = MultiLine(line_color=edge_highlight_color, line_width=2)\n",
        "\n",
        "    #Highlight nodes and edges\n",
        "network_graph.selection_policy = NodesAndLinkedEdges()\n",
        "network_graph.inspection_policy = NodesAndLinkedEdges()\n",
        "\n",
        "plot.renderers.append(network_graph)\n",
        "\n",
        "show(plot)\n",
        "#save(plot, filename=f\"{title}.html\")"
      ]
    },
    {
      "cell_type": "markdown",
      "metadata": {
        "id": "HRSQ4qE4UsRP"
      },
      "source": [
        "## Network with Labels"
      ]
    },
    {
      "cell_type": "markdown",
      "metadata": {
        "id": "MGBgK0FYUsRQ"
      },
      "source": [
        "The code below shows how to create node labels, which you can read more about in [Bokeh's label documentation](https://docs.bokeh.org/en/latest/docs/user_guide/annotations.html#labels)."
      ]
    },
    {
      "cell_type": "markdown",
      "metadata": {
        "id": "XKqHmr1MUsRQ"
      },
      "source": [
        "**Include  LabelSet**"
      ]
    },
    {
      "cell_type": "code",
      "execution_count": 61,
      "metadata": {
        "id": "hWbmU6QrUsRQ"
      },
      "outputs": [],
      "source": [
        "from bokeh.io import output_notebook, show, save\n",
        "from bokeh.models import Range1d, Circle, ColumnDataSource, MultiLine, EdgesAndLinkedNodes, NodesAndLinkedEdges, LabelSet\n",
        "from bokeh.plotting import figure\n",
        "from bokeh.plotting import from_networkx\n",
        "from bokeh.palettes import Blues8, Reds8, Purples8, Oranges8, Viridis8, Spectral8\n",
        "from bokeh.transform import linear_cmap\n",
        "from networkx.algorithms import community"
      ]
    },
    {
      "cell_type": "markdown",
      "metadata": {
        "id": "9KUN8cWUUsRQ"
      },
      "source": [
        "**Calculate degree for each node and add as node attribute**"
      ]
    },
    {
      "cell_type": "code",
      "execution_count": 62,
      "metadata": {
        "tags": [
          "hide-input"
        ],
        "id": "cYorPtjdUsRQ"
      },
      "outputs": [],
      "source": [
        "degrees = dict(networkx.degree(G))\n",
        "networkx.set_node_attributes(G, name='degree', values=degrees)"
      ]
    },
    {
      "cell_type": "markdown",
      "metadata": {
        "id": "0L_pyb_0UsRQ"
      },
      "source": [
        "**Slightly adjust degree so that the nodes with very small degrees are still visible**"
      ]
    },
    {
      "cell_type": "code",
      "execution_count": 63,
      "metadata": {
        "tags": [
          "hide-input"
        ],
        "id": "SkaHyaNuUsRQ"
      },
      "outputs": [],
      "source": [
        "number_to_adjust_by = 5\n",
        "adjusted_node_size = dict([(node, degree+number_to_adjust_by) for node, degree in networkx.degree(G)])\n",
        "networkx.set_node_attributes(G, name='adjusted_node_size', values=adjusted_node_size)"
      ]
    },
    {
      "cell_type": "markdown",
      "metadata": {
        "id": "zyUDVeimUsRQ"
      },
      "source": [
        "**Calculate communities**"
      ]
    },
    {
      "cell_type": "code",
      "execution_count": 64,
      "metadata": {
        "tags": [
          "hide-input"
        ],
        "id": "ePCuWEWAUsRR"
      },
      "outputs": [],
      "source": [
        "communities = community.greedy_modularity_communities(G)"
      ]
    },
    {
      "cell_type": "markdown",
      "metadata": {
        "id": "_9FvJjCeUsRR"
      },
      "source": [
        "**Add modularity class and color as attributes to network graph**"
      ]
    },
    {
      "cell_type": "code",
      "execution_count": 65,
      "metadata": {
        "tags": [
          "hide-input"
        ],
        "id": "86xnfS0gUsRR"
      },
      "outputs": [],
      "source": [
        "# Create empty dictionaries\n",
        "modularity_class = {}\n",
        "modularity_color = {}\n",
        "#Loop through each community in the network\n",
        "for community_number, community in enumerate(communities):\n",
        "    #For each member of the community, add their community number and a distinct color\n",
        "    for name in community: \n",
        "        modularity_class[name] = community_number\n",
        "        modularity_color[name] = Spectral8[community_number]"
      ]
    },
    {
      "cell_type": "code",
      "execution_count": 66,
      "metadata": {
        "colab": {
          "base_uri": "https://localhost:8080/",
          "height": 617
        },
        "id": "ypZ_UHm5UsRR",
        "outputId": "8a3e9e8c-95c8-427f-aa10-b980fe7f0ba3"
      },
      "outputs": [
        {
          "output_type": "display_data",
          "data": {
            "application/javascript": [
              "\n",
              "(function(root) {\n",
              "  function now() {\n",
              "    return new Date();\n",
              "  }\n",
              "\n",
              "  var force = true;\n",
              "\n",
              "  if (typeof root._bokeh_onload_callbacks === \"undefined\" || force === true) {\n",
              "    root._bokeh_onload_callbacks = [];\n",
              "    root._bokeh_is_loading = undefined;\n",
              "  }\n",
              "\n",
              "  var JS_MIME_TYPE = 'application/javascript';\n",
              "  var HTML_MIME_TYPE = 'text/html';\n",
              "  var EXEC_MIME_TYPE = 'application/vnd.bokehjs_exec.v0+json';\n",
              "  var CLASS_NAME = 'output_bokeh rendered_html';\n",
              "\n",
              "  /**\n",
              "   * Render data to the DOM node\n",
              "   */\n",
              "  function render(props, node) {\n",
              "    var script = document.createElement(\"script\");\n",
              "    node.appendChild(script);\n",
              "  }\n",
              "\n",
              "  /**\n",
              "   * Handle when an output is cleared or removed\n",
              "   */\n",
              "  function handleClearOutput(event, handle) {\n",
              "    var cell = handle.cell;\n",
              "\n",
              "    var id = cell.output_area._bokeh_element_id;\n",
              "    var server_id = cell.output_area._bokeh_server_id;\n",
              "    // Clean up Bokeh references\n",
              "    if (id != null && id in Bokeh.index) {\n",
              "      Bokeh.index[id].model.document.clear();\n",
              "      delete Bokeh.index[id];\n",
              "    }\n",
              "\n",
              "    if (server_id !== undefined) {\n",
              "      // Clean up Bokeh references\n",
              "      var cmd = \"from bokeh.io.state import curstate; print(curstate().uuid_to_server['\" + server_id + \"'].get_sessions()[0].document.roots[0]._id)\";\n",
              "      cell.notebook.kernel.execute(cmd, {\n",
              "        iopub: {\n",
              "          output: function(msg) {\n",
              "            var id = msg.content.text.trim();\n",
              "            if (id in Bokeh.index) {\n",
              "              Bokeh.index[id].model.document.clear();\n",
              "              delete Bokeh.index[id];\n",
              "            }\n",
              "          }\n",
              "        }\n",
              "      });\n",
              "      // Destroy server and session\n",
              "      var cmd = \"import bokeh.io.notebook as ion; ion.destroy_server('\" + server_id + \"')\";\n",
              "      cell.notebook.kernel.execute(cmd);\n",
              "    }\n",
              "  }\n",
              "\n",
              "  /**\n",
              "   * Handle when a new output is added\n",
              "   */\n",
              "  function handleAddOutput(event, handle) {\n",
              "    var output_area = handle.output_area;\n",
              "    var output = handle.output;\n",
              "\n",
              "    // limit handleAddOutput to display_data with EXEC_MIME_TYPE content only\n",
              "    if ((output.output_type != \"display_data\") || (!Object.prototype.hasOwnProperty.call(output.data, EXEC_MIME_TYPE))) {\n",
              "      return\n",
              "    }\n",
              "\n",
              "    var toinsert = output_area.element.find(\".\" + CLASS_NAME.split(' ')[0]);\n",
              "\n",
              "    if (output.metadata[EXEC_MIME_TYPE][\"id\"] !== undefined) {\n",
              "      toinsert[toinsert.length - 1].firstChild.textContent = output.data[JS_MIME_TYPE];\n",
              "      // store reference to embed id on output_area\n",
              "      output_area._bokeh_element_id = output.metadata[EXEC_MIME_TYPE][\"id\"];\n",
              "    }\n",
              "    if (output.metadata[EXEC_MIME_TYPE][\"server_id\"] !== undefined) {\n",
              "      var bk_div = document.createElement(\"div\");\n",
              "      bk_div.innerHTML = output.data[HTML_MIME_TYPE];\n",
              "      var script_attrs = bk_div.children[0].attributes;\n",
              "      for (var i = 0; i < script_attrs.length; i++) {\n",
              "        toinsert[toinsert.length - 1].firstChild.setAttribute(script_attrs[i].name, script_attrs[i].value);\n",
              "        toinsert[toinsert.length - 1].firstChild.textContent = bk_div.children[0].textContent\n",
              "      }\n",
              "      // store reference to server id on output_area\n",
              "      output_area._bokeh_server_id = output.metadata[EXEC_MIME_TYPE][\"server_id\"];\n",
              "    }\n",
              "  }\n",
              "\n",
              "  function register_renderer(events, OutputArea) {\n",
              "\n",
              "    function append_mime(data, metadata, element) {\n",
              "      // create a DOM node to render to\n",
              "      var toinsert = this.create_output_subarea(\n",
              "        metadata,\n",
              "        CLASS_NAME,\n",
              "        EXEC_MIME_TYPE\n",
              "      );\n",
              "      this.keyboard_manager.register_events(toinsert);\n",
              "      // Render to node\n",
              "      var props = {data: data, metadata: metadata[EXEC_MIME_TYPE]};\n",
              "      render(props, toinsert[toinsert.length - 1]);\n",
              "      element.append(toinsert);\n",
              "      return toinsert\n",
              "    }\n",
              "\n",
              "    /* Handle when an output is cleared or removed */\n",
              "    events.on('clear_output.CodeCell', handleClearOutput);\n",
              "    events.on('delete.Cell', handleClearOutput);\n",
              "\n",
              "    /* Handle when a new output is added */\n",
              "    events.on('output_added.OutputArea', handleAddOutput);\n",
              "\n",
              "    /**\n",
              "     * Register the mime type and append_mime function with output_area\n",
              "     */\n",
              "    OutputArea.prototype.register_mime_type(EXEC_MIME_TYPE, append_mime, {\n",
              "      /* Is output safe? */\n",
              "      safe: true,\n",
              "      /* Index of renderer in `output_area.display_order` */\n",
              "      index: 0\n",
              "    });\n",
              "  }\n",
              "\n",
              "  // register the mime type if in Jupyter Notebook environment and previously unregistered\n",
              "  if (root.Jupyter !== undefined) {\n",
              "    var events = require('base/js/events');\n",
              "    var OutputArea = require('notebook/js/outputarea').OutputArea;\n",
              "\n",
              "    if (OutputArea.prototype.mime_types().indexOf(EXEC_MIME_TYPE) == -1) {\n",
              "      register_renderer(events, OutputArea);\n",
              "    }\n",
              "  }\n",
              "\n",
              "  \n",
              "  if (typeof (root._bokeh_timeout) === \"undefined\" || force === true) {\n",
              "    root._bokeh_timeout = Date.now() + 5000;\n",
              "    root._bokeh_failed_load = false;\n",
              "  }\n",
              "\n",
              "  var NB_LOAD_WARNING = {'data': {'text/html':\n",
              "     \"<div style='background-color: #fdd'>\\n\"+\n",
              "     \"<p>\\n\"+\n",
              "     \"BokehJS does not appear to have successfully loaded. If loading BokehJS from CDN, this \\n\"+\n",
              "     \"may be due to a slow or bad network connection. Possible fixes:\\n\"+\n",
              "     \"</p>\\n\"+\n",
              "     \"<ul>\\n\"+\n",
              "     \"<li>re-rerun `output_notebook()` to attempt to load from CDN again, or</li>\\n\"+\n",
              "     \"<li>use INLINE resources instead, as so:</li>\\n\"+\n",
              "     \"</ul>\\n\"+\n",
              "     \"<code>\\n\"+\n",
              "     \"from bokeh.resources import INLINE\\n\"+\n",
              "     \"output_notebook(resources=INLINE)\\n\"+\n",
              "     \"</code>\\n\"+\n",
              "     \"</div>\"}};\n",
              "\n",
              "  function display_loaded() {\n",
              "    var el = document.getElementById(null);\n",
              "    if (el != null) {\n",
              "      el.textContent = \"BokehJS is loading...\";\n",
              "    }\n",
              "    if (root.Bokeh !== undefined) {\n",
              "      if (el != null) {\n",
              "        el.textContent = \"BokehJS \" + root.Bokeh.version + \" successfully loaded.\";\n",
              "      }\n",
              "    } else if (Date.now() < root._bokeh_timeout) {\n",
              "      setTimeout(display_loaded, 100)\n",
              "    }\n",
              "  }\n",
              "\n",
              "\n",
              "  function run_callbacks() {\n",
              "    try {\n",
              "      root._bokeh_onload_callbacks.forEach(function(callback) {\n",
              "        if (callback != null)\n",
              "          callback();\n",
              "      });\n",
              "    } finally {\n",
              "      delete root._bokeh_onload_callbacks\n",
              "    }\n",
              "    console.debug(\"Bokeh: all callbacks have finished\");\n",
              "  }\n",
              "\n",
              "  function load_libs(css_urls, js_urls, callback) {\n",
              "    if (css_urls == null) css_urls = [];\n",
              "    if (js_urls == null) js_urls = [];\n",
              "\n",
              "    root._bokeh_onload_callbacks.push(callback);\n",
              "    if (root._bokeh_is_loading > 0) {\n",
              "      console.debug(\"Bokeh: BokehJS is being loaded, scheduling callback at\", now());\n",
              "      return null;\n",
              "    }\n",
              "    if (js_urls == null || js_urls.length === 0) {\n",
              "      run_callbacks();\n",
              "      return null;\n",
              "    }\n",
              "    console.debug(\"Bokeh: BokehJS not loaded, scheduling load and callback at\", now());\n",
              "    root._bokeh_is_loading = css_urls.length + js_urls.length;\n",
              "\n",
              "    function on_load() {\n",
              "      root._bokeh_is_loading--;\n",
              "      if (root._bokeh_is_loading === 0) {\n",
              "        console.debug(\"Bokeh: all BokehJS libraries/stylesheets loaded\");\n",
              "        run_callbacks()\n",
              "      }\n",
              "    }\n",
              "\n",
              "    function on_error(url) {\n",
              "      console.error(\"failed to load \" + url);\n",
              "    }\n",
              "\n",
              "    for (let i = 0; i < css_urls.length; i++) {\n",
              "      const url = css_urls[i];\n",
              "      const element = document.createElement(\"link\");\n",
              "      element.onload = on_load;\n",
              "      element.onerror = on_error.bind(null, url);\n",
              "      element.rel = \"stylesheet\";\n",
              "      element.type = \"text/css\";\n",
              "      element.href = url;\n",
              "      console.debug(\"Bokeh: injecting link tag for BokehJS stylesheet: \", url);\n",
              "      document.body.appendChild(element);\n",
              "    }\n",
              "\n",
              "    const hashes = {\"https://cdn.bokeh.org/bokeh/release/bokeh-2.3.3.min.js\": \"dM3QQsP+wXdHg42wTqW85BjZQdLNNIXqlPw/BgKoExPmTG7ZLML4EGqLMfqHT6ON\", \"https://cdn.bokeh.org/bokeh/release/bokeh-tables-2.3.3.min.js\": \"8x57I4YuIfu8XyZfFo0XVr2WAT8EK4rh/uDe3wF7YuW2FNUSNEpJbsPaB1nJ2fz2\", \"https://cdn.bokeh.org/bokeh/release/bokeh-widgets-2.3.3.min.js\": \"3QTqdz9LyAm2i0sG5XTePsHec3UHWwVsrOL68SYRoAXsafvfAyqtQ+h440+qIBhS\"};\n",
              "\n",
              "    for (let i = 0; i < js_urls.length; i++) {\n",
              "      const url = js_urls[i];\n",
              "      const element = document.createElement('script');\n",
              "      element.onload = on_load;\n",
              "      element.onerror = on_error.bind(null, url);\n",
              "      element.async = false;\n",
              "      element.src = url;\n",
              "      if (url in hashes) {\n",
              "        element.crossOrigin = \"anonymous\";\n",
              "        element.integrity = \"sha384-\" + hashes[url];\n",
              "      }\n",
              "      console.debug(\"Bokeh: injecting script tag for BokehJS library: \", url);\n",
              "      document.head.appendChild(element);\n",
              "    }\n",
              "  };\n",
              "\n",
              "  function inject_raw_css(css) {\n",
              "    const element = document.createElement(\"style\");\n",
              "    element.appendChild(document.createTextNode(css));\n",
              "    document.body.appendChild(element);\n",
              "  }\n",
              "\n",
              "  \n",
              "  var js_urls = [\"https://cdn.bokeh.org/bokeh/release/bokeh-2.3.3.min.js\", \"https://cdn.bokeh.org/bokeh/release/bokeh-widgets-2.3.3.min.js\", \"https://cdn.bokeh.org/bokeh/release/bokeh-tables-2.3.3.min.js\"];\n",
              "  var css_urls = [];\n",
              "  \n",
              "\n",
              "  var inline_js = [\n",
              "    function(Bokeh) {\n",
              "      Bokeh.set_log_level(\"info\");\n",
              "    },\n",
              "    function(Bokeh) {\n",
              "    \n",
              "    \n",
              "    }\n",
              "  ];\n",
              "\n",
              "  function run_inline_js() {\n",
              "    \n",
              "    if (root.Bokeh !== undefined || force === true) {\n",
              "      \n",
              "    for (var i = 0; i < inline_js.length; i++) {\n",
              "      inline_js[i].call(root, root.Bokeh);\n",
              "    }\n",
              "    } else if (Date.now() < root._bokeh_timeout) {\n",
              "      setTimeout(run_inline_js, 100);\n",
              "    } else if (!root._bokeh_failed_load) {\n",
              "      console.log(\"Bokeh: BokehJS failed to load within specified timeout.\");\n",
              "      root._bokeh_failed_load = true;\n",
              "    } else if (force !== true) {\n",
              "      var cell = $(document.getElementById(null)).parents('.cell').data().cell;\n",
              "      cell.output_area.append_execute_result(NB_LOAD_WARNING)\n",
              "    }\n",
              "\n",
              "  }\n",
              "\n",
              "  if (root._bokeh_is_loading === 0) {\n",
              "    console.debug(\"Bokeh: BokehJS loaded, going straight to plotting\");\n",
              "    run_inline_js();\n",
              "  } else {\n",
              "    load_libs(css_urls, js_urls, function() {\n",
              "      console.debug(\"Bokeh: BokehJS plotting callback run at\", now());\n",
              "      run_inline_js();\n",
              "    });\n",
              "  }\n",
              "}(window));"
            ],
            "application/vnd.bokehjs_load.v0+json": "\n(function(root) {\n  function now() {\n    return new Date();\n  }\n\n  var force = true;\n\n  if (typeof root._bokeh_onload_callbacks === \"undefined\" || force === true) {\n    root._bokeh_onload_callbacks = [];\n    root._bokeh_is_loading = undefined;\n  }\n\n  \n\n  \n  if (typeof (root._bokeh_timeout) === \"undefined\" || force === true) {\n    root._bokeh_timeout = Date.now() + 5000;\n    root._bokeh_failed_load = false;\n  }\n\n  var NB_LOAD_WARNING = {'data': {'text/html':\n     \"<div style='background-color: #fdd'>\\n\"+\n     \"<p>\\n\"+\n     \"BokehJS does not appear to have successfully loaded. If loading BokehJS from CDN, this \\n\"+\n     \"may be due to a slow or bad network connection. Possible fixes:\\n\"+\n     \"</p>\\n\"+\n     \"<ul>\\n\"+\n     \"<li>re-rerun `output_notebook()` to attempt to load from CDN again, or</li>\\n\"+\n     \"<li>use INLINE resources instead, as so:</li>\\n\"+\n     \"</ul>\\n\"+\n     \"<code>\\n\"+\n     \"from bokeh.resources import INLINE\\n\"+\n     \"output_notebook(resources=INLINE)\\n\"+\n     \"</code>\\n\"+\n     \"</div>\"}};\n\n  function display_loaded() {\n    var el = document.getElementById(null);\n    if (el != null) {\n      el.textContent = \"BokehJS is loading...\";\n    }\n    if (root.Bokeh !== undefined) {\n      if (el != null) {\n        el.textContent = \"BokehJS \" + root.Bokeh.version + \" successfully loaded.\";\n      }\n    } else if (Date.now() < root._bokeh_timeout) {\n      setTimeout(display_loaded, 100)\n    }\n  }\n\n\n  function run_callbacks() {\n    try {\n      root._bokeh_onload_callbacks.forEach(function(callback) {\n        if (callback != null)\n          callback();\n      });\n    } finally {\n      delete root._bokeh_onload_callbacks\n    }\n    console.debug(\"Bokeh: all callbacks have finished\");\n  }\n\n  function load_libs(css_urls, js_urls, callback) {\n    if (css_urls == null) css_urls = [];\n    if (js_urls == null) js_urls = [];\n\n    root._bokeh_onload_callbacks.push(callback);\n    if (root._bokeh_is_loading > 0) {\n      console.debug(\"Bokeh: BokehJS is being loaded, scheduling callback at\", now());\n      return null;\n    }\n    if (js_urls == null || js_urls.length === 0) {\n      run_callbacks();\n      return null;\n    }\n    console.debug(\"Bokeh: BokehJS not loaded, scheduling load and callback at\", now());\n    root._bokeh_is_loading = css_urls.length + js_urls.length;\n\n    function on_load() {\n      root._bokeh_is_loading--;\n      if (root._bokeh_is_loading === 0) {\n        console.debug(\"Bokeh: all BokehJS libraries/stylesheets loaded\");\n        run_callbacks()\n      }\n    }\n\n    function on_error(url) {\n      console.error(\"failed to load \" + url);\n    }\n\n    for (let i = 0; i < css_urls.length; i++) {\n      const url = css_urls[i];\n      const element = document.createElement(\"link\");\n      element.onload = on_load;\n      element.onerror = on_error.bind(null, url);\n      element.rel = \"stylesheet\";\n      element.type = \"text/css\";\n      element.href = url;\n      console.debug(\"Bokeh: injecting link tag for BokehJS stylesheet: \", url);\n      document.body.appendChild(element);\n    }\n\n    const hashes = {\"https://cdn.bokeh.org/bokeh/release/bokeh-2.3.3.min.js\": \"dM3QQsP+wXdHg42wTqW85BjZQdLNNIXqlPw/BgKoExPmTG7ZLML4EGqLMfqHT6ON\", \"https://cdn.bokeh.org/bokeh/release/bokeh-tables-2.3.3.min.js\": \"8x57I4YuIfu8XyZfFo0XVr2WAT8EK4rh/uDe3wF7YuW2FNUSNEpJbsPaB1nJ2fz2\", \"https://cdn.bokeh.org/bokeh/release/bokeh-widgets-2.3.3.min.js\": \"3QTqdz9LyAm2i0sG5XTePsHec3UHWwVsrOL68SYRoAXsafvfAyqtQ+h440+qIBhS\"};\n\n    for (let i = 0; i < js_urls.length; i++) {\n      const url = js_urls[i];\n      const element = document.createElement('script');\n      element.onload = on_load;\n      element.onerror = on_error.bind(null, url);\n      element.async = false;\n      element.src = url;\n      if (url in hashes) {\n        element.crossOrigin = \"anonymous\";\n        element.integrity = \"sha384-\" + hashes[url];\n      }\n      console.debug(\"Bokeh: injecting script tag for BokehJS library: \", url);\n      document.head.appendChild(element);\n    }\n  };\n\n  function inject_raw_css(css) {\n    const element = document.createElement(\"style\");\n    element.appendChild(document.createTextNode(css));\n    document.body.appendChild(element);\n  }\n\n  \n  var js_urls = [\"https://cdn.bokeh.org/bokeh/release/bokeh-2.3.3.min.js\", \"https://cdn.bokeh.org/bokeh/release/bokeh-widgets-2.3.3.min.js\", \"https://cdn.bokeh.org/bokeh/release/bokeh-tables-2.3.3.min.js\"];\n  var css_urls = [];\n  \n\n  var inline_js = [\n    function(Bokeh) {\n      Bokeh.set_log_level(\"info\");\n    },\n    function(Bokeh) {\n    \n    \n    }\n  ];\n\n  function run_inline_js() {\n    \n    if (root.Bokeh !== undefined || force === true) {\n      \n    for (var i = 0; i < inline_js.length; i++) {\n      inline_js[i].call(root, root.Bokeh);\n    }\n    } else if (Date.now() < root._bokeh_timeout) {\n      setTimeout(run_inline_js, 100);\n    } else if (!root._bokeh_failed_load) {\n      console.log(\"Bokeh: BokehJS failed to load within specified timeout.\");\n      root._bokeh_failed_load = true;\n    } else if (force !== true) {\n      var cell = $(document.getElementById(null)).parents('.cell').data().cell;\n      cell.output_area.append_execute_result(NB_LOAD_WARNING)\n    }\n\n  }\n\n  if (root._bokeh_is_loading === 0) {\n    console.debug(\"Bokeh: BokehJS loaded, going straight to plotting\");\n    run_inline_js();\n  } else {\n    load_libs(css_urls, js_urls, function() {\n      console.debug(\"Bokeh: BokehJS plotting callback run at\", now());\n      run_inline_js();\n    });\n  }\n}(window));"
          },
          "metadata": {}
        },
        {
          "output_type": "display_data",
          "data": {
            "text/html": [
              "\n",
              "\n",
              "\n",
              "\n",
              "\n",
              "\n",
              "  <div class=\"bk-root\" id=\"1fdf7966-5081-4171-9617-f3b9ff728676\" data-root-id=\"3531\"></div>\n"
            ]
          },
          "metadata": {}
        },
        {
          "output_type": "display_data",
          "data": {
            "application/javascript": [
              "(function(root) {\n",
              "  function embed_document(root) {\n",
              "    \n",
              "  var docs_json = {\"0f53150e-b741-4f85-9512-d0764c83e584\":{\"defs\":[],\"roots\":{\"references\":[{\"attributes\":{\"below\":[{\"id\":\"3540\"}],\"center\":[{\"id\":\"3543\"},{\"id\":\"3547\"}],\"left\":[{\"id\":\"3544\"}],\"renderers\":[{\"id\":\"3559\"},{\"id\":\"3604\"}],\"title\":{\"id\":\"3532\"},\"toolbar\":{\"id\":\"3553\"},\"x_range\":{\"id\":\"3529\"},\"x_scale\":{\"id\":\"3536\"},\"y_range\":{\"id\":\"3530\"},\"y_scale\":{\"id\":\"3538\"}},\"id\":\"3531\",\"subtype\":\"Figure\",\"type\":\"Plot\"},{\"attributes\":{},\"id\":\"3545\",\"type\":\"BasicTicker\"},{\"attributes\":{\"source\":{\"id\":\"3561\"}},\"id\":\"3563\",\"type\":\"CDSView\"},{\"attributes\":{\"edge_renderer\":{\"id\":\"3566\"},\"inspection_policy\":{\"id\":\"3601\"},\"layout_provider\":{\"id\":\"3568\"},\"node_renderer\":{\"id\":\"3562\"},\"selection_policy\":{\"id\":\"3599\"}},\"id\":\"3559\",\"type\":\"GraphRenderer\"},{\"attributes\":{},\"id\":\"3549\",\"type\":\"WheelZoomTool\"},{\"attributes\":{},\"id\":\"3802\",\"type\":\"AllLabels\"},{\"attributes\":{},\"id\":\"3803\",\"type\":\"BasicTickFormatter\"},{\"attributes\":{},\"id\":\"3808\",\"type\":\"UnionRenderers\"},{\"attributes\":{},\"id\":\"3809\",\"type\":\"Selection\"},{\"attributes\":{},\"id\":\"3811\",\"type\":\"Selection\"},{\"attributes\":{},\"id\":\"3601\",\"type\":\"NodesAndLinkedEdges\"},{\"attributes\":{\"axis\":{\"id\":\"3540\"},\"ticker\":null},\"id\":\"3543\",\"type\":\"Grid\"},{\"attributes\":{\"line_alpha\":{\"value\":0.3}},\"id\":\"3584\",\"type\":\"MultiLine\"},{\"attributes\":{\"graph_layout\":{\"Acidity (pH)\":[-3.5505368776556065,2.5395248875331675],\"Archiving evidence of past ecosystem processes\":[4.786277968469975,-1.1748947152100135],\"Archiving evidence of past human activities\":[3.824826073062033,0.06164931281296963],\"Bulk Density\":[-5.007316646112336,3.3917685008811302],\"Capturing Critical Zone processes\":[-3.6679005719422566,-1.159658302383244],\"Carbon Content\":[-1.0707858509418395,-1.0253065367000285],\"Colour\":[1.5272792508533546,5.070677152393752],\"Compaction\":[2.9481829946878406,3.3126364729154334],\"Erosion\":[-0.7071635114843967,2.024700899812961],\"Evidencing ecosystem processes\":[-2.288885478226997,3.380304678700225],\"Evidencing human-ecosystem interactions\":[2.4051731375304475,1.8906621068324496],\"Forming rural landscapes\":[-2.429351042302223,-6.336469730387742],\"Inorganic inclusions\":[6.590623003707554,2.394059607922136],\"Modification\":[4.057289395108871,-7.247261028634234],\"Moisture\":[-0.09439624799412615,-2.0194526043791643],\"Nutrient Content \":[2.300452629513447,-1.745878550918663],\"Organic Matter Content\":[-0.2167084269203047,-0.9375017881083569],\"Organisms present\":[-6.190655908480581,7.042784703416053],\"Porosity \":[1.3430656616835404,-0.3040588220928871],\"Regulating Climate\":[-5.2635149930811105,-2.054999025647286],\"Resistivity \":[10.0,-1.2822348698215167],\"Restoration\":[-0.2298585494802232,3.6148373313120183],\"Storing Carbon\":[-1.382429731012594,1.0095844324789904],\"Structure\":[-1.9120184182415982,-2.637833895511091],\"Supporting a living ecosystem\":[-2.6412398319814536,1.147172572615245],\"Sustaining animal health\":[-0.04538882599911312,-4.859069433101808],\"Sustaining human health\":[1.6189441841809662,-4.595908930245814],\"Sustaining plant health\":[0.2650957000867779,1.431920668972363],\"Temperature\":[-6.027237714230311,1.428334887786459],\"Texture\":[1.0581786272022944,-2.3600899832435265]}},\"id\":\"3568\",\"type\":\"StaticLayoutProvider\"},{\"attributes\":{\"callback\":null,\"tooltips\":[[\"concept\",\"@index\"],[\"Degree\",\"@degree\"],[\"Modularity Class\",\"@modularity_class\"],[\"Modularity Color\",\"$color[swatch]:modularity_color\"]]},\"id\":\"3552\",\"type\":\"HoverTool\"},{\"attributes\":{\"source\":{\"id\":\"3565\"}},\"id\":\"3567\",\"type\":\"CDSView\"},{\"attributes\":{},\"id\":\"3599\",\"type\":\"NodesAndLinkedEdges\"},{\"attributes\":{\"data_source\":{\"id\":\"3561\"},\"glyph\":{\"id\":\"3569\"},\"hover_glyph\":{\"id\":\"3574\"},\"muted_glyph\":null,\"selection_glyph\":{\"id\":\"3579\"},\"view\":{\"id\":\"3563\"}},\"id\":\"3562\",\"type\":\"GlyphRenderer\"},{\"attributes\":{\"fill_color\":{\"field\":\"modularity_color\"},\"size\":{\"field\":\"adjusted_node_size\"}},\"id\":\"3569\",\"type\":\"Circle\"},{\"attributes\":{\"data\":{\"name\":[\"Acidity (pH)\",\"Capturing Critical Zone processes\",\"Erosion\",\"Evidencing ecosystem processes\",\"Evidencing human-ecosystem interactions\",\"Regulating Climate\",\"Restoration\",\"Storing Carbon\",\"Supporting a living ecosystem\",\"Sustaining plant health\",\"Bulk Density\",\"Carbon Content\",\"Archiving evidence of past ecosystem processes\",\"Archiving evidence of past human activities\",\"Forming rural landscapes\",\"Sustaining animal health\",\"Sustaining human health\",\"Colour\",\"Compaction\",\"Inorganic inclusions\",\"Moisture\",\"Modification\",\"Nutrient Content \",\"Organic Matter Content\",\"Organisms present\",\"Porosity \",\"Resistivity \",\"Structure\",\"Temperature\",\"Texture\"],\"x\":[-3.5505368776556065,-3.6679005719422566,-0.7071635114843967,-2.288885478226997,2.4051731375304475,-5.2635149930811105,-0.2298585494802232,-1.382429731012594,-2.6412398319814536,0.2650957000867779,-5.007316646112336,-1.0707858509418395,4.786277968469975,3.824826073062033,-2.429351042302223,-0.04538882599911312,1.6189441841809662,1.5272792508533546,2.9481829946878406,6.590623003707554,-0.09439624799412615,4.057289395108871,2.300452629513447,-0.2167084269203047,-6.190655908480581,1.3430656616835404,10.0,-1.9120184182415982,-6.027237714230311,1.0581786272022944],\"y\":[2.5395248875331675,-1.159658302383244,2.024700899812961,3.380304678700225,1.8906621068324496,-2.054999025647286,3.6148373313120183,1.0095844324789904,1.147172572615245,1.431920668972363,3.3917685008811302,-1.0253065367000285,-1.1748947152100135,0.06164931281296963,-6.336469730387742,-4.859069433101808,-4.595908930245814,5.070677152393752,3.3126364729154334,2.394059607922136,-2.0194526043791643,-7.247261028634234,-1.745878550918663,-0.9375017881083569,7.042784703416053,-0.3040588220928871,-1.2822348698215167,-2.637833895511091,1.428334887786459,-2.3600899832435265]},\"selected\":{\"id\":\"3807\"},\"selection_policy\":{\"id\":\"3806\"}},\"id\":\"3603\",\"type\":\"ColumnDataSource\"},{\"attributes\":{\"fill_color\":{\"value\":\"white\"},\"line_width\":{\"value\":2},\"size\":{\"field\":\"adjusted_node_size\"}},\"id\":\"3574\",\"type\":\"Circle\"},{\"attributes\":{\"active_multi\":null,\"active_scroll\":{\"id\":\"3549\"},\"tools\":[{\"id\":\"3548\"},{\"id\":\"3549\"},{\"id\":\"3550\"},{\"id\":\"3551\"},{\"id\":\"3552\"}]},\"id\":\"3553\",\"type\":\"Toolbar\"},{\"attributes\":{\"axis\":{\"id\":\"3544\"},\"dimension\":1,\"ticker\":null},\"id\":\"3547\",\"type\":\"Grid\"},{\"attributes\":{},\"id\":\"3805\",\"type\":\"AllLabels\"},{\"attributes\":{\"formatter\":{\"id\":\"3800\"},\"major_label_policy\":{\"id\":\"3802\"},\"ticker\":{\"id\":\"3545\"}},\"id\":\"3544\",\"type\":\"LinearAxis\"},{\"attributes\":{},\"id\":\"3807\",\"type\":\"Selection\"},{\"attributes\":{},\"id\":\"3538\",\"type\":\"LinearScale\"},{\"attributes\":{},\"id\":\"3548\",\"type\":\"PanTool\"},{\"attributes\":{},\"id\":\"3536\",\"type\":\"LinearScale\"},{\"attributes\":{\"text\":\"soil health and heritage\"},\"id\":\"3532\",\"type\":\"Title\"},{\"attributes\":{},\"id\":\"3551\",\"type\":\"ResetTool\"},{\"attributes\":{},\"id\":\"3800\",\"type\":\"BasicTickFormatter\"},{\"attributes\":{},\"id\":\"3541\",\"type\":\"BasicTicker\"},{\"attributes\":{\"background_fill_alpha\":{\"value\":0.7},\"background_fill_color\":{\"value\":\"white\"},\"source\":{\"id\":\"3603\"},\"text\":{\"field\":\"name\"},\"text_font_size\":{\"value\":\"10px\"},\"x\":{\"field\":\"x\"},\"y\":{\"field\":\"y\"}},\"id\":\"3604\",\"type\":\"LabelSet\"},{\"attributes\":{\"end\":10.1,\"start\":-10.1},\"id\":\"3529\",\"type\":\"Range1d\"},{\"attributes\":{\"data\":{\"end\":[\"Capturing Critical Zone processes\",\"Erosion\",\"Evidencing ecosystem processes\",\"Evidencing human-ecosystem interactions\",\"Regulating Climate\",\"Restoration\",\"Storing Carbon\",\"Supporting a living ecosystem\",\"Sustaining plant health\",\"Bulk Density\",\"Carbon Content\",\"Moisture\",\"Organic Matter Content\",\"Porosity \",\"Structure\",\"Texture\",\"Bulk Density\",\"Carbon Content\",\"Colour\",\"Compaction\",\"Moisture\",\"Organic Matter Content\",\"Porosity \",\"Structure\",\"Texture\",\"Carbon Content\",\"Colour\",\"Moisture\",\"Nutrient Content \",\"Organic Matter Content\",\"Organisms present\",\"Temperature\",\"Carbon Content\",\"Colour\",\"Compaction\",\"Inorganic inclusions\",\"Moisture\",\"Nutrient Content \",\"Organic Matter Content\",\"Porosity \",\"Carbon Content\",\"Moisture\",\"Organic Matter Content\",\"Structure\",\"Temperature\",\"Carbon Content\",\"Moisture\",\"Organic Matter Content\",\"Porosity \",\"Bulk Density\",\"Carbon Content\",\"Colour\",\"Compaction\",\"Moisture\",\"Nutrient Content \",\"Organic Matter Content\",\"Porosity \",\"Structure\",\"Temperature\",\"Texture\",\"Bulk Density\",\"Carbon Content\",\"Compaction\",\"Moisture\",\"Nutrient Content \",\"Organic Matter Content\",\"Organisms present\",\"Porosity \",\"Structure\",\"Temperature\",\"Texture\",\"Bulk Density\",\"Carbon Content\",\"Colour\",\"Compaction\",\"Inorganic inclusions\",\"Moisture\",\"Nutrient Content \",\"Organic Matter Content\",\"Porosity \",\"Structure\",\"Temperature\",\"Texture\",\"Archiving evidence of past ecosystem processes\",\"Archiving evidence of past human activities\",\"Forming rural landscapes\",\"Sustaining animal health\",\"Sustaining human health\",\"Compaction\",\"Inorganic inclusions\",\"Moisture\",\"Nutrient Content \",\"Organic Matter Content\",\"Porosity \",\"Resistivity \",\"Texture\",\"Colour\",\"Compaction\",\"Inorganic inclusions\",\"Moisture\",\"Nutrient Content \",\"Organic Matter Content\",\"Porosity \",\"Resistivity \",\"Structure\",\"Texture\",\"Moisture\",\"Organic Matter Content\",\"Moisture\",\"Nutrient Content \",\"Organic Matter Content\",\"Porosity \",\"Structure\",\"Texture\",\"Moisture\",\"Nutrient Content \",\"Organic Matter Content\",\"Porosity \",\"Structure\",\"Texture\",\"Modification\",\"Nutrient Content \"],\"start\":[\"Acidity (pH)\",\"Acidity (pH)\",\"Acidity (pH)\",\"Acidity (pH)\",\"Acidity (pH)\",\"Acidity (pH)\",\"Acidity (pH)\",\"Acidity (pH)\",\"Acidity (pH)\",\"Capturing Critical Zone processes\",\"Capturing Critical Zone processes\",\"Capturing Critical Zone processes\",\"Capturing Critical Zone processes\",\"Capturing Critical Zone processes\",\"Capturing Critical Zone processes\",\"Capturing Critical Zone processes\",\"Erosion\",\"Erosion\",\"Erosion\",\"Erosion\",\"Erosion\",\"Erosion\",\"Erosion\",\"Erosion\",\"Erosion\",\"Evidencing ecosystem processes\",\"Evidencing ecosystem processes\",\"Evidencing ecosystem processes\",\"Evidencing ecosystem processes\",\"Evidencing ecosystem processes\",\"Evidencing ecosystem processes\",\"Evidencing ecosystem processes\",\"Evidencing human-ecosystem interactions\",\"Evidencing human-ecosystem interactions\",\"Evidencing human-ecosystem interactions\",\"Evidencing human-ecosystem interactions\",\"Evidencing human-ecosystem interactions\",\"Evidencing human-ecosystem interactions\",\"Evidencing human-ecosystem interactions\",\"Evidencing human-ecosystem interactions\",\"Regulating Climate\",\"Regulating Climate\",\"Regulating Climate\",\"Regulating Climate\",\"Regulating Climate\",\"Restoration\",\"Restoration\",\"Restoration\",\"Restoration\",\"Storing Carbon\",\"Storing Carbon\",\"Storing Carbon\",\"Storing Carbon\",\"Storing Carbon\",\"Storing Carbon\",\"Storing Carbon\",\"Storing Carbon\",\"Storing Carbon\",\"Storing Carbon\",\"Storing Carbon\",\"Supporting a living ecosystem\",\"Supporting a living ecosystem\",\"Supporting a living ecosystem\",\"Supporting a living ecosystem\",\"Supporting a living ecosystem\",\"Supporting a living ecosystem\",\"Supporting a living ecosystem\",\"Supporting a living ecosystem\",\"Supporting a living ecosystem\",\"Supporting a living ecosystem\",\"Supporting a living ecosystem\",\"Sustaining plant health\",\"Sustaining plant health\",\"Sustaining plant health\",\"Sustaining plant health\",\"Sustaining plant health\",\"Sustaining plant health\",\"Sustaining plant health\",\"Sustaining plant health\",\"Sustaining plant health\",\"Sustaining plant health\",\"Sustaining plant health\",\"Sustaining plant health\",\"Carbon Content\",\"Carbon Content\",\"Carbon Content\",\"Carbon Content\",\"Carbon Content\",\"Archiving evidence of past ecosystem processes\",\"Archiving evidence of past ecosystem processes\",\"Archiving evidence of past ecosystem processes\",\"Archiving evidence of past ecosystem processes\",\"Archiving evidence of past ecosystem processes\",\"Archiving evidence of past ecosystem processes\",\"Archiving evidence of past ecosystem processes\",\"Archiving evidence of past ecosystem processes\",\"Archiving evidence of past human activities\",\"Archiving evidence of past human activities\",\"Archiving evidence of past human activities\",\"Archiving evidence of past human activities\",\"Archiving evidence of past human activities\",\"Archiving evidence of past human activities\",\"Archiving evidence of past human activities\",\"Archiving evidence of past human activities\",\"Archiving evidence of past human activities\",\"Archiving evidence of past human activities\",\"Forming rural landscapes\",\"Forming rural landscapes\",\"Sustaining animal health\",\"Sustaining animal health\",\"Sustaining animal health\",\"Sustaining animal health\",\"Sustaining animal health\",\"Sustaining animal health\",\"Sustaining human health\",\"Sustaining human health\",\"Sustaining human health\",\"Sustaining human health\",\"Sustaining human health\",\"Sustaining human health\",\"Moisture\",\"Modification\"]},\"selected\":{\"id\":\"3811\"},\"selection_policy\":{\"id\":\"3810\"}},\"id\":\"3565\",\"type\":\"ColumnDataSource\"},{\"attributes\":{\"data_source\":{\"id\":\"3565\"},\"glyph\":{\"id\":\"3584\"},\"hover_glyph\":{\"id\":\"3594\"},\"muted_glyph\":null,\"selection_glyph\":{\"id\":\"3589\"},\"view\":{\"id\":\"3567\"}},\"id\":\"3566\",\"type\":\"GlyphRenderer\"},{\"attributes\":{},\"id\":\"3550\",\"type\":\"SaveTool\"},{\"attributes\":{\"end\":10.1,\"start\":-10.1},\"id\":\"3530\",\"type\":\"Range1d\"},{\"attributes\":{\"data\":{\"adjusted_node_size\":[14,13,15,13,14,11,10,17,17,18,10,19,14,16,8,12,12,11,12,9,20,7,15,19,7,16,7,14,10,14],\"degree\":[9,8,10,8,9,6,5,12,12,13,5,14,9,11,3,7,7,6,7,4,15,2,10,14,2,11,2,9,5,9],\"index\":[\"Acidity (pH)\",\"Capturing Critical Zone processes\",\"Erosion\",\"Evidencing ecosystem processes\",\"Evidencing human-ecosystem interactions\",\"Regulating Climate\",\"Restoration\",\"Storing Carbon\",\"Supporting a living ecosystem\",\"Sustaining plant health\",\"Bulk Density\",\"Carbon Content\",\"Archiving evidence of past ecosystem processes\",\"Archiving evidence of past human activities\",\"Forming rural landscapes\",\"Sustaining animal health\",\"Sustaining human health\",\"Colour\",\"Compaction\",\"Inorganic inclusions\",\"Moisture\",\"Modification\",\"Nutrient Content \",\"Organic Matter Content\",\"Organisms present\",\"Porosity \",\"Resistivity \",\"Structure\",\"Temperature\",\"Texture\"],\"modularity_class\":[1,2,0,1,0,1,1,2,1,0,2,1,0,0,1,2,2,0,0,0,2,2,2,1,1,0,0,2,1,2],\"modularity_color\":[\"#66c2a5\",\"#abdda4\",\"#3288bd\",\"#66c2a5\",\"#3288bd\",\"#66c2a5\",\"#66c2a5\",\"#abdda4\",\"#66c2a5\",\"#3288bd\",\"#abdda4\",\"#66c2a5\",\"#3288bd\",\"#3288bd\",\"#66c2a5\",\"#abdda4\",\"#abdda4\",\"#3288bd\",\"#3288bd\",\"#3288bd\",\"#abdda4\",\"#abdda4\",\"#abdda4\",\"#66c2a5\",\"#66c2a5\",\"#3288bd\",\"#3288bd\",\"#abdda4\",\"#66c2a5\",\"#abdda4\"]},\"selected\":{\"id\":\"3809\"},\"selection_policy\":{\"id\":\"3808\"}},\"id\":\"3561\",\"type\":\"ColumnDataSource\"},{\"attributes\":{\"fill_color\":{\"value\":\"white\"},\"line_width\":{\"value\":2},\"size\":{\"field\":\"adjusted_node_size\"}},\"id\":\"3579\",\"type\":\"Circle\"},{\"attributes\":{},\"id\":\"3806\",\"type\":\"UnionRenderers\"},{\"attributes\":{\"line_width\":{\"value\":2}},\"id\":\"3589\",\"type\":\"MultiLine\"},{\"attributes\":{\"line_width\":{\"value\":2}},\"id\":\"3594\",\"type\":\"MultiLine\"},{\"attributes\":{},\"id\":\"3810\",\"type\":\"UnionRenderers\"},{\"attributes\":{\"formatter\":{\"id\":\"3803\"},\"major_label_policy\":{\"id\":\"3805\"},\"ticker\":{\"id\":\"3541\"}},\"id\":\"3540\",\"type\":\"LinearAxis\"}],\"root_ids\":[\"3531\"]},\"title\":\"Bokeh Application\",\"version\":\"2.3.3\"}};\n",
              "  var render_items = [{\"docid\":\"0f53150e-b741-4f85-9512-d0764c83e584\",\"root_ids\":[\"3531\"],\"roots\":{\"3531\":\"1fdf7966-5081-4171-9617-f3b9ff728676\"}}];\n",
              "  root.Bokeh.embed.embed_items_notebook(docs_json, render_items);\n",
              "\n",
              "  }\n",
              "  if (root.Bokeh !== undefined) {\n",
              "    embed_document(root);\n",
              "  } else {\n",
              "    var attempts = 0;\n",
              "    var timer = setInterval(function(root) {\n",
              "      if (root.Bokeh !== undefined) {\n",
              "        clearInterval(timer);\n",
              "        embed_document(root);\n",
              "      } else {\n",
              "        attempts++;\n",
              "        if (attempts > 100) {\n",
              "          clearInterval(timer);\n",
              "          console.log(\"Bokeh: ERROR: Unable to run BokehJS code because BokehJS library is missing\");\n",
              "        }\n",
              "      }\n",
              "    }, 10, root)\n",
              "  }\n",
              "})(window);"
            ],
            "application/vnd.bokehjs_exec.v0+json": ""
          },
          "metadata": {
            "application/vnd.bokehjs_exec.v0+json": {
              "id": "3531"
            }
          }
        }
      ],
      "source": [
        "#Choose colors for node and edge highlighting\n",
        "node_highlight_color = 'white'\n",
        "edge_highlight_color = 'black'\n",
        "\n",
        "#Choose attributes from G network to size and color by — setting manual size (e.g. 10) or color (e.g. 'skyblue') also allowed\n",
        "size_by_this_attribute = 'adjusted_node_size'\n",
        "color_by_this_attribute = 'modularity_color'\n",
        "\n",
        "#Pick a color palette — Blues8, Reds8, Purples8, Oranges8, Viridis8\n",
        "color_palette = Blues8\n",
        "\n",
        "#Choose a title!\n",
        "title = 'soil health and heritage'\n",
        "\n",
        "#Establish which categories will appear when hovering over each node\n",
        "HOVER_TOOLTIPS = [\n",
        "       (\"concept\", \"@index\"),\n",
        "        (\"Degree\", \"@degree\"),\n",
        "         (\"Modularity Class\", \"@modularity_class\"),\n",
        "        (\"Modularity Color\", \"$color[swatch]:modularity_color\"),\n",
        "]\n",
        "\n",
        "#Create a plot — set dimensions, toolbar, and title\n",
        "plot = figure(tooltips = HOVER_TOOLTIPS,\n",
        "              tools=\"pan,wheel_zoom,save,reset\", active_scroll='wheel_zoom',\n",
        "            x_range=Range1d(-10.1, 10.1), y_range=Range1d(-10.1, 10.1), title=title)\n",
        "\n",
        "#Create a network graph object\n",
        "# https://networkx.github.io/documentation/networkx-1.9/reference/generated/networkx.drawing.layout.spring_layout.html\n",
        "network_graph = from_networkx(G, networkx.spring_layout, scale=10, center=(0, 0))\n",
        "\n",
        "#Set node sizes and colors according to node degree (color as category from attribute)\n",
        "network_graph.node_renderer.glyph = Circle(size=size_by_this_attribute, fill_color=color_by_this_attribute)\n",
        "#Set node highlight colors\n",
        "network_graph.node_renderer.hover_glyph = Circle(size=size_by_this_attribute, fill_color=node_highlight_color, line_width=2)\n",
        "network_graph.node_renderer.selection_glyph = Circle(size=size_by_this_attribute, fill_color=node_highlight_color, line_width=2)\n",
        "\n",
        "#Set edge opacity and width\n",
        "network_graph.edge_renderer.glyph = MultiLine(line_alpha=0.3, line_width=1)\n",
        "#Set edge highlight colors\n",
        "network_graph.edge_renderer.selection_glyph = MultiLine(line_color=edge_highlight_color, line_width=2)\n",
        "network_graph.edge_renderer.hover_glyph = MultiLine(line_color=edge_highlight_color, line_width=2)\n",
        "\n",
        "#Highlight nodes and edges\n",
        "network_graph.selection_policy = NodesAndLinkedEdges()\n",
        "network_graph.inspection_policy = NodesAndLinkedEdges()\n",
        "\n",
        "plot.renderers.append(network_graph)\n",
        "\n",
        "#Add Labels\n",
        "x, y = zip(*network_graph.layout_provider.graph_layout.values())\n",
        "node_labels = list(G.nodes())\n",
        "source = ColumnDataSource({'x': x, 'y': y, 'name': [node_labels[i] for i in range(len(x))]})\n",
        "labels = LabelSet(x='x', y='y', text='name', source=source, background_fill_color='white', text_font_size='10px', background_fill_alpha=.7)\n",
        "plot.renderers.append(labels)\n",
        "\n",
        "show(plot)\n",
        "#save(plot, filename=f\"{title}.html\")"
      ]
    },
    {
      "cell_type": "code",
      "source": [
        "from operator import itemgetter"
      ],
      "metadata": {
        "id": "LmQuUUkWhtEO"
      },
      "execution_count": 69,
      "outputs": []
    },
    {
      "cell_type": "code",
      "source": [
        "#Betweenness Centrality\n",
        "betweenness_dict = networkx.betweenness_centrality(G) #Create a dictionary and run the measurement\n",
        "networkx.set_node_attributes(G, betweenness_dict, 'Betweenness') #Add the betweeness centrality as an attribute to the nodes\n",
        "\n",
        "#We'll now sort the cities by their betweenness centrality and print a \"Top 5\" list\n",
        "sorted_betweenness = sorted(betweenness_dict.items(), key=itemgetter(1), reverse=True)\n",
        "\n",
        "print(\"Top 5 Concepts by Betweenness Centrality:\")\n",
        "for b in sorted_betweenness[:5]:\n",
        "    print(b)\n"
      ],
      "metadata": {
        "colab": {
          "base_uri": "https://localhost:8080/"
        },
        "id": "Jr7sYX6jhcjm",
        "outputId": "15eb5f43-ce93-421e-edf3-03f05a0371dc"
      },
      "execution_count": 72,
      "outputs": [
        {
          "output_type": "stream",
          "name": "stdout",
          "text": [
            "Top 5 Concepts by Betweenness Centrality:\n",
            "('Moisture', 0.12978910970052002)\n",
            "('Supporting a living ecosystem', 0.08855583454258253)\n",
            "('Carbon Content', 0.08796207142300787)\n",
            "('Organic Matter Content', 0.08796207142300787)\n",
            "('Sustaining plant health', 0.08035117215411909)\n"
          ]
        }
      ]
    },
    {
      "cell_type": "code",
      "source": [
        "#Let's create a dictionary to add the degree and run \"G.degree()\" in it.\n",
        "degree_dict = dict(G.degree(G.nodes()))\n",
        "networkx.set_node_attributes(G, degree_dict, 'degree') #We add the degree as an attribute to the nodes\n",
        "\n",
        "#Now we sort the nodes by degree, making sure to put the higher degrees first with \"reverse=True\"\n",
        "sorted_degree = sorted(degree_dict.items(), key=itemgetter(1), reverse=True)\n",
        "print(\"Concepts by Degree:\", sorted_degree) #Remember to print and name your list!"
      ],
      "metadata": {
        "colab": {
          "base_uri": "https://localhost:8080/"
        },
        "id": "cpHtIZvShEal",
        "outputId": "dd9494a9-bf4e-4676-b1ea-18a6aa592758"
      },
      "execution_count": 71,
      "outputs": [
        {
          "output_type": "stream",
          "name": "stdout",
          "text": [
            "Concepts by Degree: [('Moisture', 15), ('Carbon Content', 14), ('Organic Matter Content', 14), ('Sustaining plant health', 13), ('Storing Carbon', 12), ('Supporting a living ecosystem', 12), ('Archiving evidence of past human activities', 11), ('Porosity ', 11), ('Erosion', 10), ('Nutrient Content ', 10), ('Acidity (pH)', 9), ('Evidencing human-ecosystem interactions', 9), ('Archiving evidence of past ecosystem processes', 9), ('Structure', 9), ('Texture', 9), ('Capturing Critical Zone processes', 8), ('Evidencing ecosystem processes', 8), ('Sustaining animal health', 7), ('Sustaining human health', 7), ('Compaction', 7), ('Regulating Climate', 6), ('Colour', 6), ('Restoration', 5), ('Bulk Density', 5), ('Temperature', 5), ('Inorganic inclusions', 4), ('Forming rural landscapes', 3), ('Modification', 2), ('Organisms present', 2), ('Resistivity ', 2)]\n"
          ]
        }
      ]
    },
    {
      "cell_type": "code",
      "source": [
        "#Density Analysis\n",
        "density = networkx.density(G) #This calculates the density\n",
        "print(\"Concept Network Density:\", density) #Let's print it and name it so that we do not forget\n",
        "\n",
        "#Diameter Analysis\n",
        "diameter = networkx.diameter(G)\n",
        "print(\"Concept Network Diameter\", diameter)"
      ],
      "metadata": {
        "colab": {
          "base_uri": "https://localhost:8080/"
        },
        "id": "QY2X4Tn6iASv",
        "outputId": "6547cb7e-382a-4f84-a0c3-6b6dd4dfbe5d"
      },
      "execution_count": 74,
      "outputs": [
        {
          "output_type": "stream",
          "name": "stdout",
          "text": [
            "Concept Network Density: 0.28045977011494255\n",
            "Concept Network Diameter 4\n"
          ]
        }
      ]
    }
  ],
  "metadata": {
    "kernelspec": {
      "display_name": "Python 3",
      "language": "python",
      "name": "python3"
    },
    "language_info": {
      "codemirror_mode": {
        "name": "ipython",
        "version": 3
      },
      "file_extension": ".py",
      "mimetype": "text/x-python",
      "name": "python",
      "nbconvert_exporter": "python",
      "pygments_lexer": "ipython3",
      "version": "3.8.8"
    },
    "colab": {
      "name": "soil-concept-network-viz.ipynb",
      "provenance": [],
      "include_colab_link": true
    }
  },
  "nbformat": 4,
  "nbformat_minor": 0
}